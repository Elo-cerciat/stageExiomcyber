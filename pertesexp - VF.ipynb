{
 "cells": [
  {
   "cell_type": "markdown",
   "id": "b2dc6c47",
   "metadata": {},
   "source": [
    "# Outil modulable - Modélisation de la quantification du risque cyber"
   ]
  },
  {
   "cell_type": "markdown",
   "id": "815b67e8",
   "metadata": {},
   "source": [
    "Il existe plusieurs garanties cyber : \n",
    "\n",
    "    - pertes d'exploitation \n",
    "    - pertes financières liées à une rançon \n",
    "    - responsabilité civile \n",
    "    - fuite de données \n",
    "    - ..."
   ]
  },
  {
   "cell_type": "markdown",
   "id": "2c4fc422",
   "metadata": {},
   "source": [
    "Dans un premier temps, on se concentre sur une des garanties cyber : **pertes d'exploitation**. "
   ]
  },
  {
   "cell_type": "markdown",
   "id": "21802aed",
   "metadata": {},
   "source": [
    "La réflexion faite est la suivante : \n",
    "    \n",
    "    - pourquoi la garantie est-elle activée ? \n",
    "    \n",
    "    - quels impacts mesurables sur l'organisation ? (Comment obtenir ces infos?)\n",
    "    \n",
    "    - identifier les attaques cyber responsables \n",
    "    \n",
    "    - quelles failles utilisées ? \n",
    "    \n",
    "    - Proba(faille exp) ? Comment obtenir cette proba? \n",
    "    \n",
    "    - Estimer la fréquence d'activation de la garantie "
   ]
  },
  {
   "cell_type": "markdown",
   "id": "77eec363",
   "metadata": {},
   "source": [
    "**On rappelle que la définition du risque est la suivante : RISQUE = COÛTS x FREQUENCE**. Voici un exemple de la réflexion menée : \n",
    "\n",
    "<img>![image](Stage.png)"
   ]
  },
  {
   "cell_type": "markdown",
   "id": "208b98b7",
   "metadata": {},
   "source": [
    "Afin de palier le manque de données non encore disponibles par Cybastion, nous établissons des moyens pour créer nos propres données et récupérons sur internet les données les plus appropriées et légitimes."
   ]
  },
  {
   "cell_type": "markdown",
   "id": "78c7fdf3",
   "metadata": {},
   "source": [
    "Plusieurs types d'attaques peuvent être à l'origine d'une indisponibilité de services. On liste les principales : \n",
    "    \n",
    "    - DDoS\n",
    "    - Rançongiciel\n",
    "    - phishing..."
   ]
  },
  {
   "cell_type": "code",
   "execution_count": null,
   "id": "8631cc9f",
   "metadata": {},
   "outputs": [],
   "source": [
    "# bibliotheques Python -- faire le tri car certaines ne sont pas utiles\n",
    "import numpy as np \n",
    "import matplotlib.pyplot as plt\n",
    "import scipy as scp\n",
    "import pylab as pyl\n",
    "import pywt\n",
    "import pandas as pd\n",
    "import holoviews as hv\n",
    "import param\n",
    "import panel as pn\n",
    "from panel.pane import LaTeX\n",
    "hv.extension('bokeh')\n",
    "from panel.interact import interact\n",
    "from tabulate import tabulate\n",
    "from IPython.display import display, HTML\n",
    "import plotly.express as px\n",
    "import plotly.graph_objects as go\n",
    "import scipy.stats as stats\n",
    "import statsmodels.api as sm"
   ]
  },
  {
   "cell_type": "markdown",
   "id": "445afac8",
   "metadata": {},
   "source": [
    "# Table des Matières\n",
    "\n",
    "**BLOC FREQUENCE**\n",
    "\n",
    "**Survenance**\n",
    "- [Score caractéristiques entreprise](#score_etp)\n",
    "    - [Création et intégration profil](#int_profil)\n",
    "        - [Caractéristique salaire moyen par entreprise](#caracteristique-salaire)\n",
    "        - [Caractéristique Pays - Donnée constante à l'entreprise / ne dépend pas de l'attaque](#pays)\n",
    "    - [Calcul du score](#score_calcul)\n",
    "- [Fréquence apparition de l'attaque cyber](#frequence)\n",
    "    - [Attaque phishing](#attphishing)\n",
    "    - [Attaque ddos](#attddos)\n",
    "    - [Attaque ransomware](#attransomware)\n",
    "- [P(Ai,G)](#paig)\n",
    "- [Pc(Ai,G)](#pcaig)\n",
    "- [Vulnérabilités](#vulnerabilites)\n",
    "    - [CVE exploitables KEV](#CVEKEV)\n",
    "    - [CVE pour attaque Ai](#CVEAI)\n",
    "    - [CVE de l'entreprise C](#CVE_etp)\n",
    "    - [Intersection des 3 sous ensembles](#intersection)\n",
    "    - [Calcul du score EPSS pour chaque CVE](#EPSS)\n",
    "    - [P(CVEs entraînent Ai,G) à l'instant t pour entreprise C](#probacve)\n",
    "- [Pc(Ai,G) données historiques](#probahisto)\n",
    "- [Pc(Ai, G survienne)](#probasurvenance)\n",
    "   \n",
    "\n",
    "**Réussite**\n",
    "- [Facteur d'atténuation/aggravation réussite de l'attaque](#facteur_attenuation)\n",
    "    - [Protections SI](#protection_SI)\n",
    "    - [Impact selon attaque Ai](#impact)\n",
    "    - [Formations employés](#formation)\n",
    "        - [Formation risque cyber](#formation_cyber)\n",
    "        - [Formation risque phishing - données historiques sondage](#formation_phishing)\n",
    "    - [Caractéristiques entreprise](#cara_etp)\n",
    "        - [Age moyen des salariés](#age)\n",
    "    - [Fonction facteur](#fonction)\n",
    "\n",
    "    \n",
    "**Final**\n",
    "\n",
    "- [Proba finale fréquence x réussite](#finalfreq)\n",
    "\n",
    "\n",
    "**BLOC COUTS** \n",
    "\n",
    "- [Estimation des coûts](#fonctioncout)\n",
    "    - [Revenus mensuels](#mensuel)\n",
    "    - [Revenus journaliers](#jour)\n",
    "    - [Masse salariale](#massesalariale)\n",
    "    - [Couts previsionnels/jour - charges previsionnelles/jour](#coutsprev)\n",
    "    - [Multiplication finale](#calculfi)\n",
    "\n",
    "**BLOC RISQUE** \n",
    "- [Calcul du risque](#risque)\n",
    "    - [Méthode de simulations](#simu)\n",
    "- [Distribution des pertes globales](#global)\n",
    "- [Dashboard final](#final)\n",
    "\n",
    "\n",
    "\n",
    "**EXTENSIONS**\n",
    "\n",
    "\n",
    "- [Baromètre des conseils ANSSI](#barometre)\n",
    "- [Prévisions N+1 N+2](#previsions)"
   ]
  },
  {
   "cell_type": "markdown",
   "id": "e6a7238d",
   "metadata": {},
   "source": [
    "# *** BLOC FREQUENCE ***"
   ]
  },
  {
   "cell_type": "markdown",
   "id": "8cb49f75",
   "metadata": {},
   "source": [
    "# Score caractéristiques entreprise <a class=\"anchor\" id=\"score_etp\"></a>"
   ]
  },
  {
   "cell_type": "markdown",
   "id": "e2477ebb",
   "metadata": {},
   "source": [
    "## Création et intégration profil <a class=\"anchor\" id=\"int_profil\"></a>"
   ]
  },
  {
   "cell_type": "markdown",
   "id": "6c9f30b3",
   "metadata": {},
   "source": [
    "Imaginons des entreprises avec des caractéristiques différentes."
   ]
  },
  {
   "cell_type": "markdown",
   "id": "5ef6b1e7",
   "metadata": {},
   "source": [
    "> Secteur : Agriculture - Banque/assurance - Industrie - Services médicaux\n",
    "\n",
    "> CA : donnée manuelle\n",
    "\n",
    "> Taille / nb employés : <10 - 10/49 - 50/250 - > 250 \n",
    "\n",
    "> Pays : Liberia - Afrique du Sud - Namibie - Tanzanie - Mozanbique\n",
    "\n",
    "> Réseau/caractéristiques SI : Débutante - Bon - Développé \n",
    "\n",
    "> Taux de marge : donnée manuelle\n",
    "\n",
    "> Age moyen des employés : donnée manuelle\n",
    "\n",
    "> Formations employés : Cyber - Phishing avec des fréquences différentes\n",
    "\n",
    "> Protection SI : Firewall, Anti-virus, Maj régulières, Authentification à 2 facteurs, Mots de passe robustes, Navigation sécurisée, Sauvegardes régulières, Chiffrement des données."
   ]
  },
  {
   "cell_type": "markdown",
   "id": "ef0b5a61",
   "metadata": {},
   "source": [
    "Exemples \n",
    "\n",
    "\n",
    "Entreprise 1 : \n",
    "    \n",
    "    - secteur : Agriculture (A)\n",
    "        \n",
    "    - CA : 50 000 / 1 000 000\n",
    "    \n",
    "    - nb employés : 15\n",
    "    \n",
    "    - Pays : Liberia\n",
    "    \n",
    "    - Maturité SI : Débutante\n",
    "    \n",
    "    - Taux de marge : 32 % \n",
    "    \n",
    "    - Age moyen des employés : 28\n",
    "    \n",
    "Entreprise 2 : \n",
    "\n",
    "    - secteur : Banque (B) \n",
    "    \n",
    "    - CA : 1 000 000 / 20 000 000 \n",
    "    \n",
    "    - nb employés : 50/250\n",
    "    \n",
    "    - Pays : Afrique du Sud\n",
    "    \n",
    "    - Maturité SI : Bon\n",
    "    \n",
    "    - Taux de marge : 33 % \n",
    "    \n",
    "    - Age moyen des employés : 35"
   ]
  },
  {
   "cell_type": "markdown",
   "id": "7c1d47f8",
   "metadata": {},
   "source": [
    "**Données entrées par l'utilisateur**"
   ]
  },
  {
   "cell_type": "markdown",
   "id": "a08c8899",
   "metadata": {},
   "source": [
    "Les entreprises de moins de 10 employés ont un CA n'excédant pas 2 millions"
   ]
  },
  {
   "cell_type": "markdown",
   "id": "e7fd9a6e",
   "metadata": {},
   "source": [
    "Les entreprises qui ont entre 10 et 250 employés ont un CA supérieur à 2 millions et inférieur à 25 millions."
   ]
  },
  {
   "cell_type": "markdown",
   "id": "ec7c9201",
   "metadata": {},
   "source": [
    "Les entreprises qui ont entre 10 et 250 employés ont un CA supérieur à 25 millions et inférieur à 50 millions."
   ]
  },
  {
   "cell_type": "markdown",
   "id": "f593754b",
   "metadata": {},
   "source": [
    "Les entreprises de plus de 250 employés ont un CA supérieur à 50 millions."
   ]
  },
  {
   "cell_type": "code",
   "execution_count": null,
   "id": "419b5c3f",
   "metadata": {},
   "outputs": [],
   "source": [
    "pays_entreprise = pn.widgets.Select(name='Pays de l\\'entreprise', options=['Liberia','Afrique du Sud','Namibie','Tanzanie','Mozambique'])\n",
    "secteur_activite = pn.widgets.Select(name='Secteur d\\'activité', options=['Agriculture', 'Banque/assurance', 'Industrie','Services médicaux'])\n",
    "taille_entreprise = pn.widgets.Select(name='Nombre d\\'employés de l\\'entreprise', options=['<10','10-49','50-250','>250'])\n",
    "CA_entreprise = pn.widgets.IntInput(name='CA de l\\'entreprise', value=0)\n",
    "reseauSI_entreprise = pn.widgets.Select(name='Réseau SI de l\\'entreprise', options=['Débutante','Correct','Avancé']) # taille du réseau SI\n",
    "age_entreprise = pn.widgets.IntInput(name='Age moyen des salariés', value=0)\n",
    "\n",
    "\n",
    "pays = None\n",
    "secteur = None\n",
    "taille = None\n",
    "CA = None\n",
    "dev = None\n",
    "age = None\n",
    "\n",
    "def update_pays(event):\n",
    "    global pays\n",
    "    pays = event.new\n",
    "\n",
    "def update_secteur(event):\n",
    "    global secteur\n",
    "    secteur = event.new\n",
    "\n",
    "def update_taille(event):\n",
    "    global taille\n",
    "    taille = event.new\n",
    "\n",
    "def update_CA(event):\n",
    "    global CA \n",
    "    CA=event.new\n",
    "    \n",
    "def update_dev(event):\n",
    "    global dev\n",
    "    dev = event.new\n",
    "\n",
    "def update_age(event): \n",
    "    global age\n",
    "    age = event.new\n",
    "    \n",
    "    \n",
    "pays_entreprise.param.watch(update_pays, 'value')\n",
    "secteur_activite.param.watch(update_secteur, 'value')\n",
    "taille_entreprise.param.watch(update_taille, 'value')\n",
    "CA_entreprise.param.watch(update_CA,'value')\n",
    "reseauSI_entreprise.param.watch(update_dev,'value')\n",
    "age_entreprise.param.watch(update_age,'value')\n",
    "\n",
    "\n",
    "dashboard_layout = pn.Column(\n",
    "    '# Profil d\\'entreprise',\n",
    "    pn.Column(pays_entreprise, secteur_activite, taille_entreprise,CA_entreprise,reseauSI_entreprise, age_entreprise)\n",
    ")\n",
    "\n",
    "dashboard_layout.servable()"
   ]
  },
  {
   "cell_type": "code",
   "execution_count": null,
   "id": "9c00b5bd",
   "metadata": {},
   "outputs": [],
   "source": [
    "# on affiche le profil de l'entreprise\n",
    "Profil_entreprise_1 = [pays,secteur,taille,CA,dev,age]\n",
    "Profil_entreprise_1"
   ]
  },
  {
   "cell_type": "markdown",
   "id": "938e3c0b",
   "metadata": {},
   "source": [
    "### Caractéristique salaire moyen par entreprise <a class=\"anchor\" id=\"caracteristique-salaire\"></a>\n"
   ]
  },
  {
   "cell_type": "markdown",
   "id": "a07d8a85",
   "metadata": {},
   "source": [
    "On calcule le salaire moyen des employés en fonction du pays et du secteur de l'entreprise. ATTENTION, cette caractéristique n'intervient que dans le calcul du coût des pertes, mais on l'ajoute directement au profil de l'entreprise.\n",
    "\n",
    "Source : https://bdeex.com/fr/liberia/?type=production"
   ]
  },
  {
   "cell_type": "code",
   "execution_count": null,
   "id": "0afe2955",
   "metadata": {},
   "outputs": [],
   "source": [
    "salairemoyen = pd.read_excel('salairemoyen.xlsx', index_col=0)\n",
    "salairemoyen"
   ]
  },
  {
   "cell_type": "code",
   "execution_count": null,
   "id": "8a0dfca6",
   "metadata": {},
   "outputs": [],
   "source": [
    "def calcul_salaire(profil_entreprise, salairemoyen):\n",
    "    correspondances = {\n",
    "        'Liberia': {\n",
    "            'Agriculture': 'Agriculture',\n",
    "            'Banque/assurance': 'Banque/Assurance',\n",
    "            'Industrie': 'Industrie',\n",
    "            'Services médicaux': 'Services médicaux'\n",
    "        },\n",
    "        'Afrique du Sud': {\n",
    "            'Agriculture': 'Agriculture',\n",
    "            'Banque/assurance': 'Banque/Assurance',\n",
    "            'Industrie': 'Industrie',\n",
    "            'Services médicaux': 'Services médicaux'\n",
    "        },\n",
    "        'Namibie': {\n",
    "            'Agriculture': 'Agriculture',\n",
    "            'Banque/assurance': 'Banque/Assurance',\n",
    "            'Industrie': 'Industrie',\n",
    "            'Services médicaux': 'Services médicaux'\n",
    "        },\n",
    "        'Tanzanie': {\n",
    "            'Agriculture': 'Agriculture',\n",
    "            'Banque/assurance': 'Banque/Assurance',\n",
    "            'Industrie': 'Industrie',\n",
    "            'Services médicaux': 'Services médicaux'\n",
    "        },\n",
    "        'Mozambique': {\n",
    "            'Agriculture': 'Agriculture',\n",
    "            'Banque/assurance': 'Banque/Assurance',\n",
    "            'Industrie': 'Industrie',\n",
    "            'Services médicaux': 'Services médicaux'\n",
    "        }\n",
    "    }\n",
    "\n",
    "    pays = profil_entreprise[0]\n",
    "    secteur = profil_entreprise[1]\n",
    "\n",
    "    if pays in correspondances and secteur in correspondances[pays]:\n",
    "        salaire_moyen = salairemoyen.loc[correspondances[pays][secteur], pays]\n",
    "    else:\n",
    "        salaire_moyen = 0\n",
    "\n",
    "    return salaire_moyen"
   ]
  },
  {
   "cell_type": "code",
   "execution_count": null,
   "id": "d239c30e",
   "metadata": {},
   "outputs": [],
   "source": [
    "# on ajoute le salaire moyen au profil de l'entreprise\n",
    "Profil_entreprise_1.append(calcul_salaire(Profil_entreprise_1,salairemoyen))"
   ]
  },
  {
   "cell_type": "code",
   "execution_count": null,
   "id": "7de2f14c",
   "metadata": {},
   "outputs": [],
   "source": [
    "Profil_entreprise_1"
   ]
  },
  {
   "cell_type": "markdown",
   "id": "3456967d",
   "metadata": {},
   "source": [
    "### Caractéristique Pays - Donnée constante à l'entreprise / ne dépend pas de l'attaque <a class=\"anchor\" id=\"pays\"></a>"
   ]
  },
  {
   "cell_type": "markdown",
   "id": "ab12caf2",
   "metadata": {},
   "source": [
    "La prévalence d'une attaque cyber (non spécifique) n'est pas la même suivant les pays. En effet, les pays n'ayant aucune mesure pour prévenir ou contrer le risque cyber sont une proie encore plus facile pour les attaquants."
   ]
  },
  {
   "cell_type": "markdown",
   "id": "7f25f758",
   "metadata": {},
   "source": [
    "Source : https://cybersecuritymag.africa/global-cybersecurity-index-2020-classement-pays-africains"
   ]
  },
  {
   "cell_type": "markdown",
   "id": "da056631",
   "metadata": {},
   "source": [
    "La Global Cybersecurity Index mesure l’engagement et les mesures prises par les États pour améliorer la cybersécurité. Cette mesure consiste à faire une cartographie des réponses à 82 questions qui couvrent cinq piliers que sont : les mesures légales, les mesures techniques, les mesures organisationnelles, les mesures de développement de capacité et les mesures de coopération. Pour l'édition 2020, les données de 194 États ont été prises en compte dont 43 pays africains. \n",
    "\n",
    "On utilise directement le score calculé par la Global Cybersecurity."
   ]
  },
  {
   "cell_type": "markdown",
   "id": "599ed2b8",
   "metadata": {},
   "source": [
    "L'indice mondial de cybersécurité (GCI) est un indice composite d'indicateurs, évoluant à chaque itération, qui suit le niveau d'engagement en matière de cybersécurité dans les cinq piliers de la stratégie mondiale de cybersécurité. \n",
    "itération, qui permet de suivre le niveau d'engagement en matière de cybersécurité dans les cinq piliers de l'Agenda mondial de la cybersécurité (AMC). \n",
    "Les principaux objectifs de l'indice sont de mesurer\n",
    "- le type, le niveau et l'évolution dans le temps de l'engagement en faveur de la cybersécurité au sein des pays et \n",
    "pays et par rapport à d'autres pays.\n",
    "- les progrès réalisés par les pays en matière d'engagement en faveur de la cybersécurité dans une perspective mondiale.\n",
    "- les progrès de l'engagement en faveur de la cybersécurité d'un point de vue régional\n",
    "- la fracture de l'engagement en faveur de la cybersécurité (c'est-à-dire la différence entre les pays en ce qui concerne \n",
    "leur niveau d'engagement dans les initiatives de cybersécurité).\n",
    "\n",
    "\n",
    "L'objectif de l'ICG est d'aider les pays à identifier les domaines à améliorer dans le domaine de la \n",
    "cybersécurité et de les encourager à prendre des mesures dans ce sens. Ce serait également \n",
    "l'occasion de contribuer à élever le niveau général d'engagement en matière de cybersécurité dans le monde, \n",
    "harmoniser les pratiques et favoriser une culture mondiale de la cybersécurité. L'ICG vise à illustrer \n",
    "exemples de réussite en matière de cybersécurité qui pourraient servir de bonnes pratiques et de lignes directrices pour les pays ayant un environnement national similaire. \n",
    "pays dont l'environnement national est similaire."
   ]
  },
  {
   "cell_type": "markdown",
   "id": "ebc158a9",
   "metadata": {},
   "source": [
    "Le questionnaire utilisé pour l'AGC fournit une valeur pour les 20 indicateurs construits à travers \n",
    "82 questions. Cela permet d'atteindre le niveau de granularité requis et d'améliorer la précision et la qualité des réponses. \n",
    "la précision et la qualité des réponses. Les indicateurs figurent dans le questionnaire de l'AGC (annexe B).\n",
    "Les indicateurs utilisés pour calculer l'ICS ont été sélectionnés sur la base des critères suivants\n",
    "- la pertinence par rapport aux cinq piliers de l'AGC ;\n",
    "- la pertinence par rapport aux principaux objectifs et au cadre conceptuel de l'ICS ;\n",
    "- la disponibilité et la qualité des données ; et,\n",
    "- la possibilité d'une vérification croisée à l'aide de données secondaires.\n",
    "\n",
    "Les groupes d'indicateurs ont été agrégés en utilisant des moyennes arithmétiques pondérées. Cela signifie qu'un \n",
    "Cela signifie qu'un pays obtenant un mauvais score dans un domaine peut récupérer une partie de son score en obtenant de bons résultats dans d'autres domaines.\n",
    "Comme l'indique le manuel de l'OCDE sur les indices composites, \"l'utilité marginale d'une augmentation \n",
    "d'un score absolu faible serait beaucoup plus élevée que celle d'un score absolu élevé dans le cadre de l'agrégation géométrique. \n",
    "géométrique. Par conséquent, un pays serait fortement incité à s'intéresser aux secteurs/activités/alternatives dont le score est faible.\n",
    "activités/alternatives à faible score si l'agrégation était géométrique plutôt que linéaire\" (33). \n",
    "Toutefois, dans un souci de clarté et de compréhension, une approche linéaire a été jugée plus \n",
    "compréhensible et actionnable"
   ]
  },
  {
   "cell_type": "code",
   "execution_count": null,
   "id": "61068b67",
   "metadata": {},
   "outputs": [],
   "source": [
    "scorepays = pd.read_excel('scorepays.xlsx', sheet_name='Score',index_col=0)\n",
    "scorepays"
   ]
  },
  {
   "cell_type": "code",
   "execution_count": null,
   "id": "0ce3c5c2",
   "metadata": {},
   "outputs": [],
   "source": [
    "score_pays = [(100 - scorepays.loc['Liberia'].values[0]) / 100,\n",
    "              (100 - scorepays.loc['SA'].values[0]) / 100,\n",
    "              (100 - scorepays.loc['Namibie'].values[0]) / 100,\n",
    "              (100 - scorepays.loc['Tanzanie'].values[0]) / 100,\n",
    "              (100 - scorepays.loc['Mozambique'].values[0]) / 100]\n",
    "\n",
    "print(score_pays)"
   ]
  },
  {
   "cell_type": "markdown",
   "id": "33ed44e9",
   "metadata": {},
   "source": [
    "## Calcul Score(caractéristiques entreprise) <a class=\"anchor\" id=\"score_calcul\"></a>"
   ]
  },
  {
   "cell_type": "markdown",
   "id": "5937bbd6",
   "metadata": {},
   "source": [
    "Calculons un score intrésinquement lié aux paramètres constants d'une entreprise C. Les prévalences cyber ne dépendent pas d'une attaque cyber particulière mais reflète la prévalence pour toutes les attaques cyber.\n",
    "\n",
    "Source proba secteur : https://www.statista.com/statistics/1315805/cyber-attacks-top-industries-worldwide/#:~:text=Distribution%20of%20cyber%20attacks%20across%20worldwide%20industries%20in,telecom%200%25%205%25%2010%25%2015%25%2020%25%2025%25%2030%25\n",
    "\n",
    "Source proba taille : https://www.lepoint.fr/high-tech-internet/cyberattaques-les-entreprises-francaises-touchees-plus-que-jamais-09-12-2020-2404883_47.php#11"
   ]
  },
  {
   "cell_type": "code",
   "execution_count": null,
   "id": "576609fa",
   "metadata": {},
   "outputs": [],
   "source": [
    "sensibilite =  pd.read_excel('scorepays.xlsx', sheet_name='Sensibilité',index_col=0)\n",
    "taille2 =  pd.read_excel('scorepays.xlsx', sheet_name='Taille',index_col=0)\n",
    "sensibilite"
   ]
  },
  {
   "cell_type": "code",
   "execution_count": null,
   "id": "dee04025",
   "metadata": {},
   "outputs": [],
   "source": [
    "taille2"
   ]
  },
  {
   "cell_type": "code",
   "execution_count": null,
   "id": "8cdf2d90",
   "metadata": {},
   "outputs": [],
   "source": [
    "#définition d'un score pour les caractéristiques pays, secteur et nombre d'employés\n",
    "def score(profil_etp):\n",
    "    \n",
    "    probafinale = 0\n",
    "    proba1 = 0 #proba liée au pays\n",
    "    if profil_etp[0] == 'Liberia':\n",
    "        proba1 = score_pays[0]\n",
    "    elif profil_etp[0] == 'Afrique du Sud': \n",
    "        proba1 = score_pays[1]\n",
    "    elif profil_etp[0] == 'Namibie':\n",
    "        proba1 = score_pays[2]\n",
    "    elif profil_etp[0] == 'Tanzanie':\n",
    "        proba1 = score_pays[3]\n",
    "    else : \n",
    "        proba1 = score_pays[4]\n",
    "    \n",
    "    proba2 = 0 # proba liée au secteur et sensibilité des données\n",
    "    \n",
    "    if profil_etp[1] == 'Agriculture':\n",
    "        proba2 = sensibilite.loc['Agriculture'].values[0]\n",
    "    elif profil_etp[1] == 'Banque/assurance': \n",
    "        proba2 = sensibilite.loc['Banque/assurance'].values[0]\n",
    "    elif profil_etp[1] == 'Industrie': \n",
    "        proba2 = sensibilite.loc['Industrie'].values[0]\n",
    "    else : \n",
    "        proba2 = sensibilite.loc['Services médicaux'].values[0]\n",
    "        \n",
    "    proba3 = 0 # proba liée à la taille de l'entreprise - au moins une attaque en 1 an \n",
    "    \n",
    "    if profil_etp[2] == '<10':\n",
    "        proba3 = taille2.loc['<10'].values[0]\n",
    "    elif profil_etp[2] == '10-49': \n",
    "        proba3 = taille2.loc['10-49'].values[0]\n",
    "    elif profil_etp[2] == '50-250': \n",
    "        proba3 = taille2.loc['50-250'].values[0]\n",
    "    else : \n",
    "        proba3 = taille2.loc['>250'].values[0]\n",
    "    \n",
    "    probas = [proba1, proba2, proba3]\n",
    "    probafinale = (proba1+proba2+proba3)/len(probas)\n",
    "    return probafinale\n",
    "        "
   ]
  },
  {
   "cell_type": "code",
   "execution_count": null,
   "id": "9b373917",
   "metadata": {},
   "outputs": [],
   "source": [
    "score(Profil_entreprise_1)"
   ]
  },
  {
   "cell_type": "markdown",
   "id": "a770c679",
   "metadata": {},
   "source": [
    "# Fréquence apparition de l'attaque <a class=\"anchor\" id=\"frequence\"></a>"
   ]
  },
  {
   "cell_type": "markdown",
   "id": "417779e5",
   "metadata": {},
   "source": [
    "Choix des attaques les + courantes : https://blog.netwrix.fr/2018/07/04/les-10-types-de-cyberattaques-les-plus-courants/#:~:text=Les%2010%20types%20de%20cyberattaques%20les%20plus%20courants,8%208.%20Attaque%20par%20%C3%A9coute%20illicite%20%C3%89l%C3%A9ments%20suppl%C3%A9mentaires"
   ]
  },
  {
   "cell_type": "code",
   "execution_count": null,
   "id": "f4946502",
   "metadata": {},
   "outputs": [],
   "source": [
    "attaque=pd.read_excel('proba_attaque.xlsx')"
   ]
  },
  {
   "cell_type": "code",
   "execution_count": null,
   "id": "55b9b297",
   "metadata": {},
   "outputs": [],
   "source": [
    "#les valeurs sont expliquées ci-dessous\n",
    "attaque"
   ]
  },
  {
   "cell_type": "markdown",
   "id": "b21fddbd",
   "metadata": {},
   "source": [
    "## Attaque phishing <a class=\"anchor\" id=\"attphishing\"></a>"
   ]
  },
  {
   "cell_type": "markdown",
   "id": "6beeadb2",
   "metadata": {},
   "source": [
    "Concernant les attaques phishing (voir source rapport), 83% des sondés ont été victimes d'attaques phishing durant l'année 2022. A l'origine, les attaques de phishing ne sont pas conçues pour rendre indisponibles les systèmes informatiques d'une organisation mais plutôt pour divulguer des informations sensibles ou réaliser des actions non autorisées. Le pourcentage d'attaques phishing qui mènent à des pertes d'exploitation est donc très faible. On l'estime approximativement à environ 15%.\n",
    "\n",
    "Ainsi, la probabilité qu'une attaque phishing soit à l'origine de pertes d'exploitation est de 0.83 * 0.15 =  0.12.\n"
   ]
  },
  {
   "cell_type": "code",
   "execution_count": null,
   "id": "9b306314",
   "metadata": {},
   "outputs": [],
   "source": [
    "proba_phishing_pertesexp_2022 = attaque['Phishing'].values[0]\n",
    "proba_phishing_pertesexp= attaque['Phishing'].values[0]"
   ]
  },
  {
   "cell_type": "markdown",
   "id": "c287cd6e",
   "metadata": {},
   "source": [
    "## Attaque DDoS <a class=\"anchor\" id=\"attddos\"></a>"
   ]
  },
  {
   "cell_type": "markdown",
   "id": "6d8fa6c4",
   "metadata": {},
   "source": [
    "Les données relatives aux attaques DDoS sont les plus difficiles à obtenir puisqu'elles peuvent être de très courte durée. Le principal but d'une attaque DDoS est de provoquer une indisponibilité SI de l'entreprise. De fait, nous faisons l'hypothèse forte que si l'attaque DDoS a lieu, elle déclenche la garantie pertes d'exploitation. 40% des attaques DDoS durent au moins une journée. De plus, une entreprise sur trois a été la cible d'une attaque DDoS en 2021. Les attaques DDoS ont augmenté de 150% entre 2021 et 2022, de fait le pourcentage d'attaques DDoS passe de 33% à 82% !  \n",
    "\n",
    "En définitive, la probabilité qu'une attaque DDoS soit à l'origine de pertes d'exploitation est de 0.4 * 0.82 = 0.33."
   ]
  },
  {
   "cell_type": "code",
   "execution_count": null,
   "id": "6eab3fe8",
   "metadata": {},
   "outputs": [],
   "source": [
    "proba_DDoS_pertesexp_2022 = attaque['DDoS'].values[0]\n",
    "proba_DDoS_pertesexp = attaque['DDoS'].values[0]"
   ]
  },
  {
   "cell_type": "markdown",
   "id": "cbe39dad",
   "metadata": {},
   "source": [
    "## Attaque ransomware <a class=\"anchor\" id=\"attransomware\"></a>"
   ]
  },
  {
   "cell_type": "markdown",
   "id": "76937797",
   "metadata": {},
   "source": [
    "De la même façon que les attaques DDoS, les attaques ransomware ont pour but de chiffrer les données des entreprises victimes, les rendant indisponibles le temps qu'elles paient une rançon. Dans la majorité des cas, une attaque ransomware dure plusieurs jours à plusieurs semaines. L'hypothèse est donc faite qu'une attaque ransomware provoque à 70% une indisponibilité SI d'au moins une journée. 73% des entreprises sondées ont été victimes d'une attaque ransomware.  \n",
    "\n",
    "Ainsi, la probabilité qu'une attaque ransomware soit à l'origine de pertes d'exploitation est de 0.7 * 0.73 =  0.51"
   ]
  },
  {
   "cell_type": "code",
   "execution_count": null,
   "id": "d2da3a65",
   "metadata": {},
   "outputs": [],
   "source": [
    "proba_ransomware_pertesexp_2022 = attaque['Ransomware'].values[0]\n",
    "proba_ransomware_pertesexp = attaque['Ransomware'].values[0]"
   ]
  },
  {
   "cell_type": "markdown",
   "id": "51bb5903",
   "metadata": {},
   "source": [
    "> **En résumé** : \n",
    "\n",
    ">Nous avons l'estimation de la Fréquence : P(garantie = pertes exploitation | attaque = Phishing) = 0.12\n",
    "\n",
    ">Nous avons l'estimation de la Fréquence : P(garantie = pertes exploitation | attaque = DDoS) = 0.33\n",
    "\n",
    ">Nous avons l'estimation de la fréquence : P(garantie = pertes exploitation | attaque = ransomware) = 0.51"
   ]
  },
  {
   "cell_type": "markdown",
   "id": "c12a1d9f",
   "metadata": {},
   "source": [
    "# P(Ai,G) <a class=\"anchor\" id=\"paig\"></a>"
   ]
  },
  {
   "cell_type": "code",
   "execution_count": null,
   "id": "db70abd9",
   "metadata": {},
   "outputs": [],
   "source": [
    "#affectation de la bonne probabilité en fonction de l'attaque sélectionnée\n",
    "def probapexpfreqatt(profil_etp):\n",
    "    proba = 0\n",
    "    if profil_etp[8] == 'DDoS': \n",
    "        proba = proba_DDoS_pertesexp\n",
    "    elif profil_etp[8] == 'Phishing':\n",
    "        proba = proba_phishing_pertesexp \n",
    "    else : \n",
    "        proba = proba_ransomware_pertesexp\n",
    "    return proba   "
   ]
  },
  {
   "cell_type": "markdown",
   "id": "b36bacfe",
   "metadata": {},
   "source": [
    "# Pc (Ai,G) <a class=\"anchor\" id=\"pcaig\"></a>"
   ]
  },
  {
   "cell_type": "code",
   "execution_count": null,
   "id": "fe759001",
   "metadata": {},
   "outputs": [],
   "source": [
    "#simple multiplication pour obtenir la proba\n",
    "def pcaig(profil_etp): \n",
    "    return probapexpfreqatt(profil_etp)*score(profil_etp)"
   ]
  },
  {
   "cell_type": "markdown",
   "id": "099c5d05",
   "metadata": {},
   "source": [
    "# Vulnérabilités type CVE  <a class=\"anchor\" id=\"vulnerabilites\"></a>"
   ]
  },
  {
   "cell_type": "markdown",
   "id": "1f650c12",
   "metadata": {},
   "source": [
    "## CVEs - Liste de vulnérabilités exploitables KEV <a class=\"anchor\" id=\"CVEKEV\"></a>"
   ]
  },
  {
   "cell_type": "markdown",
   "id": "f60c329e",
   "metadata": {},
   "source": [
    "Récupération des CVEs les plus graves et les plus sensibles répertoriées par l'ANSSI. On récupère sur le site https://www.cisa.gov/resources-tools/resources/kev-catalog les CVE exploitables. On simule des échantillons de CVEs KEV de taille proportionnelle à l'entreprise et on teste pour voir si les CVEs fréquentes et graves appartiennent aux échantillons."
   ]
  },
  {
   "cell_type": "code",
   "execution_count": null,
   "id": "3b8272bc",
   "metadata": {},
   "outputs": [],
   "source": [
    "KEV = pd.read_csv('known_exploited_vulnerabilities.csv')\n",
    "KEV"
   ]
  },
  {
   "cell_type": "markdown",
   "id": "b893b944",
   "metadata": {},
   "source": [
    "## Liste CVEs pour une attaque Ai donnée <a class=\"anchor\" id=\"CVEAI\"></a>"
   ]
  },
  {
   "cell_type": "markdown",
   "id": "bb576805",
   "metadata": {},
   "source": [
    "Liste CVE Ransomware :  https://www.cybersecuritydive.com/news/CISA-CVE-most-common-vulnerability-2020-2021-ransomware/604426/\n",
    "\n",
    "Ex pour le phishing : https://securelist.com/analysis-of-attack-samples-exploiting-cve-2023-23397/110202/\n",
    "\n",
    "Ex pour le DDoS : https://www.akaoma.com/ressources/cve/dos-denial-of-service?start=8."
   ]
  },
  {
   "cell_type": "code",
   "execution_count": null,
   "id": "4cb88adb",
   "metadata": {},
   "outputs": [],
   "source": [
    "# lecture et chargement de la base de données MITRE\n",
    "CVEliste =  pd.read_excel('scorepays.xlsx', sheet_name='CVEs')"
   ]
  },
  {
   "cell_type": "code",
   "execution_count": null,
   "id": "f2e1f4d8",
   "metadata": {},
   "outputs": [],
   "source": [
    "#on affecte à la liste des CVE celle de la bonne attaque cyber\n",
    "def CVE(profil_etp):\n",
    "    liste_cve = []\n",
    "    if profil_etp[9] == 'DDoS':\n",
    "        liste_cve = CVEliste['DDoS']\n",
    "    elif profil_etp[9] == 'Phishing': \n",
    "        liste_cve= CVEliste['Phishing']\n",
    "    else : \n",
    "        liste_cve = CVEliste['Ransomware']\n",
    "    return liste_cve.to_string(index=False).split()"
   ]
  },
  {
   "cell_type": "markdown",
   "id": "2400d42c",
   "metadata": {},
   "source": [
    "## CVEs - Entreprise C <a class=\"anchor\" id=\"CVE_etp\"></a>"
   ]
  },
  {
   "cell_type": "markdown",
   "id": "5abee640",
   "metadata": {},
   "source": [
    "On imagine qu'on récupère la liste de CVE d'une entreprise C par scan réseau."
   ]
  },
  {
   "cell_type": "code",
   "execution_count": null,
   "id": "a79715fd",
   "metadata": {},
   "outputs": [],
   "source": [
    "#on récupère la liste des scores epss des cve, bdd FIRST\n",
    "\n",
    "allCVE = pd.read_csv('epss_scores-2023-07-24.csv', skiprows=1, sep=';')\n",
    "allCVE.rename(columns={'CVE': 'cve'}, inplace=True)\n",
    "print(allCVE['cve'])"
   ]
  },
  {
   "cell_type": "code",
   "execution_count": null,
   "id": "a5e9da87",
   "metadata": {},
   "outputs": [],
   "source": [
    "# simulation d'ensemble de CVEs détectées sur l'analyse/scan réseau des entreprises. \n",
    "def echantillonCVE(profil_etp): \n",
    "    echantillon = None\n",
    "    if profil_etp[6] == 'Débutant':\n",
    "        echantillon = allCVE['cve'].sample(n=20000)\n",
    "    elif profil_etp[6] == 'Correct':\n",
    "        echantillon = allCVE['cve'].sample(n=40000)\n",
    "    else:\n",
    "        echantillon = allCVE['cve'].sample(n=60000)\n",
    "    return echantillon"
   ]
  },
  {
   "cell_type": "code",
   "execution_count": null,
   "id": "1d13b05a",
   "metadata": {},
   "outputs": [],
   "source": [
    "echantillonCVE(Profil_entreprise_1)"
   ]
  },
  {
   "cell_type": "markdown",
   "id": "db8838d8",
   "metadata": {},
   "source": [
    "## Intersection des 3 sous ensembles <a class=\"anchor\" id=\"intersection\"></a>"
   ]
  },
  {
   "cell_type": "code",
   "execution_count": null,
   "id": "e1bc7c9b",
   "metadata": {},
   "outputs": [],
   "source": [
    "# on ne s'intéresse qu'aux cve de l'entreprise qui sont exploitables et pour la bonne attaque cyber Ai\n",
    "def intersection(profiletp): \n",
    "    intersection_df = pd.merge(echantillonCVE(profiletp), KEV, left_on='cve', right_on='cveID', how='inner')\n",
    "    intersection_liste_df = intersection_df[intersection_df['cve'].isin(CVE(profiletp))]\n",
    "    nouveau_dataframe = pd.DataFrame({'CVE': intersection_liste_df['cve']})\n",
    "    return nouveau_dataframe"
   ]
  },
  {
   "cell_type": "markdown",
   "id": "99bf07ce",
   "metadata": {},
   "source": [
    "## Calcul du score EPSS pour chaque vulnérabilité grave <a class=\"anchor\" id=\"EPSS\"></a>"
   ]
  },
  {
   "cell_type": "code",
   "execution_count": null,
   "id": "bcf19493",
   "metadata": {},
   "outputs": [],
   "source": [
    "#on récupère le score epss de la liste d'intersection\n",
    "def EPSS(profiletp):\n",
    "    resultat = []\n",
    "    for index, row in intersection(profiletp).iterrows():\n",
    "        cve_r = row['CVE']\n",
    "        epss_value = allCVE.loc[allCVE['cve'] == cve_r, 'epss'].iloc[0]\n",
    "        resultat.append(epss_value)\n",
    "    return resultat"
   ]
  },
  {
   "cell_type": "markdown",
   "id": "28825893",
   "metadata": {},
   "source": [
    "## P(CVEs entraînent Ai,G) à l'instant t pour entreprise C <a class=\"anchor\" id=\"probacve\"></a>"
   ]
  },
  {
   "cell_type": "code",
   "execution_count": null,
   "id": "b87b8bce",
   "metadata": {},
   "outputs": [],
   "source": [
    "#on récupère la liste du dessus, on calcule le score EPSS de chaque élément de la liste et on fait la moyenne globale\n",
    "def probacveAi(profiletp):\n",
    "    somme = 0\n",
    "    resultat = EPSS(profiletp)\n",
    "    while len(resultat)==0: #on ne prend pas de liste vide\n",
    "        resultat = EPSS(profiletp)\n",
    "\n",
    "    for r in resultat: \n",
    "        somme +=r \n",
    "    \n",
    "    moyenne = somme/len(resultat)\n",
    "    return moyenne"
   ]
  },
  {
   "cell_type": "markdown",
   "id": "7bb02091",
   "metadata": {},
   "source": [
    "## Pc(Ai,G) données historiques <a class=\"anchor\" id=\"probahisto\"></a>"
   ]
  },
  {
   "cell_type": "markdown",
   "id": "b20d1e1d",
   "metadata": {},
   "source": [
    "L'idée est d'imaginer une probabilité de survenance de l'attaque Ai pour la garantie G et l'entreprise C basée sur des données historiques. Pour cela, on peut faire circuler un petit questionnaire à l'ensemble des employés du type suivant : "
   ]
  },
  {
   "cell_type": "markdown",
   "id": "08d2f5d5",
   "metadata": {},
   "source": [
    "<img>![image3](sondage1.png)\n",
    "\n"
   ]
  },
  {
   "cell_type": "markdown",
   "id": "93ab60c5",
   "metadata": {},
   "source": [
    "On sait pour l'attaque Ai = Phishing que P(Ai déclenche G) = 0.12\n",
    "\n",
    "On estime que d'une année sur l'autre, la tendance est toujours à l'évolution mais faible. Ainsi, quelqu'un qui ne pense pas avoir reçu de mails frauduleux et qui fait attention à sa boîte mail a probablement une boîte mail filtrante donc la probabilité est minorée."
   ]
  },
  {
   "cell_type": "markdown",
   "id": "e32b05b4",
   "metadata": {},
   "source": [
    "A voir comment l'intégrer dans le dashboard..."
   ]
  },
  {
   "cell_type": "markdown",
   "id": "0c22b897",
   "metadata": {},
   "source": [
    "# Probabilité finale fréquence <a class=\"anchor\" id=\"probasurvenance\"></a>"
   ]
  },
  {
   "cell_type": "code",
   "execution_count": null,
   "id": "94c76c58",
   "metadata": {},
   "outputs": [],
   "source": [
    "#simple multiplication des Pc(Ai,G), imaginer d'autres sources de Pc(Ai,G) \n",
    "def probafrequence(profil_etp):\n",
    "    return pcaig(profil_etp)*probacveAi(profil_etp) # car HYP : indépendance"
   ]
  },
  {
   "cell_type": "markdown",
   "id": "b42d1969",
   "metadata": {},
   "source": [
    "# Facteur d'atténuation / aggravation <a class=\"anchor\" id=\"facteur_attenuation\"></a>"
   ]
  },
  {
   "cell_type": "markdown",
   "id": "b8194b1c",
   "metadata": {},
   "source": [
    "On définit une fonction facteur d'atténuation ou d'aggravation de l'attaque cyber Ai qui influe directement sur la réussite de l'attaque."
   ]
  },
  {
   "cell_type": "markdown",
   "id": "1c75f193",
   "metadata": {},
   "source": [
    "## Protection SI <a class=\"anchor\" id=\"protection_SI\"></a>"
   ]
  },
  {
   "cell_type": "markdown",
   "id": "266624db",
   "metadata": {},
   "source": [
    "Les niveaux de protection SI sont issus des conseils de la CNIL et classé selon une importance du \"plus facile à penser\" au \"plus recherché et efficace\" : https://www.cnil.fr/fr/10-conseils-pour-la-securite-de-votre-systeme-dinformation"
   ]
  },
  {
   "cell_type": "code",
   "execution_count": null,
   "id": "29ba497a",
   "metadata": {},
   "outputs": [],
   "source": [
    "protections = [['1', 'Firewall'],\n",
    "        ['2', 'Anti-virus'],\n",
    "        ['3', 'Maj régulières'],\n",
    "        ['4', 'Authentification à 2 facteurs'],\n",
    "        ['5', 'Mots de passe robustes'],\n",
    "        ['6', 'Navigation sécurisée'],\n",
    "        ['7', 'Sauvegardes régulières'],\n",
    "        ['8', 'Chiffrement des données']]\n",
    "\n",
    "df = pd.DataFrame(protections, columns=['Classement niveau de protection', 'Type de protection'])\n",
    "\n",
    "niveaux_selectionnes = pn.widgets.MultiSelect(name='Sélectionner les niveaux de protection', options=df['Type de protection'].tolist())\n",
    "\n",
    "attaques_selectionnees = pn.widgets.Select(name='Sélectionner une attaque cyber', options=['DDoS', 'Phishing', 'Ransomware'])\n",
    "\n",
    "choix_niveaux = niveaux_selectionnes.value\n",
    "choix_attaque = attaques_selectionnees.value\n",
    "\n",
    "@pn.depends(niveaux=niveaux_selectionnes, attaque=attaques_selectionnees)\n",
    "def update_table(niveaux, attaque):\n",
    "    global choix_niveaux, choix_attaque\n",
    "    choix_niveaux = niveaux\n",
    "    choix_attaque = attaque\n",
    "   \n",
    "    \n",
    "    selected_rows = df[df['Classement niveau de protection'].isin(niveaux)]\n",
    "    if attaque:\n",
    "        selected_rows = selected_rows[selected_rows['Type de protection'].isin([attaque])]\n",
    "    return pn.pane.DataFrame(selected_rows, sizing_mode='stretch_width', index=False, header=False)\n",
    "\n",
    "tableau_interactif = pn.Column(pn.Row(update_table, sizing_mode='stretch_width'), sizing_mode='stretch_width')\n",
    "\n",
    "dashboard = pn.Column(niveaux_selectionnes, attaques_selectionnees, tableau_interactif, sizing_mode='stretch_width')\n",
    "dashboard.show()"
   ]
  },
  {
   "cell_type": "markdown",
   "id": "e6cc0aeb",
   "metadata": {},
   "source": [
    "### Impact selon attaque Ai <a class=\"anchor\" id=\"impact\"></a>"
   ]
  },
  {
   "cell_type": "markdown",
   "id": "0844442d",
   "metadata": {},
   "source": [
    "On identifie : \n",
    "\n",
    "    - DDoS : Firewall (aide à bloquer le trafic indésirable provenant d'attaques DDoS) et Antivirus (détecte et bloque certains types de trafic malveillant) \n",
    "    - Phishing : Anti-virus (détecte et bloque les email phishing), Navigation sécurisée (anti-phishing) et Mdp robustes\n",
    "    - Ransomware : maj régulières (vulnérabilités nombreuses), authentification 2 facteurs, sauvegardes régulières (restauration des données)"
   ]
  },
  {
   "cell_type": "code",
   "execution_count": null,
   "id": "d43c25cb",
   "metadata": {},
   "outputs": [],
   "source": [
    "#on ajoute les choix de l'utilisateur au profil de l'entreprise \n",
    "# choix attaque et choix protections SI\n",
    "Profil_entreprise_1 = [pays,secteur,taille,CA,dev,age,calcul_salaire(Profil_entreprise_1,salairemoyen), choix_attaque,choix_niveaux]"
   ]
  },
  {
   "cell_type": "code",
   "execution_count": null,
   "id": "d3736296",
   "metadata": {},
   "outputs": [],
   "source": [
    "protections =  pd.read_excel('scorepays.xlsx', sheet_name='Protections')\n",
    "protections"
   ]
  },
  {
   "cell_type": "code",
   "execution_count": null,
   "id": "15feb606",
   "metadata": {},
   "outputs": [],
   "source": [
    "#selon l'attaque, affecte le score correspondant que si la protection SI est efficace\n",
    "def probaSI(profil_etp):\n",
    "    facteur = 1  # facteur à 1 (pas d'atténuation de la réussite de l'attaque)\n",
    "    \n",
    "    if profil_etp[7] == 'DDoS':\n",
    "        for protection in profil_etp[8]:\n",
    "            if protection == 'Firewall':\n",
    "                facteur *= protections.loc[(protections['Attaque'] == 'DDoS1') & (protections['Protection'] == 'Firewall'), 'Facteur'].values[0]\n",
    "            elif protection == 'Anti-virus':\n",
    "                facteur *=protections.loc[(protections['Attaque'] == 'DDoS2') & (protections['Protection'] == 'Anti-virus'), 'Facteur'].values[0]\n",
    "                \n",
    "    elif profil_etp[7] == 'Phishing':\n",
    "        for protection in profil_etp[8]:\n",
    "            if protection == 'Anti-virus':\n",
    "                facteur *= protections.loc[(protections['Attaque'] == 'Phishing1') & (protections['Protection'] == 'Anti-virus'), 'Facteur'].values[0]\n",
    "            elif protection == 'Mots de passe robustes':\n",
    "                facteur *= protections.loc[(protections['Attaque'] == 'Phishing2') & (protections['Protection'] == 'Mots de passe robustes'), 'Facteur'].values[0]\n",
    "            elif protection == 'Navigation sécurisée':\n",
    "                facteur *= protections.loc[(protections['Attaque'] == 'Phishing3') & (protections['Protection'] == 'Navigation sécurisée'), 'Facteur'].values[0]\n",
    "                \n",
    "    elif profil_etp[7] == 'Ransomware':\n",
    "        \n",
    "        for protection in profil_etp[8]:\n",
    "            if protection == 'Maj régulières':\n",
    "                facteur *= protections.loc[(protections['Attaque'] == 'Ransomware1') & (protections['Protection'] == 'Maj régulières'), 'Facteur'].values[0]\n",
    "            elif protection == 'Authentification à 2 facteurs':\n",
    "                facteur *= protections.loc[(protections['Attaque'] == 'Ransomware2') & (protections['Protection'] == 'Authentification à 2 facteurs'), 'Facteur'].values[0]\n",
    "            elif protection == 'Sauvegardes régulières':\n",
    "                facteur *= protections.loc[(protections['Attaque'] == 'Ransomware3') & (protections['Protection'] == 'Sauvegardes régulières'), 'Facteur'].values[0]\n",
    "    \n",
    "    return facteur"
   ]
  },
  {
   "cell_type": "code",
   "execution_count": null,
   "id": "5a14ceb9",
   "metadata": {
    "scrolled": true
   },
   "outputs": [],
   "source": [
    "probaSI(Profil_entreprise_1)"
   ]
  },
  {
   "cell_type": "markdown",
   "id": "292cb8c9",
   "metadata": {},
   "source": [
    "## Formation employés <a class=\"anchor\" id=\"formation\"></a>"
   ]
  },
  {
   "cell_type": "markdown",
   "id": "70a291b8",
   "metadata": {},
   "source": [
    "Les programmes de formation à la cybersécurité réduisent le risque de violation de données. Les employés seront mieux équipés pour reconnaître les signaux d’alerte. Cela aidera à éviter toute erreur coûteuse et à économiser du temps et de l’argent à long terme. La formation pour être interne ou faire appel à un intervenant extérieur."
   ]
  },
  {
   "cell_type": "markdown",
   "id": "f40f3bb1",
   "metadata": {},
   "source": [
    "### Formation risque cyber, généraliste et/ou phishing <a class=\"anchor\" id=\"formation_cyber\"></a>"
   ]
  },
  {
   "cell_type": "markdown",
   "id": "4429ec0b",
   "metadata": {},
   "source": [
    "On considère une formation cyber généraliste complète."
   ]
  },
  {
   "cell_type": "code",
   "execution_count": null,
   "id": "62d3e3a6",
   "metadata": {},
   "outputs": [],
   "source": [
    "options_list = [\"Formation cyber généraliste\", \"Formation au risque phishing\", \"Aucune\", \"Formation cyber généraliste et au risque phishing\"]\n",
    "first_selection = pn.widgets.Select(options=options_list)\n",
    "\n",
    "second_options_dict = {\n",
    "    \"Formation cyber généraliste\": [\"Formations ponctuelles\", \"Formations occasionnelles\", \"Formations régulières\"],\n",
    "    \"Formation au risque phishing\": [\"Formations ponctuelles\", \"Formations occasionnelles\", \"Formations régulières\"],\n",
    "    \"Formation cyber généraliste et au risque phishing\" :[\"Formations ponctuelles\", \"Formations occasionnelles\", \"Formations régulières\"],\n",
    "    \"Aucune\": []\n",
    "}\n",
    "\n",
    "second_selection = pn.widgets.Select()\n",
    "choix_formation = None\n",
    "choix_frequence = None\n",
    "\n",
    "def update_first_selection(event):\n",
    "    global choix_formation\n",
    "    selected_option = event.new\n",
    "    choix_formation = selected_option\n",
    "    update_second_options()\n",
    "\n",
    "def update_second_options():\n",
    "    global choix_frequence\n",
    "    selected_option = first_selection.value\n",
    "    second_selection.options = second_options_dict.get(selected_option, [])\n",
    "    if choix_frequence not in second_selection.options:\n",
    "        choix_frequence = None\n",
    "\n",
    "def update_second_selection(event):\n",
    "    global choix_frequence\n",
    "    selected_option = event.new\n",
    "    choix_frequence = selected_option\n",
    "\n",
    "first_selection.param.watch(update_first_selection, \"value\")\n",
    "second_selection.param.watch(update_second_selection, \"value\")\n",
    "\n",
    "\n",
    "\n",
    "layout = pn.Column(first_selection, second_selection)\n",
    "layout.show()"
   ]
  },
  {
   "cell_type": "code",
   "execution_count": null,
   "id": "5ca9d78b",
   "metadata": {},
   "outputs": [],
   "source": [
    "#ajoute le choix de formations de l'utilisateur au profil de l'entreprise\n",
    "Profil_entreprise_1 = [pays,secteur,taille,CA,dev,age,calcul_salaire(Profil_entreprise_1,salairemoyen),choix_attaque,choix_niveaux,choix_formation, choix_frequence]\n",
    "Profil_entreprise_1"
   ]
  },
  {
   "cell_type": "code",
   "execution_count": null,
   "id": "e5164cb7",
   "metadata": {},
   "outputs": [],
   "source": [
    "#données imaginées\n",
    "formation =  pd.read_excel('scorepays.xlsx', sheet_name='Formation')\n",
    "formation"
   ]
  },
  {
   "cell_type": "code",
   "execution_count": null,
   "id": "a9c42934",
   "metadata": {},
   "outputs": [],
   "source": [
    "Profil_entreprise_1"
   ]
  },
  {
   "cell_type": "code",
   "execution_count": null,
   "id": "eff727a1",
   "metadata": {},
   "outputs": [],
   "source": [
    "#création du sous score formation\n",
    "def probaformation(profil_etp):\n",
    "    facteur = 1\n",
    "    if profil_etp[9] == 'Formation cyber généraliste': \n",
    "        facteur = 0.9\n",
    "        if profil_etp[10] == 'Formations ponctuelles':\n",
    "            facteur *= formation.loc[(formation['Formation'] == 'Cyber généraliste1') & (formation['Fréquence'] == 'Ponctuelles'), 'Facteur'].values[0]\n",
    "        elif profil_etp[10] == 'Formations occasionnelles':\n",
    "            facteur *= formation.loc[(formation['Formation'] == 'Cyber généraliste2') & (formation['Fréquence'] == 'Occasionnelles'), 'Facteur'].values[0]\n",
    "        else:\n",
    "            facteur *= formation.loc[(formation['Formation'] == 'Cyber généraliste3') & (formation['Fréquence'] == 'Régulières'), 'Facteur'].values[0]\n",
    "    elif profil_etp[9] == 'Formation au risque phishing':\n",
    "        facteur = 0.85\n",
    "        if profil_etp[10] == 'Formations ponctuelles':\n",
    "            facteur *= formation.loc[(formation['Formation'] == 'Risque phishing1') & (formation['Fréquence'] == 'Ponctuelles'), 'Facteur'].values[0]\n",
    "        elif profil_etp[10] == 'Formations occasionnelles':\n",
    "            facteur *= formation.loc[(formation['Formation'] == 'Risque phishing2') & (formation['Fréquence'] == 'Occasionnelles'), 'Facteur'].values[0]\n",
    "        else:\n",
    "            facteur *= formation.loc[(formation['Formation'] == 'Risque phishing3') & (formation['Fréquence'] == 'Régulières'), 'Facteur'].values[0]\n",
    "    elif profil_etp[9] == 'Formation cyber généraliste et au risque phishing':\n",
    "        facteur = 0.6\n",
    "        if profil_etp[10] == 'Formations ponctuelles':\n",
    "            facteur *= formation.loc[(formation['Formation'] == 'Cyber généraliste et risque phishing1') & (formation['Fréquence'] == 'Ponctuelles'), 'Facteur'].values[0]\n",
    "        elif profil_etp[10] == 'Formations occasionnelles':\n",
    "            facteur *= formation.loc[(formation['Formation'] == 'Cyber généraliste et risque phishing2') & (formation['Fréquence'] == 'Occasionnelles'), 'Facteur'].values[0]\n",
    "        else:\n",
    "            facteur *= formation.loc[(formation['Formation'] == 'Cyber généraliste et risque phishing3') & (formation['Fréquence'] == 'Régulières'), 'Facteur'].values[0]\n",
    "    return facteur"
   ]
  },
  {
   "cell_type": "code",
   "execution_count": null,
   "id": "8681ca17",
   "metadata": {},
   "outputs": [],
   "source": [
    "probaformation(Profil_entreprise_1)"
   ]
  },
  {
   "cell_type": "markdown",
   "id": "2c8750aa",
   "metadata": {},
   "source": [
    "### Formation Phishing - Données historiques type sondage à réfléchir  <a class=\"anchor\" id=\"formation_phishing\"></a>"
   ]
  },
  {
   "cell_type": "markdown",
   "id": "db5596c8",
   "metadata": {},
   "source": [
    "Dans un premier temps, **les données qui suivent sont à titre d'exemple** si on sonde les entreprises concernant le risque phishing. On imagine que l'on distribue un sondage de ce type aux employés de l'entreprise C : \n",
    "\n",
    "    - Pensez-vous avoir déjà reçu un e-mail frauduleux sur votre messagerie électronique professionnelle l'année dernière ? Si oui,\n",
    "    - Avez-vous cliqué sur ce mail ? \n",
    "    Si non, \n",
    "    - Pensez-vous faire attention à vos mails? \n",
    "    \n",
    "Etc\n",
    "\n",
    "Les données sont inspirées de : TitanHQ. (2020). Phishing : les protections sont insuffisantes, les employés tombent dans le\n",
    "piège ! et \n",
    "TitanHQ. (2021). Statistiques sur le phishing en 2021"
   ]
  },
  {
   "cell_type": "markdown",
   "id": "dbb4417c",
   "metadata": {},
   "source": [
    "<img>![image2](sondageréussite.png)"
   ]
  },
  {
   "cell_type": "markdown",
   "id": "6ff55cb2",
   "metadata": {},
   "source": [
    "On pourrait imaginer faire la moyenne des probabilités obtenues de chaque employé."
   ]
  },
  {
   "cell_type": "markdown",
   "id": "0747a7fc",
   "metadata": {},
   "source": [
    "## Caractéristiques entreprise <a class=\"anchor\" id=\"cara_etp\"></a>"
   ]
  },
  {
   "cell_type": "markdown",
   "id": "a8c17362",
   "metadata": {},
   "source": [
    "On peut imaginer que certaines caractéristiques d'une entreprise peuvent influer sur la réussite ou l'échec d'une attaque cyber : \n",
    "\n",
    "    - âge des salariés\n",
    "    - rotation des salariés\n",
    "    - mobilité des salariés"
   ]
  },
  {
   "cell_type": "markdown",
   "id": "9b8436d1",
   "metadata": {},
   "source": [
    "### Age moyen des salariés <a class=\"anchor\" id=\"age\"></a>"
   ]
  },
  {
   "cell_type": "code",
   "execution_count": null,
   "id": "b6a1dd4e",
   "metadata": {},
   "outputs": [],
   "source": [
    "#on imagine que les employés plus âgés sont moins sensibilisés au risque cyber que les plus jeunes\n",
    "def age_salarie(profil_etp): \n",
    "    age = profil_etp[5]\n",
    "    facteur = 1 \n",
    "    if age < 45: \n",
    "        facteur *= 0.7\n",
    "    return facteur"
   ]
  },
  {
   "cell_type": "code",
   "execution_count": null,
   "id": "f7104d7d",
   "metadata": {},
   "outputs": [],
   "source": [
    "age_salarie(Profil_entreprise_1)"
   ]
  },
  {
   "cell_type": "markdown",
   "id": "ca878720",
   "metadata": {},
   "source": [
    "## Fonction f(facteurs atténuation/aggravation) <a class=\"anchor\" id=\"fonction\"></a>"
   ]
  },
  {
   "cell_type": "code",
   "execution_count": null,
   "id": "d02be51a",
   "metadata": {},
   "outputs": [],
   "source": [
    "#simple moyenne pondérée des sous scores\n",
    "def facteur(profil_etp):\n",
    "    return (probaformation(profil_etp)+probaSI(profil_etp)+age_salarie(profil_etp))/3"
   ]
  },
  {
   "cell_type": "code",
   "execution_count": null,
   "id": "3af5d157",
   "metadata": {},
   "outputs": [],
   "source": [
    "facteur(Profil_entreprise_1)"
   ]
  },
  {
   "cell_type": "markdown",
   "id": "896fb06c",
   "metadata": {},
   "source": [
    "## Proba finale fréquence x réussite  <a class=\"anchor\" id=\"finalfreq\"></a>"
   ]
  },
  {
   "cell_type": "code",
   "execution_count": null,
   "id": "a150ff01",
   "metadata": {},
   "outputs": [],
   "source": [
    "#simple multiplication frequence x reussite \n",
    "def probafinalefreq(etp): \n",
    "    return facteur(etp)*probafrequence(etp)"
   ]
  },
  {
   "cell_type": "code",
   "execution_count": null,
   "id": "3390a84c",
   "metadata": {},
   "outputs": [],
   "source": [
    "probafinalefreq(Profil_entreprise_1)"
   ]
  },
  {
   "cell_type": "markdown",
   "id": "624e8240",
   "metadata": {},
   "source": [
    "# *** BLOC COUTS ***"
   ]
  },
  {
   "cell_type": "markdown",
   "id": "08cd33a6",
   "metadata": {},
   "source": [
    "# Estimation des montants des pertes - Fonction Coût <a class=\"anchor\" id=\"fonctioncout\"></a>"
   ]
  },
  {
   "cell_type": "markdown",
   "id": "12984da1",
   "metadata": {},
   "source": [
    "Nous pourrions : \n",
    "\n",
    "    - Représenter ce montant des pertes par une loi Gamma (ajustable avec des caractéristiques client)\n",
    "    - Utiliser les caractéristiques Client (fournies par Cybastion) \n",
    "    - Obtenir les impacts par honeypots\n",
    "    - Recopier directement d'autres outils dispos\n",
    "    - ..."
   ]
  },
  {
   "cell_type": "markdown",
   "id": "a7db5e51",
   "metadata": {},
   "source": [
    "Dans le cas de cette simulation, nous allons utiliser les caractéristiques des entreprises fictives que nous avons construit."
   ]
  },
  {
   "cell_type": "markdown",
   "id": "a9db3635",
   "metadata": {},
   "source": [
    "## Pertes liées aux revenus mensuels d'une entreprise <a class=\"anchor\" id=\"mensuel\"></a>"
   ]
  },
  {
   "cell_type": "markdown",
   "id": "650d0ae1",
   "metadata": {},
   "source": [
    "Première approche : \n",
    "\n",
    "                    - récupérer les revenus mensuels des années précédentes N-3/2/1 pour approcher les revenus mensuels à l'année N, période d'attaque.\n",
    "                    - cibler les services touchés par l'attaque pour affiner les revenus mensuels\n",
    "   \n",
    "Hypothèse : on pense qu'une attaque rend indispo les SI pendant au minimum 1 journée."
   ]
  },
  {
   "cell_type": "code",
   "execution_count": null,
   "id": "90a6c5ff",
   "metadata": {},
   "outputs": [],
   "source": [
    "def cout(profil_etp):\n",
    "    # les facteurs random.uniform servent à prendre en compte les variations des revenus mensuels, hyp plus grande pour grosse entreprise, on choisit >1 pour \"assurer\" un certain coussin d'air pour l'assureur \n",
    "    # On pense que les fluctuations de revenus mensuels sont plus importantes pour une petite entreprise  \n",
    "    CA_etp=profil_etp[3]\n",
    "    facteur = 0\n",
    "    mois = ['Janvier', 'Février', 'Mars', 'Avril', 'Mai', 'Juin', 'Juillet', 'Août', 'Septembre', 'Octobre', 'Novembre', 'Décembre']\n",
    "    ca_par_mois = []\n",
    "    \n",
    "    if profil_etp[4] == 'Débutante': \n",
    "        facteur = 0.9\n",
    "    elif profil_etp[4] == 'Correct':\n",
    "        facteur = 0.95\n",
    "    else : \n",
    "        facteur = 0.99\n",
    "    \n",
    "    \n",
    "    \n",
    "    for i in range(12):\n",
    "        if profil_etp[1] == 'Agriculture': \n",
    "            if i in [3, 4, 5]:  \n",
    "                \n",
    "                ca_mois = CA_etp / 12  * np.random.uniform(1.1, 1.3) * 4\n",
    "            else:\n",
    "                ca_mois = CA_etp / 12 * np.random.uniform(1.1, 1.3)\n",
    "            ca_par_mois.append(ca_mois)            \n",
    "        elif profil_etp[1] == 'Banque/assurance' :\n",
    "            ca_mois = CA_etp/12 * np.random.uniform(0.98, 1.02)\n",
    "            ca_par_mois.append(ca_mois)\n",
    "        elif profil_etp[1] == 'Industrie':\n",
    "            if i in [0, 1,2]:\n",
    "                ca_mois = CA_etp / 12 * np.random.uniform(1.02, 1.06) * 2\n",
    "            else : \n",
    "                ca_mois = CA_etp / 12 * np.random.uniform(1.02, 1.06)\n",
    "            ca_par_mois.append(ca_mois)\n",
    "        else :\n",
    "            ca_mois = CA_etp/12 * np.random.uniform(0.98, 1.02)\n",
    "            ca_par_mois.append(ca_mois)\n",
    "    \n",
    "    return mois, ca_par_mois"
   ]
  },
  {
   "cell_type": "code",
   "execution_count": null,
   "id": "e52fd5d3",
   "metadata": {},
   "outputs": [],
   "source": [
    "Profil_entreprise_1"
   ]
  },
  {
   "cell_type": "code",
   "execution_count": null,
   "id": "7d40eaf8",
   "metadata": {},
   "outputs": [],
   "source": [
    "cout(Profil_entreprise_1)"
   ]
  },
  {
   "cell_type": "markdown",
   "id": "d983a284",
   "metadata": {},
   "source": [
    "## Calcul du revenu par jour par Entreprise <a class=\"anchor\" id=\"jour\"></a>"
   ]
  },
  {
   "cell_type": "code",
   "execution_count": null,
   "id": "711cc6fa",
   "metadata": {},
   "outputs": [],
   "source": [
    "#on calcule les revenus par jour pour chaque mois\n",
    "def revenujour(profil_etp):\n",
    "    taille = len(cout(profil_etp)[1])\n",
    "    ca_jour = []\n",
    "    for j in range(taille): \n",
    "        ca_jour.append(round(cout(profil_etp)[1][j]/30))\n",
    "    return ca_jour"
   ]
  },
  {
   "cell_type": "markdown",
   "id": "46173971",
   "metadata": {},
   "source": [
    "## Pertes masse salariale <a class=\"anchor\" id=\"massesalariale\"></a>"
   ]
  },
  {
   "cell_type": "markdown",
   "id": "90b1ad45",
   "metadata": {},
   "source": [
    "On prend en compte les pertes liées à la masse salariale qui est payée lorsqu'elle est non productive, journalier."
   ]
  },
  {
   "cell_type": "code",
   "execution_count": null,
   "id": "6482d480",
   "metadata": {},
   "outputs": [],
   "source": [
    "#on calcule la masse salariale suivant le nombre d'employés\n",
    "#ici le /30 sert \"juste\" à avoir des valeurs cohérentes, cela peutêtre supprimé lorsque d'autres charges seront ajoutées au modèle\n",
    "\n",
    "def calcul_perte_masse_salariale_jour(entreprise):\n",
    "    if entreprise[2] == '<10': \n",
    "        cout = entreprise[6]*1 /30\n",
    "    elif entreprise[2] == '10-49':\n",
    "        cout = entreprise[6]*10 / 30 \n",
    "    elif entreprise[2] == '50-250':\n",
    "        cout = entreprise[6]*50 / 30 \n",
    "    else: \n",
    "        cout = entreprise[6]*250 / 30 \n",
    "        \n",
    "    return cout"
   ]
  },
  {
   "cell_type": "markdown",
   "id": "073ac650",
   "metadata": {},
   "source": [
    "## Coûts prévisionnels/jour - Charges prévisionnelles/jour <a class=\"anchor\" id=\"coutprev\"></a>"
   ]
  },
  {
   "cell_type": "markdown",
   "id": "5b6e63ca",
   "metadata": {},
   "source": [
    "On fait l'hypothèse que les charges sont les mêmes d'une année sur l'autre."
   ]
  },
  {
   "cell_type": "markdown",
   "id": "605bc393",
   "metadata": {},
   "source": [
    "De la même façon, si le CA semble constant d'une année sur l'autre, d'un mois sur l'autre ou d'un jour sur l'autre (mieux), alors augmentation = 0, sinon on puet le modéliser."
   ]
  },
  {
   "cell_type": "code",
   "execution_count": null,
   "id": "6b072902",
   "metadata": {},
   "outputs": [],
   "source": [
    "#ici on fait l'hypothèse directe que le CA de l'entreprise augmente d'une année sur l'autre\n",
    "def cout_previsionnel(entreprise, augmentation): \n",
    "    Couts_N = cout(entreprise)[1]\n",
    "    mois = cout(entreprise)[0]\n",
    "    for m in [0,1,2,3,4,5,6,7,8,9,10,11] :\n",
    "        Couts_N[m] = Couts_N[m]*(augmentation+1) # a modifier si l'hypothèse n'est plus valable\n",
    "    return Couts_N"
   ]
  },
  {
   "cell_type": "code",
   "execution_count": null,
   "id": "1a8d1b97",
   "metadata": {},
   "outputs": [],
   "source": [
    "cout_previsionnel(Profil_entreprise_1,0)"
   ]
  },
  {
   "cell_type": "code",
   "execution_count": null,
   "id": "2b943cf1",
   "metadata": {},
   "outputs": [],
   "source": [
    "def revenuprevjour(profil_etp, augmentation):\n",
    "    taille = len(cout_previsionnel(profil_etp,augmentation))\n",
    "    ca_jour = []\n",
    "    for j in range(taille): \n",
    "        ca_jour.append(round(cout_previsionnel(profil_etp,augmentation)[j]/30))\n",
    "    return ca_jour"
   ]
  },
  {
   "cell_type": "markdown",
   "id": "8d6faf9b",
   "metadata": {},
   "source": [
    "## Calcul taux marge brute journaliere * nb jours d'attaque * revenus prev/jour  <a class=\"anchor\" id=\"calculfi\"></a>"
   ]
  },
  {
   "cell_type": "markdown",
   "id": "bbbddad2",
   "metadata": {},
   "source": [
    "On utilise le calcul suivant : \n",
    "\n",
    "Couts perte d’exploitation(t) =  Taux de marge brute x perte de CA prévisionnel(t). Avec :\n",
    "\n",
    "Marge brute = Chiffre d'affaires  − Coût de production  (ici on prend que les salariés)\n",
    "\n",
    "Taux de marge brute = (Marge brute / Chiffres d'affaires )\n",
    "\n",
    "Pertes de CA previsionnel(t) = Revenujour(t)* Nombre de jours d'indisponibilité\n",
    "\n",
    "\n",
    "Source : https://indemnisation-assurance.com/calcul-indemnisation-pertes-exploitation-comprendre-contrat-assurance-professionnelle/"
   ]
  },
  {
   "cell_type": "markdown",
   "id": "319e12b2",
   "metadata": {},
   "source": [
    "### Calcul total des pertes"
   ]
  },
  {
   "cell_type": "code",
   "execution_count": null,
   "id": "087fa57a",
   "metadata": {},
   "outputs": [],
   "source": [
    "# renvoie le montant des pertes pour une duree attaque donnée sur les mois de l'année\n",
    "\n",
    "def montant_pertes(entreprise, duree_attaque, marge):\n",
    "    mois = ['Janvier', 'Février', 'Mars', 'Avril', 'Mai', 'Juin', 'Juillet', 'Août', 'Septembre', 'Octobre', 'Novembre', 'Décembre']\n",
    "    M_P = []  # Liste pour stocker les montants des pertes par mois\n",
    "    revenus_prev = revenuprevjour(entreprise, 0.05)\n",
    " #   marg_brute = marge_brute(entreprise)\n",
    "    durees_possibles = set(range(1, 31))  # Durées possibles de l'attaque de 1 à 30\n",
    "\n",
    "    for m in range(len(mois)):\n",
    "        montant = revenus_prev[m]\n",
    "        montant_attaque = montant * duree_attaque  # Montant ajusté en fonction de la durée de l'attaque\n",
    "        montant_perte = marge * montant_attaque # * np.random.uniform(0.99, 1.01)\n",
    "        M_P.append(montant_perte)  # Ajouter le montant de perte mensuel à la liste\n",
    "\n",
    "    return M_P  # Retourne la liste des montants de pertes par mois"
   ]
  },
  {
   "cell_type": "code",
   "execution_count": null,
   "id": "98fc7ecb",
   "metadata": {},
   "outputs": [],
   "source": [
    "montant_pertes(Profil_entreprise_1,1,0.35)"
   ]
  },
  {
   "cell_type": "code",
   "execution_count": null,
   "id": "c3af7e6f",
   "metadata": {},
   "outputs": [],
   "source": [
    "Profil_entreprise_1"
   ]
  },
  {
   "cell_type": "markdown",
   "id": "1ee69ca6",
   "metadata": {},
   "source": [
    "# *** Bloc risque *** <a class=\"anchor\" id=\"risque\"></a>"
   ]
  },
  {
   "cell_type": "markdown",
   "id": "3e980bef",
   "metadata": {},
   "source": [
    "On part du postulat que :\n",
    "\n",
    "$$ R_{N}^{C}= \\mathbb{E}[X_{N}^{C}] * \\mathbb{P}(A_{N ; i}^{C}) $$"
   ]
  },
  {
   "cell_type": "markdown",
   "id": "69050219",
   "metadata": {},
   "source": [
    "Où : \n",
    "- $$R_{N}^{C}$$ représente le risque cyber à l'année N pour une orga C\n",
    "- $$X_{N}^{C}$$ représente une v.a. associée montant d'une perte cyber année N pour orga C\n",
    "- $$A_{N ; i}^{C}$$ représente une attaque cyber i à l'année N pour orga C"
   ]
  },
  {
   "cell_type": "markdown",
   "id": "4539f877",
   "metadata": {},
   "source": [
    "Dans le cadre de cette simulation, on s'est concentré sur A(ttaque)=DDoS"
   ]
  },
  {
   "cell_type": "markdown",
   "id": "62d55e42",
   "metadata": {},
   "source": [
    "Nous avons précédemment calculé le montant lié à ces pertes. La partie complexe du pb réside dans la création d'une fonction qui prend f(caractéristiques entreprise, CA, maturité SI,...)."
   ]
  },
  {
   "cell_type": "markdown",
   "id": "ed7e802d",
   "metadata": {},
   "source": [
    "> Si on prend l'hypothèse que les probas sont indépendantes, une seule multiplication des probas suffirait mais c'est une hypothèse trop forte dans notre cas."
   ]
  },
  {
   "cell_type": "markdown",
   "id": "e5eec0e3",
   "metadata": {},
   "source": [
    "> On peut faire simple en utilisant une moyenne pondérée des probas. Mais quelles probas entrent en jeu ?  On peut utiliser : \n",
    "\n",
    "    - Différents profils par rapport au phishing\n",
    "    - Probabilité qu'une entreprise soit touchée par une attaque DDoS et subissent une perte d'exp\n",
    "    - ... (à définir) \n",
    "   "
   ]
  },
  {
   "cell_type": "markdown",
   "id": "c75dfbe3",
   "metadata": {},
   "source": [
    "Le cas le plus simple :\n",
    "\n",
    "    - à l'année N, on prend l'entreprise 1, on sait que montant_pertes(Entreprise_1)= E[X_{N}^{C}]\n",
    "    - Pour les probas, on estime que l'entreprise 1 a un niveau de maturité SI débutant, on prend en compte ses caractéristiques : pas de formation en cyber pour les employés, a déjà subi une attaque cyber.\n",
    "    - Pour l'entreprise 2, on estime que son niveau de maturité SI est bon, que les employés ont déjà cliqué sur des mails frauduleux et donc que l'entreprise a formé ses employés."
   ]
  },
  {
   "cell_type": "markdown",
   "id": "9af6fb2e",
   "metadata": {},
   "source": [
    "## Méthode de simulations et calcul risque <a class=\"anchor\" id=\"simu\"></a>"
   ]
  },
  {
   "cell_type": "markdown",
   "id": "e958b0ca",
   "metadata": {},
   "source": [
    "On souhaite réaliser un grand nombre de simulations afin d'obtenir une distribution des pertes. Méthode de type MC."
   ]
  },
  {
   "cell_type": "code",
   "execution_count": null,
   "id": "0b624e2b",
   "metadata": {},
   "outputs": [],
   "source": [
    "#simule les pertes financières de l'attaque pour une durée donnée\n",
    "import time\n",
    "\n",
    "start = time.time()\n",
    "\n",
    "def simulate_loss(entreprise, duree_attaque, marge, saison):\n",
    "    monthly_losses = montant_pertes(entreprise, duree_attaque, marge)\n",
    "    if saison == \"Hiver\": \n",
    "        total_loss = sum(monthly_losses[0:2])/3\n",
    "    elif saison == \"Printemps\": \n",
    "        total_loss = sum(monthly_losses[3:5])/3\n",
    "    elif saison == \"Ete\": \n",
    "        total_loss = sum(monthly_losses[6:8])/3\n",
    "    else : \n",
    "        total_loss = sum(monthly_losses[9:11])/3\n",
    "    return total_loss\n",
    "\n",
    "#simule le risque \n",
    "def simulate_risk(entreprise, n_simulations, duree_attaque, marge,mois):\n",
    "    risks = []\n",
    "    for _ in range(n_simulations):\n",
    "        loss = simulate_loss(entreprise, duree_attaque, marge,mois)\n",
    "        risks.append(loss)\n",
    "    mean_risk = np.mean(risks)\n",
    "    return risks, mean_risk\n",
    "\n",
    "\n",
    "#calcule la probabilité, si pour + d'aléa, ne pas la fixer avant l'appel de la fonction\n",
    "proba=probafinalefreq(Profil_entreprise_1)\n",
    "print(proba)\n",
    "\n",
    "#méthode de simultation du risque + calcul moyenne\n",
    "def mesure_R(entreprise, n_simulations, duree_attaque,proba, marge, mois):\n",
    "    risks, mean_risk = simulate_risk(entreprise, n_simulations, duree_attaque, marge,mois)\n",
    "    risks = [risk * proba for risk in risks] \n",
    "    mean_risk *= proba  \n",
    "    return risks, mean_risk\n",
    "\n",
    "n_simulations = 10000\n",
    "duree_attaque = 10\n",
    "marge = 0.35\n",
    "saison = 'Automne'\n",
    "entreprise = Profil_entreprise_1\n",
    "risk_values, risk_mean = mesure_R(entreprise, n_simulations, duree_attaque,proba, marge, saison)\n",
    "end = time.time()\n",
    "\n",
    "print(end - start)\n",
    "plt.hist(risk_values, bins=30, edgecolor='black', label='Exposition au risque',  density=True)\n",
    "plt.axvline(risk_mean, color='red', linestyle='dashed', linewidth=2, label='Moyenne')\n",
    "\n",
    "plt.legend()  \n",
    "plt.xlabel('Montant')\n",
    "plt.ylabel('Fréquence')\n",
    "plt.title('Exposition au risque')\n",
    "plt.show()"
   ]
  },
  {
   "cell_type": "code",
   "execution_count": null,
   "id": "e0c2516f",
   "metadata": {},
   "outputs": [],
   "source": [
    "risk_mean"
   ]
  },
  {
   "cell_type": "code",
   "execution_count": null,
   "id": "3d26e20b",
   "metadata": {},
   "outputs": [],
   "source": [
    "#calcule le pourcentage du CA de l'entreprise impacté par l'attaque\n",
    "risk_mean/Profil_entreprise_1[3] * 100"
   ]
  },
  {
   "cell_type": "markdown",
   "id": "e12d9af6",
   "metadata": {},
   "source": [
    "# Distribution des pertes globales <a class=\"anchor\" id=\"global\"></a>"
   ]
  },
  {
   "cell_type": "code",
   "execution_count": null,
   "id": "134ad6c2",
   "metadata": {},
   "outputs": [],
   "source": [
    "Profil_entreprise_1"
   ]
  },
  {
   "cell_type": "code",
   "execution_count": null,
   "id": "44e45937",
   "metadata": {},
   "outputs": [],
   "source": [
    "# à modifier l'attaque cyber\n",
    "Profil_entreprise_2 = "
   ]
  },
  {
   "cell_type": "code",
   "execution_count": null,
   "id": "ef6bfaeb",
   "metadata": {},
   "outputs": [],
   "source": [
    "# à modifier l'attaque cyber \n",
    "Profil_entreprise_3="
   ]
  },
  {
   "cell_type": "code",
   "execution_count": null,
   "id": "dd43c2bf",
   "metadata": {},
   "outputs": [],
   "source": [
    "risk_values_ransomware, risk_mean_ransomware = mesure_R(Profil_entreprise_1, 600, 12,probafrequence(Profil_entreprise_1))\n",
    "risk_values_phishing, risk_mean_phishing = mesure_R(Profil_entreprise_2, 600, 12,probafrequence(Profil_entreprise_2))\n",
    "risk_values_ddos, risk_mean_ddos = mesure_R(Profil_entreprise_3, 600, 12,probafrequence(Profil_entreprise_3))\n",
    "combined_risk_values = risk_values_ransomware + risk_values_phishing + risk_values_ddos\n",
    "\n",
    "plt.hist(combined_risk_values, bins=1000, edgecolor='black', label='Exposition au risque global', density=True)\n",
    "plt.axvline(np.mean(combined_risk_values), color='red', linestyle='dashed', linewidth=2, label='Moyenne')\n",
    "plt.legend()  \n",
    "plt.xlabel('Montant pertes')\n",
    "plt.ylabel('Fréquence')\n",
    "plt.title('Exposition au risque global')\n",
    "plt.show()"
   ]
  },
  {
   "cell_type": "code",
   "execution_count": null,
   "id": "c0a21e0d",
   "metadata": {},
   "outputs": [],
   "source": [
    "risk_mean_ransomware/(risk_mean_ransomware+risk_mean_phishing+risk_mean_ddos)*100"
   ]
  },
  {
   "cell_type": "code",
   "execution_count": null,
   "id": "f3ea0d59",
   "metadata": {},
   "outputs": [],
   "source": [
    "risk_mean_phishing/(risk_mean_ransomware+risk_mean_phishing+risk_mean_ddos)*100"
   ]
  },
  {
   "cell_type": "code",
   "execution_count": null,
   "id": "91382a02",
   "metadata": {},
   "outputs": [],
   "source": [
    "risk_mean_ddos/(risk_mean_ransomware+risk_mean_phishing+risk_mean_ddos)*100"
   ]
  },
  {
   "cell_type": "code",
   "execution_count": null,
   "id": "851b9fba",
   "metadata": {},
   "outputs": [],
   "source": [
    "risk_mean_ransomware+risk_mean_phishing+risk_mean_ddos"
   ]
  },
  {
   "cell_type": "code",
   "execution_count": null,
   "id": "e136c279",
   "metadata": {},
   "outputs": [],
   "source": [
    "global_losses = risk_mean_ransomware+risk_mean_phishing+risk_mean_ddos\n",
    "mean_loss = global_losses\n",
    "standard_deviation = 2000  \n",
    "num_simulations = 10000\n",
    "simulated_losses = np.random.normal(loc=mean_loss, scale=standard_deviation, size=num_simulations)\n",
    "plt.hist(simulated_losses, bins=100, edgecolor='black', label='Exposition au risque global', density=True)\n",
    "plt.axvline(global_losses, color='red', linestyle='dashed', linewidth=2, label='Montant global des pertes')\n",
    "plt.legend()  \n",
    "plt.xlabel('Montant des pertes')\n",
    "plt.ylabel('Fréquence')\n",
    "plt.title('Exposition au risque pour toutes les attaques cyber')\n",
    "plt.show()"
   ]
  },
  {
   "cell_type": "markdown",
   "id": "e8c2534d",
   "metadata": {},
   "source": [
    "# Fonction finale - concaténation - dashboard final <a class=\"anchor\" id=\"final\"></a>"
   ]
  },
  {
   "cell_type": "code",
   "execution_count": null,
   "id": "171beb0e",
   "metadata": {},
   "outputs": [],
   "source": [
    "pays_entreprise = pn.widgets.Select(name='Pays de l\\'entreprise', options=['Liberia', 'Afrique du Sud', 'Namibie', 'Tanzanie', 'Mozambique'])\n",
    "secteur_activite = pn.widgets.Select(name='Secteur d\\'activité', options=['Agriculture', 'Banque/Assurance', 'Industrie', 'Services médicaux'])\n",
    "taille_entreprise = pn.widgets.Select(name='Nombre d\\'employés de l\\'entreprise', options=['<10', '10-50', '50-250', '>250'])\n",
    "CA_entreprise = pn.widgets.IntInput(name='Chiffre d\\'Affaires de l\\'entreprise', value=0)\n",
    "reseauSI_entreprise = pn.widgets.Select(name='Réseau SI de l\\'entreprise', options=['Débutante', 'Correct', 'Avancé'])  # Taille du réseau SI\n",
    "age_entreprise = pn.widgets.IntInput(name='Age moyen des salariés', value=0)\n",
    "marge_entreprise = pn.widgets.IntInput(name='Taux de marge de l\\'entreprise en %', value=0)\n",
    "\n",
    "\n",
    "taille_entreprise_text = pn.widgets.StaticText(value=\"Nombre d'employés de l'entreprise:\")\n",
    "reseauSI_entreprise_text = pn.widgets.StaticText(value=\"<b>Réseau SI de l'entreprise = dépendance au SI de l'entreprise</b><br>\"\n",
    "                                                \"Si l'entreprise est peu dépendante de son réseau SI (30%), Réseau SI = débutante<br>\"\n",
    "                                                \"Si l'entreprise est moyennement dépendante de son réseau SI (60%), Réseau SI = correct<br>\"\n",
    "                                                \"Si l'entreprise est dépendante de son réseau SI (90%), Réseau SI = avancé<br>\")\n",
    "\n",
    "\n",
    "protections_SI_text = pn.widgets.StaticText(value = \"<b>Firewall : </b> programme qui analyse le trafic réseau et crée une barrière pour bloquer les virus et les attaquants<br>\"\n",
    "                                           \"<b>Antivirus :</b> logiciel destiné à repérer et à détruire des virus informatiques<br>\"\n",
    "                                           \"<b>Maj régulières :</b> mises à jour régulières des logiciels du SI<br>\"\n",
    "                                           \"<b>Authentification à 2 facteurs :</b> sécurise avec un mot de passe et un autre élément<br>\"\n",
    "                                           \"<b>Mots de passe robustes :</b> mots de passe longs, incompréhensibles et uniques <br>\"\n",
    "                                           \"<b>Navigation sécurisée :</b> bloque les sites web, extensions et téléchargements dangereux<br>\"\n",
    "                                           \"<b>Sauvegardes régulières :</b> sauvegardes régulières des données<br>\"\n",
    "                                           \"<b>Chiffrement des données :</b> mode de protection qui rend impossible la lecture ou la compréhension de données pour quelqu'un d'externe<br>\")\n",
    "\n",
    "attaques_text = pn.widgets.StaticText(value = \"<b>DDoS :</b> attaque rendant indisponible un SI par inondation du réseau ou perturbations de connexion<br>\"\n",
    "                                      \"<b>Phishing : </b> mail frauduleux destiné à tromper la victime pour récupérer des données<br>\" \n",
    "                                     \"<b>Ransomware : </b> logiciel malicieux qui prend en otage des données<br>\")\n",
    "\n",
    "\n",
    "protections = [['1', 'Firewall'],\n",
    "               ['2', 'Anti-virus'],\n",
    "               ['3', 'Maj régulières'],\n",
    "               ['4', 'Authentification à 2 facteurs'],\n",
    "               ['5', 'Mots de passe robustes'],\n",
    "               ['6', 'Navigation sécurisée'],\n",
    "               ['7', 'Sauvegardes régulières'],\n",
    "               ['8', 'Chiffrement des données']]\n",
    "\n",
    "df = pd.DataFrame(protections, columns=['Classement niveau de protection', 'Type de protection'])\n",
    "\n",
    "niveaux_selectionnes = pn.widgets.MultiSelect(name='Sélectionner les protections SI de l\\'entreprise', options=df['Type de protection'].tolist())\n",
    "attaques_selectionnees = pn.widgets.Select(name='Sélectionner l\\'attaque cyber qui a lieu', options=['DDoS', 'Phishing', 'Ransomware'])\n",
    "saison_selectionnee = pn.widgets.Select(name='Sélectionner la saison où a lieu l\\'attaque cyber', options=['Hiver','Printemps','Ete','Automne'])\n",
    "\n",
    "\n",
    "options_list = [\"Formation cyber généraliste\", \"Formation au risque phishing\", \"Aucune\", \"Formation cyber généraliste et au risque phishing\"]\n",
    "first_selection = pn.widgets.Select(name = 'Type de formations', options=options_list)\n",
    "\n",
    "second_options_dict = {\n",
    "    \"Formation cyber généraliste\": [\"Formations ponctuelles\", \"Formations occasionnelles\", \"Formations régulières\"],\n",
    "    \"Formation au risque phishing\": [\"Formations ponctuelles\", \"Formations occasionnelles\", \"Formations régulières\"],\n",
    "    \"Formation cyber généraliste et au risque phishing\" :[\"Formations ponctuelles\", \"Formations occasionnelles\", \"Formations régulières\"],\n",
    "    \"Aucune\": []\n",
    "}\n",
    "\n",
    "second_selection = pn.widgets.Select(name='Fréquence des formations')\n",
    "choix_formation = None\n",
    "choix_frequence = None\n",
    "\n",
    "salairemoyen = pd.read_excel('salairemoyen.xlsx', index_col=0)\n",
    "\n",
    "def update_first_selection(event):\n",
    "    global choix_formation\n",
    "    selected_option = event.new\n",
    "    choix_formation = selected_option\n",
    "    update_second_options()\n",
    "\n",
    "def update_second_selection(event):\n",
    "    global choix_frequence\n",
    "    selected_option = event.new\n",
    "    choix_frequence = selected_option\n",
    "\n",
    "first_selection.param.watch(update_first_selection, \"value\")\n",
    "second_selection.param.watch(update_second_selection, \"value\")\n",
    "\n",
    "\n",
    "formation_widget = pn.Column(\n",
    "    '# Formation',\n",
    "    first_selection,\n",
    "    second_selection,\n",
    "    sizing_mode='stretch_width'\n",
    ")\n",
    "\n",
    "profil_entreprise_liste = [\n",
    "    pays_entreprise.value,\n",
    "    taille_entreprise.value,\n",
    "    secteur_activite.value,\n",
    "    CA_entreprise.value,\n",
    "    reseauSI_entreprise.value,\n",
    "    age,\n",
    "    None,  \n",
    "    [],    \n",
    "    None,  \n",
    "    choix_formation,    \n",
    "    choix_frequence,\n",
    "    marge_entreprise.value,\n",
    "    saison_selectionnee\n",
    "]\n",
    "\n",
    "\n",
    "def update_profil_entreprise(event):\n",
    "    global profil_entreprise_liste, choix_formation, choix_frequence\n",
    "    \n",
    "    profil_entreprise_liste[0] = pays_entreprise.value\n",
    "    profil_entreprise_liste[1] = taille_entreprise.value\n",
    "    profil_entreprise_liste[2] = secteur_activite.value\n",
    "    profil_entreprise_liste[3] = CA_entreprise.value\n",
    "    profil_entreprise_liste[4] = reseauSI_entreprise.value\n",
    "    profil_entreprise_liste[5] = age_entreprise.value\n",
    "\n",
    "    profil_entreprise_liste[6] = salairemoyen.loc[secteur_activite.value,pays_entreprise.value]\n",
    "\n",
    "    profil_entreprise_liste[7] = niveaux_selectionnes.value\n",
    "\n",
    "    profil_entreprise_liste[8] = attaques_selectionnees.value\n",
    "\n",
    "    profil_entreprise_liste[9] = choix_formation\n",
    "    profil_entreprise_liste[10] = choix_frequence\n",
    "    profil_entreprise_liste[11] = marge_entreprise.value\n",
    "    profil_entreprise_liste[12] = saison_selectionnee.value\n",
    "\n",
    "    profil_entreprise_text.value = str(profil_entreprise_liste)\n",
    "\n",
    "pays_entreprise.param.watch(update_profil_entreprise, 'value')\n",
    "secteur_activite.param.watch(update_profil_entreprise, 'value')\n",
    "taille_entreprise.param.watch(update_profil_entreprise, 'value')\n",
    "CA_entreprise.param.watch(update_profil_entreprise, 'value')\n",
    "reseauSI_entreprise.param.watch(update_profil_entreprise, 'value')\n",
    "age_entreprise.param.watch(update_profil_entreprise,'value')\n",
    "marge_entreprise.param.watch(update_profil_entreprise, 'value')\n",
    "niveaux_selectionnes.param.watch(update_profil_entreprise, 'value')\n",
    "attaques_selectionnees.param.watch(update_profil_entreprise, 'value')\n",
    "first_selection.param.watch(update_profil_entreprise, \"value\")  \n",
    "second_selection.param.watch(update_profil_entreprise, \"value\") \n",
    "saison_selectionnee.param.watch(update_profil_entreprise,'value')\n",
    "\n",
    "\n",
    "profil_entreprise_text = pn.widgets.StaticText(value=str(profil_entreprise_liste), width=800)\n",
    "\n",
    "column_pays = pn.Column(pays_entreprise)\n",
    "column_secteur_activite = pn.Column(secteur_activite)\n",
    "column_taille_entreprise = pn.Column(taille_entreprise)\n",
    "column_CA_entreprise = pn.Column(CA_entreprise)\n",
    "column_reseauSI_entreprise = pn.Column(reseauSI_entreprise_text, reseauSI_entreprise)\n",
    "column_age_entreprise = pn.Column(age_entreprise)\n",
    "column_marge_entreprise = pn.Column(marge_entreprise)\n",
    "column_protections_entreprise = pn.Column(protections_SI_text, niveaux_selectionnes)\n",
    "column_attaque = pn.Column(attaques_text, attaques_selectionnees)\n",
    "\n",
    "red_shade = \"#CC3333\"\n",
    "separator = pn.Spacer(width=5, background=red_shade, height_policy='max')\n",
    "\n",
    "\n",
    "dashboard_profil_entreprise = pn.Column(\n",
    "    '# Profil d\\'entreprise',\n",
    "    pn.Spacer(height=30),\n",
    "    column_pays,\n",
    "    pn.Spacer(height=15),  # Ajout d'un espace vertical\n",
    "    column_secteur_activite,\n",
    "    pn.Spacer(height=15),  # Ajout d'un espace vertical\n",
    "    column_taille_entreprise,\n",
    "    pn.Spacer(height=15),  # Ajout d'un espace vertical\n",
    "    column_CA_entreprise,\n",
    "    pn.Spacer(height=15),  # Ajout d'un espace vertical\n",
    "    column_reseauSI_entreprise,\n",
    "    pn.Spacer(height=15),  # Ajout d'un espace vertical\n",
    "    column_age_entreprise,\n",
    "    pn.Spacer(height=15),  # Ajout d'un espace vertical\n",
    "    column_marge_entreprise,\n",
    "    sizing_mode='stretch_width',\n",
    "    css_classes=['dashboard-column']\n",
    ")\n",
    "\n",
    "dashboard_profil_entreprise_with_space = pn.Row(\n",
    "    pn.Spacer(width=80),  # Ajout d'un espace à gauche\n",
    "    dashboard_profil_entreprise,\n",
    "    sizing_mode='stretch_width'\n",
    ")\n",
    "\n",
    "dashboard_protection_donnees = pn.Column(\n",
    "    '# Protections SI /  Attaque cyber',\n",
    "    '## Protections',\n",
    "    column_protections_entreprise,\n",
    "    pn.Spacer(height=80),  # Espacement horizontal\n",
    "    '## Attaque cyber',\n",
    "    column_attaque,\n",
    "    saison_selectionnee,\n",
    "    sizing_mode='stretch_width',\n",
    "    css_classes=['dashboard-column']\n",
    ")\n",
    "\n",
    "dashboard_formation = pn.Column(\n",
    "    '# Formations aux employés',\n",
    "    pn.Spacer(height=30),\n",
    "    first_selection,\n",
    "    pn.Spacer(height=15),\n",
    "    second_selection,\n",
    "    sizing_mode='stretch_width',\n",
    "    css_classes=['dashboard-column']\n",
    ")\n",
    "\n",
    "# Ajout d'un petit espace entre chaque colonne\n",
    "dashboard_row = pn.Row(\n",
    "    dashboard_profil_entreprise_with_space,\n",
    "    pn.Spacer(width=80),  # Espacement horizontal\n",
    "    separator,\n",
    "    pn.Spacer(width=80),\n",
    "    dashboard_protection_donnees,\n",
    "    separator,\n",
    "    pn.Spacer(width=80),\n",
    "    dashboard_formation,\n",
    "    sizing_mode='stretch_width'\n",
    ")\n",
    "\n",
    "# Afficher le tableau de bord\n",
    "dashboard_row.show()"
   ]
  },
  {
   "cell_type": "code",
   "execution_count": null,
   "id": "c169e95b",
   "metadata": {},
   "outputs": [],
   "source": [
    "profil_entreprise_liste"
   ]
  },
  {
   "cell_type": "code",
   "execution_count": null,
   "id": "c3184148",
   "metadata": {},
   "outputs": [],
   "source": [
    "fig, ax = plt.subplots(figsize=(4, 2))\n",
    "plt.hist([], bins=30, edgecolor='black', label='', density=True)\n",
    "plt.axvline(0, color='red', linestyle='dashed', linewidth=2, label='Moyenne')\n",
    "plt.xlabel('Montants')\n",
    "plt.ylabel('Fréquence')\n",
    "plt.title('Exposition au risque')\n",
    "plt.tight_layout()\n",
    "initial_plot = pn.pane.Matplotlib(fig, tight=True)\n",
    "\n",
    "\n",
    "def update_graph(event):\n",
    "    global risk_mean\n",
    "    n_simulations = simulations.value\n",
    "    duree_attaque = duree.value\n",
    "    entreprise = profil_entreprise_liste\n",
    "    proba1 = probafinalefreq(profil_entreprise_liste)\n",
    "    print(proba1)\n",
    "    risk_values, risk_mean = mesure_R(entreprise, n_simulations, duree_attaque, proba1, entreprise[11]/100,entreprise[12])\n",
    "    \n",
    "    plt.clf()\n",
    "    plt.hist(risk_values, bins=30, edgecolor='black', label='', density=True)\n",
    "    plt.axvline(risk_mean, color='red', linestyle='dashed', linewidth=2, label='Moyenne')\n",
    "    plt.legend()  \n",
    "    plt.xlabel('Montants')\n",
    "    plt.ylabel('Fréquence')\n",
    "    plt.title('Exposition au risque')\n",
    "    plt.tight_layout()\n",
    "    initial_plot.object = plt.gcf()  \n",
    "\n",
    "\n",
    "simulations = pn.widgets.IntSlider(name='Nombre de simulations', value=1000, start=1000, end=10000)\n",
    "duree = pn.widgets.IntSlider(name=\"Durée de l'attaque\", value=28, start=1, end=30)\n",
    "update_button = pn.widgets.Button(name='Mettre à jour le graphique')\n",
    "update_button.on_click(update_graph)\n",
    "\n",
    "\n",
    "dashboard = pn.Column(\n",
    "    '# Exposition au risque',\n",
    "    simulations,\n",
    "    duree,\n",
    "    update_button,\n",
    "    initial_plot\n",
    ")\n",
    "\n",
    "dashboard.show()"
   ]
  },
  {
   "cell_type": "code",
   "execution_count": null,
   "id": "129149bf",
   "metadata": {},
   "outputs": [],
   "source": [
    "risk_mean"
   ]
  },
  {
   "cell_type": "code",
   "execution_count": null,
   "id": "31975e0f",
   "metadata": {},
   "outputs": [],
   "source": [
    "risk_mean / profil_entreprise_liste[3]*100"
   ]
  },
  {
   "cell_type": "markdown",
   "id": "5a368e75",
   "metadata": {},
   "source": [
    "# Baromètre du risque / critères ANSSI <a class=\"anchor\" id=\"barometre\"></a>"
   ]
  },
  {
   "cell_type": "markdown",
   "id": "65ee35a1",
   "metadata": {},
   "source": [
    "https://www.ssi.gouv.fr/entreprise/protection-des-oiv/les-regles-de-securite/ \n",
    "L'ANSSI a défini des règles d'or en matière de protection cyber à l'encontre des entreprises, permettant ainsi aux assureurs de décider d'asssurer ou non.\n",
    "\n",
    "> baromètre externe à l'outil, à réflechir pour l'incorporation."
   ]
  },
  {
   "cell_type": "code",
   "execution_count": null,
   "id": "5cf11459",
   "metadata": {},
   "outputs": [],
   "source": [
    "def regle1(sensibilisation):\n",
    "    if sensibilisation == 'Oui':\n",
    "        return 0\n",
    "    else:\n",
    "        return 1\n",
    "\n",
    "def regle2(homologation):\n",
    "    if homologation == 'Oui':\n",
    "        return 0\n",
    "    else:\n",
    "        return 1\n",
    "    \n",
    "    \n",
    "def regle3(cartographie):\n",
    "    if cartographie == 'Oui':\n",
    "        return 0\n",
    "    else: \n",
    "        return 1 \n",
    "\n",
    "def regle4(correctif):\n",
    "    if correctif == 'Oui':\n",
    "        return 0\n",
    "    else : \n",
    "        return 1 \n",
    "     \n",
    "def regle5(journalisation):\n",
    "    if journalisation == 'Oui':\n",
    "        return 0\n",
    "    else:\n",
    "        return 1\n",
    "def regle6(detection): \n",
    "    if detection == 'Oui':\n",
    "        return 0\n",
    "    else: \n",
    "        return 1\n",
    "\n",
    "def regle7(traitement):\n",
    "    if traitement == 'Oui': \n",
    "        return 0 \n",
    "    elif traitement == 'Partiellement':\n",
    "        return 0.5\n",
    "    else:\n",
    "        return 1 \n",
    "    \n",
    "def regle8(alerte):\n",
    "    if alerte=='Oui':\n",
    "        return 0\n",
    "    elif alerte == 'Partiellement':\n",
    "        return 0.5\n",
    "    else: \n",
    "        return 1 \n",
    "    \n",
    "def regle9(crise):\n",
    "    if crise=='Oui':\n",
    "        return 0\n",
    "    else: \n",
    "        return 1\n",
    "    \n",
    "def regle10(authentification):\n",
    "    if authentification=='Oui':\n",
    "        return 0 \n",
    "    elif authentification=='Partiellement':\n",
    "        return 0.5\n",
    "    else:\n",
    "        return 1\n",
    "    \n",
    "    \n",
    "def regle11(flux):\n",
    "    if flux=='Oui':\n",
    "        return 0\n",
    "    else : \n",
    "        return 1\n",
    "    \n",
    "def regle12(cloisement):\n",
    "    if cloisement == 'Oui':\n",
    "        return 0 \n",
    "    elif cloisement=='Partiellement':\n",
    "        return 0.5 \n",
    "    else: \n",
    "        return 1 \n",
    "\n",
    "def regle13(indicateurs):\n",
    "    if indicateurs == 'Oui':\n",
    "        return 0\n",
    "    else : \n",
    "        return 1\n",
    "    \n",
    "def regles_securite(sensibilisation, homologation, cartographie, correctif,journalisation,detection,traitement,alerte,crise,authentification,flux,cloisement,indicateurs):\n",
    "    resultat_regle1 = regle1(sensibilisation)\n",
    "    resultat_regle2 = regle2(homologation)\n",
    "    resultat_regle3 = regle3(cartographie)\n",
    "    resultat_regle4 = regle4(correctif)\n",
    "    resultat_regle5 = regle5(journalisation)\n",
    "    resultat_regle6 = regle6(detection)\n",
    "    resultat_regle7 = regle7(traitement)\n",
    "    resultat_regle8 = regle8(alerte)\n",
    "    resultat_regle9 = regle9(crise)\n",
    "    resultat_regle10 = regle10(authentification)\n",
    "    resultat_regle11 = regle11(flux)\n",
    "    resultat_regle12 = regle12(cloisement)\n",
    "    resultat_regle13 = regle13(indicateurs)\n",
    "    return resultat_regle1 + resultat_regle2 + resultat_regle3 + resultat_regle4 + resultat_regle5 + resultat_regle6 + resultat_regle7 + resultat_regle8 + resultat_regle9+ resultat_regle10 + resultat_regle11 + resultat_regle12 +resultat_regle13\n",
    "\n",
    "sensibilisation_select = pn.widgets.Select(options=['Oui', 'Non'], name='Avez-vous sensibilisé et formé vos employés au risque cyber?')\n",
    "homologation_select = pn.widgets.Select(options=['Oui', 'Non'], name='Avez-vous fait homologuer votre système informatique?')\n",
    "cartograhie_select = pn.widgets.Select(options=['Oui','Non'],name='Est-il possible d\\'avoir une cartographie à jour de votre SI ?')\n",
    "correctif_select = pn.widgets.Select(options=['Oui','Non'],name='Existe-t-il un suivi des correctifs SI?')\n",
    "journalisation_select = pn.widgets.Select(options=['Oui','Non'],name='Un système de journalisation est-il mis en place?')\n",
    "detection_select = pn.widgets.Select(options=['Oui','Non'],name='Un système de détection des attaques est-il mis en place?')\n",
    "traitement_select = pn.widgets.Select(options=['Oui','Non','Partiellement'],name='Les incidents de sécurité sont-ils traités?')\n",
    "alerte_select = pn.widgets.Select(options=['Oui','Non','Partiellement'], name='Les alertes liées au risque cyber sont-elles traitées?')\n",
    "crise_select = pn.widgets.Select(options=['Oui','Non'], name= 'Existe-t-il un plan de gestion de crise cyber?')\n",
    "authentification_select = pn.widgets.Select(options=['Oui','Non','Partiellement'], name='Existe-t-il une protection des éléments d\\'authentification ainsi qu\\'une gestion des privilèges?')\n",
    "flux_select = pn.widgets.Select(options=['Oui','Non'],name='Les flux administratifs sont-ils séparés des autres flux?')\n",
    "cloisement_select = pn.widgets.Select(options=['Oui','Non','Partiellement'],name='Les différents systèmes du SI sont-ils cloisonnés?')\n",
    "indicateurs_select = pn.widgets.Select(options=['Oui','Non'],name='Des indicateurs SI existent-ils et sont-ils exploités?')\n",
    "\n",
    "@pn.depends(sensibilisation_select.param.value, homologation_select.param.value, cartograhie_select.param.value, correctif_select.param.value, journalisation_select.param.value,detection_select.param.value, traitement_select.param.value, alerte_select.param.value, crise_select.param.value, authentification_select.param.value,flux_select.param.value, cloisement_select.param.value, flux_select.param.value)\n",
    "def update_barometre(sensibilisation, homologation, cartographie, correctif,journalisation,detection,traitement,alerte,crise,authentification,flux,cloisement,indicateurs):\n",
    "    valeur_barometre = regles_securite(sensibilisation, homologation, cartographie, correctif,journalisation,detection,traitement,alerte,crise,authentification,flux,cloisement,indicateurs)\n",
    "\n",
    "    colors = ['green', 'limegreen', 'yellowgreen', 'yellow', 'gold', 'orange', 'darkorange', 'orangered', 'red', 'darkred']\n",
    "    echelle = np.arange(0, 14)\n",
    "\n",
    "    fig, ax = plt.subplots()\n",
    "    ax.spines['right'].set_visible(False)\n",
    "    ax.spines['left'].set_visible(False)\n",
    "    ax.spines['top'].set_visible(False)\n",
    "    ax.spines['bottom'].set_visible(False)\n",
    "    ax.yaxis.set_ticks([])\n",
    "    ax.xaxis.set_ticks([])\n",
    "\n",
    "    for i in range(len(echelle)):\n",
    "        ax.barh(echelle[i], 1, align='center', color=colors[min(i, len(colors)-1)])\n",
    "\n",
    "    ax.axhline(y=valeur_barometre, color='black', linewidth=1, xmin=0, xmax=0.55)\n",
    "    ax.text(1.1, valeur_barometre + 0.25, str(valeur_barometre), fontsize=12, va='center')\n",
    "    ax.set_title('Baromètre risque / règles de sécurité')\n",
    "    plt.xlim(0, 2)\n",
    "    plt.ylim(0, 13)\n",
    "\n",
    "    barometre_pane = pn.pane.Matplotlib(fig, dpi=150)\n",
    "\n",
    "    return barometre_pane\n",
    "\n",
    "dashboard = pn.Column(\n",
    "    \"## Dashboard risque assureur\",\n",
    "    sensibilisation_select,\n",
    "    homologation_select,\n",
    "    cartograhie_select,\n",
    "    correctif_select,\n",
    "    journalisation_select,\n",
    "    detection_select,\n",
    "    traitement_select,\n",
    "    alerte_select,\n",
    "    crise_select,\n",
    "    authentification_select,\n",
    "    flux_select,\n",
    "    cloisement_select,\n",
    "    indicateurs_select,\n",
    "    update_barometre\n",
    ")\n",
    "\n",
    "dashboard.show()"
   ]
  },
  {
   "cell_type": "markdown",
   "id": "2add2240",
   "metadata": {},
   "source": [
    "# Prévisions aux années N+1 et N+2 <a class=\"anchor\" id=\"previsions\"></a>"
   ]
  },
  {
   "cell_type": "markdown",
   "id": "5c8a35fc",
   "metadata": {},
   "source": [
    "On cherche à obtenir une distribution des pertes aux années N+1 et N+2. Pour l'instant, les prévisions de pertes étaient estimées sur l'année N. Ces prévisions se basent, pour l'instant, uniquement sur les probas des différentes attaques (DDoS, phishing, ransomware).\n",
    "\n",
    "> Ces prévisions se basent sur des données empiriques, sourcées."
   ]
  },
  {
   "cell_type": "markdown",
   "id": "e9a2a7f1",
   "metadata": {},
   "source": [
    "## Le cas du phishing"
   ]
  },
  {
   "cell_type": "markdown",
   "id": "60ea507c",
   "metadata": {},
   "source": [
    "Les données sont issues de : https://www.itforbusiness.fr/letat-du-phishing-en-france-et-dans-le-monde-42404#:~:text=Dans%20les%20faits%2C%20m%C3%AAme%20si%2074%25%20des%20entreprises,entreprise%20sur%20deux%20victimes%20d%E2%80%99une%20attaque%20Phishing%20r%C3%A9ussie et représentent les probas P(garantie = pertes exp | attaque = réussie | attaque = Phishing)"
   ]
  },
  {
   "cell_type": "markdown",
   "id": "207bf308",
   "metadata": {},
   "source": [
    "### année N"
   ]
  },
  {
   "cell_type": "code",
   "execution_count": null,
   "id": "c237695d",
   "metadata": {},
   "outputs": [],
   "source": [
    "previsions = pd.read_excel('previsions.xlsx')\n",
    "previsions"
   ]
  },
  {
   "cell_type": "code",
   "execution_count": null,
   "id": "2676e5c7",
   "metadata": {},
   "outputs": [],
   "source": [
    "plt.plot(previsions['Année'], previsions['Phishing'], marker='o', linestyle='-', label=\"Phishing\")\n",
    "plt.plot(previsions['Année'], previsions['DDoS'], marker='o', linestyle='-', label='DDoS')\n",
    "plt.plot(previsions['Année'], previsions['Ransomware'], marker='o', linestyle='-', label=\"Ransomware\")\n",
    "plt.xlabel('Année')\n",
    "plt.ylabel('% qu\\'une attaque est survenue déclenchant la garantie')\n",
    "plt.legend()\n",
    "plt.xticks(previsions['Année'].astype(int))\n",
    "plt.show()"
   ]
  },
  {
   "cell_type": "markdown",
   "id": "96dda81e",
   "metadata": {},
   "source": [
    "## Le cas du ransomware"
   ]
  },
  {
   "cell_type": "markdown",
   "id": "e80018c9",
   "metadata": {},
   "source": [
    "Les données sont issues de : https://news.sophos.com/fr-fr/2022/04/28/etat-des-ransomwares-2022/#:~:text=Davantage%20de%20victimes%20paient%20la%20ran%C3%A7on%20%3A%20en,sauvegardes%20en%202021%20ont%20%C3%A9galement%20pay%C3%A9%20la%20ran%C3%A7on et représentent les probas P(garantie = pertes exp | attaque = réussie | attaque = ransomware)"
   ]
  },
  {
   "cell_type": "markdown",
   "id": "ded3271e",
   "metadata": {},
   "source": [
    "### année N"
   ]
  },
  {
   "cell_type": "code",
   "execution_count": null,
   "id": "99bdd755",
   "metadata": {},
   "outputs": [],
   "source": [
    "previsions_filtered = previsions[(previsions['Année'] >= 2019) & (previsions['Année'] <= 2022)]\n",
    "plt.plot(previsions_filtered['Année'], previsions_filtered['Ransomware'], marker='o', linestyle='-')\n",
    "plt.xlabel('Années')\n",
    "plt.ylabel('% qu\\'une attaque ransomware au moins ait réussie')\n",
    "plt.show()"
   ]
  },
  {
   "cell_type": "markdown",
   "id": "980d65e7",
   "metadata": {},
   "source": [
    "## Le cas du DDoS"
   ]
  },
  {
   "cell_type": "markdown",
   "id": "1d7d318c",
   "metadata": {},
   "source": [
    "Les données sont issues de : https://media.kasperskycontenthub.com/wp-content/uploads/sites/45/2018/03/08234158/IT_Risks_Survey_Report_Threat_of_DDoS_Attacks.pdf  et représentent les probas P(garantie = pertes exp | attaque = réussie | attaque = DDoS)"
   ]
  },
  {
   "cell_type": "markdown",
   "id": "727d60af",
   "metadata": {},
   "source": [
    "### année N"
   ]
  },
  {
   "cell_type": "code",
   "execution_count": null,
   "id": "a0d97a15",
   "metadata": {},
   "outputs": [],
   "source": [
    "plt.plot(previsions['Année'], previsions['DDoS'], marker='o', linestyle='-')\n",
    "plt.xlabel('Années')\n",
    "plt.ylabel('% qu\\'une attaque DDoS au moins ait réussie')\n",
    "plt.show()"
   ]
  },
  {
   "cell_type": "markdown",
   "id": "74e75258",
   "metadata": {},
   "source": [
    "## année N+1/2"
   ]
  },
  {
   "cell_type": "code",
   "execution_count": null,
   "id": "6cfb3898",
   "metadata": {},
   "outputs": [],
   "source": [
    "colonnes_a_predire = ['DDoS', 'Phishing', 'Ransomware']\n",
    "croissance_max = 8 #pourcentage\n",
    "predictions_2022 = previsions.iloc[-1, 1:]\n",
    "predictions_par_colonne = {}\n",
    "\n",
    "for colonne, prediction_2022 in zip(colonnes_a_predire, predictions_2022):\n",
    "    prediction_2023 = min(prediction_2022 + prediction_2022 * (croissance_max / 100), 100)\n",
    "    prediction_2024 = min(prediction_2023 + prediction_2023 * (croissance_max / 100), 100)\n",
    "    predictions_par_colonne[colonne] = [prediction_2023, prediction_2024]\n",
    "\n",
    "predictions_df = pd.DataFrame(predictions_par_colonne)\n",
    "predictions_df['Année'] = [2023, 2024]\n",
    "predictions_df = predictions_df[['Année', 'DDoS', 'Phishing', 'Ransomware']]\n",
    "previsions = pd.concat([previsions, predictions_df], ignore_index=True)\n",
    "\n",
    "print(previsions)"
   ]
  },
  {
   "cell_type": "code",
   "execution_count": null,
   "id": "d3c91178",
   "metadata": {},
   "outputs": [],
   "source": [
    "plt.plot(previsions['Année'], previsions['DDoS'], marker='o', linestyle='-')\n",
    "plt.xlabel('Années')\n",
    "plt.ylabel('% qu\\'une attaque DDoS au moins ait réussie')\n",
    "plt.show()"
   ]
  },
  {
   "cell_type": "code",
   "execution_count": null,
   "id": "daac4c93",
   "metadata": {},
   "outputs": [],
   "source": [
    "plt.plot(previsions['Année'], previsions['Phishing'], marker='o', linestyle='-')\n",
    "plt.xlabel('Années')\n",
    "plt.ylabel('% qu\\'une attaque Phishing au moins ait réussie')\n",
    "plt.show()"
   ]
  },
  {
   "cell_type": "code",
   "execution_count": null,
   "id": "8a9003cd",
   "metadata": {},
   "outputs": [],
   "source": [
    "plt.plot(previsions['Année'], previsions['Ransomware'], marker='o', linestyle='-')\n",
    "plt.xlabel('Années')\n",
    "plt.ylabel('% qu\\'une attaque Ransomware au moins ait réussie')\n",
    "plt.show()"
   ]
  },
  {
   "cell_type": "code",
   "execution_count": null,
   "id": "ca1a57e9",
   "metadata": {},
   "outputs": [],
   "source": [
    "plt.plot(previsions['Année'], previsions['Phishing'], marker='o', linestyle='-', label=\"Phishing\")\n",
    "plt.plot(previsions['Année'], previsions['DDoS'], marker='o', linestyle='-', label='DDoS')\n",
    "plt.plot(previsions['Année'], previsions['Ransomware'], marker='o', linestyle='-', label=\"Ransomware\")\n",
    "plt.xlabel('Année')\n",
    "plt.ylabel('% qu\\'une attaque est survenue déclenchant la garantie')\n",
    "plt.legend()\n",
    "plt.xticks(previsions['Année'].astype(int))\n",
    "plt.show()"
   ]
  },
  {
   "cell_type": "markdown",
   "id": "cfb6d22c",
   "metadata": {},
   "source": [
    "## Calcul du risque"
   ]
  },
  {
   "cell_type": "code",
   "execution_count": null,
   "id": "b4255b37",
   "metadata": {},
   "outputs": [],
   "source": [
    "def probapexpfreqatt_bis(profil_etp,N):\n",
    "    proba = 0\n",
    "    if N == '2022':\n",
    "        if profil_etp[8] == 'DDoS': \n",
    "            proba = proba_DDoS_pertesexp\n",
    "        elif profil_etp[8] == 'Phishing':\n",
    "            proba = proba_phishing_pertesexp \n",
    "        else : \n",
    "            proba = proba_ransomware_pertesexp\n",
    "    else : \n",
    "        if profil_etp[8] == 'DDoS': \n",
    "            proba = proba_DDoS_pertesexp_2023\n",
    "        elif profil_etp[8] == 'Phishing':\n",
    "            proba = proba_phishing_pertesexp_2023\n",
    "        else : \n",
    "            proba = proba_ransomware_pertesexp_2023\n",
    "    return proba  "
   ]
  },
  {
   "cell_type": "code",
   "execution_count": null,
   "id": "22fc0956",
   "metadata": {},
   "outputs": [],
   "source": [
    "def probapexpsurvenance_bis(profil_etp,N): #probas indép \n",
    "    return probapexpfreqatt_bis(profil_etp,N)*probacveAi(profil_etp)"
   ]
  },
  {
   "cell_type": "code",
   "execution_count": null,
   "id": "9567ab1a",
   "metadata": {},
   "outputs": [],
   "source": [
    "def probafrequence_bis(profil_etp,N):\n",
    "    return probapexpsurvenance_bis(profil_etp,N)*score(profil_etp)"
   ]
  },
  {
   "cell_type": "code",
   "execution_count": null,
   "id": "d26d7773",
   "metadata": {},
   "outputs": [],
   "source": [
    "def simulate_loss(entreprise, duree_attaque):\n",
    "    monthly_losses = montant_pertes(entreprise, duree_attaque)\n",
    "    total_loss = sum(monthly_losses)\n",
    "    return total_loss\n",
    "\n",
    "def simulate_risk(entreprise, n_simulations, duree_attaque):\n",
    "    risks = []\n",
    "    for _ in range(n_simulations):\n",
    "        loss = simulate_loss(entreprise, duree_attaque)\n",
    "        risks.append(loss)\n",
    "    mean_risk = np.mean(risks)\n",
    "    return risks, mean_risk\n",
    "\n",
    "\n",
    "proba=probafrequence_bis(profil_entreprise_liste,'2024')\n",
    "print(proba)\n",
    "def mesure_R(entreprise, n_simulations, duree_attaque):\n",
    "    risks, mean_risk = simulate_risk(entreprise, n_simulations, duree_attaque)\n",
    "    risks = [risk * proba for risk in risks]  # Multiply each risk value by proba\n",
    "    mean_risk *= proba  # Multiply the mean risk by proba\n",
    "    return risks, mean_risk\n",
    "\n",
    "n_simulations = 300\n",
    "duree_attaque = 12\n",
    "entreprise = Profil_entreprise_1\n",
    "risk_values, risk_mean = mesure_R(entreprise, n_simulations, duree_attaque)\n",
    "plt.hist(risk_values, bins=30, edgecolor='black', label='Risk distribution',  density=True)\n",
    "plt.axvline(risk_mean, color='red', linestyle='dashed', linewidth=2, label='Mean')\n",
    "\n",
    "plt.legend()  \n",
    "plt.xlabel('Values')\n",
    "plt.ylabel('Density')\n",
    "plt.title('Risk Distribution with Mean')\n",
    "plt.show()"
   ]
  },
  {
   "cell_type": "code",
   "execution_count": null,
   "id": "852efe0c",
   "metadata": {},
   "outputs": [],
   "source": [
    "data = {\n",
    "    'Année': [2019, 2020, 2021, 2022],\n",
    "    'DDoS': [8, 10, 13, 33],\n",
    "    'Phishing': [10.0, 10.5, 11.0, 12.4],\n",
    "    'Ransomware': [8, 20, 26, 51]\n",
    "}\n",
    "\n",
    "df = pd.DataFrame(data)\n",
    "df['Croissance'] = np.arange(len(df)) * 0.02 + 1\n",
    "\n",
    "attaques = ['DDoS', 'Phishing', 'Ransomware']\n",
    "predictions_df = pd.DataFrame()\n",
    "\n",
    "for attaque in attaques:\n",
    "    y = df[attaque] / 100  # Conversion en proportions\n",
    "    X = sm.add_constant(df[['Année', 'Croissance']])\n",
    "    \n",
    "    model = sm.GLM(y, X, family=sm.families.Binomial(sm.families.links.logit()))\n",
    "    results = model.fit()\n",
    "    \n",
    "    croissance_2023 = len(df) * 0.02 + 1\n",
    "    prediction = results.predict([1, 2023, croissance_2023])\n",
    "    print(results)\n",
    "    \n",
    "    predictions_df[attaque] = [prediction[0] * 100]  # Conversion en pourcentages\n",
    "\n",
    "predictions_df['Année'] = [2023]\n",
    "\n",
    "predictions_df = predictions_df[['Année', 'DDoS', 'Phishing', 'Ransomware']]\n",
    "previsions = pd.concat([df, predictions_df], ignore_index=True)\n",
    "\n",
    "print(previsions)"
   ]
  },
  {
   "cell_type": "code",
   "execution_count": null,
   "id": "b976f250",
   "metadata": {},
   "outputs": [],
   "source": [
    "plt.plot(previsions['Année'], previsions['Phishing'], marker='o', linestyle='-', label=\"Phishing\")\n",
    "plt.plot(previsions['Année'], previsions['DDoS'], marker='o', linestyle='-', label='DDoS')\n",
    "plt.plot(previsions['Année'], previsions['Ransomware'], marker='o', linestyle='-', label=\"Ransomware\")\n",
    "plt.xlabel('Année')\n",
    "plt.ylabel('% qu\\'une attaque est survenue déclenchant la garantie')\n",
    "plt.legend()\n",
    "plt.xticks(previsions['Année'].astype(int))\n",
    "plt.show()"
   ]
  },
  {
   "cell_type": "code",
   "execution_count": null,
   "id": "fa98b92a",
   "metadata": {},
   "outputs": [],
   "source": [
    "proba_DDoS_pertesexp_2023 = previsions.loc[previsions['Année'] == 2023, 'DDoS'].values[0]/100\n",
    "proba_phishing_pertesexp_2023 = previsions.loc[previsions['Année'] == 2023, 'Phishing'].values[0]/100\n",
    "proba_ransomware_pertesexp_2023 = previsions.loc[previsions['Année'] == 2023, 'Ransomware'].values[0]/100"
   ]
  }
 ],
 "metadata": {
  "kernelspec": {
   "display_name": "Python 3 (ipykernel)",
   "language": "python",
   "name": "python3"
  },
  "language_info": {
   "codemirror_mode": {
    "name": "ipython",
    "version": 3
   },
   "file_extension": ".py",
   "mimetype": "text/x-python",
   "name": "python",
   "nbconvert_exporter": "python",
   "pygments_lexer": "ipython3",
   "version": "3.11.3"
  },
  "toc": {
   "base_numbering": 1,
   "nav_menu": {},
   "number_sections": true,
   "sideBar": true,
   "skip_h1_title": false,
   "title_cell": "Table of Contents",
   "title_sidebar": "Contents",
   "toc_cell": false,
   "toc_position": {
    "height": "calc(100% - 180px)",
    "left": "10px",
    "top": "150px",
    "width": "402px"
   },
   "toc_section_display": true,
   "toc_window_display": true
  }
 },
 "nbformat": 4,
 "nbformat_minor": 5
}
