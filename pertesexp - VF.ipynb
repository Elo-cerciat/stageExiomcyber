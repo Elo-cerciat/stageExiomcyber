{
 "cells": [
  {
   "cell_type": "markdown",
   "id": "b2dc6c47",
   "metadata": {},
   "source": [
    "# Outil modulable - Modélisation de la quantification du risque cyber"
   ]
  },
  {
   "cell_type": "markdown",
   "id": "815b67e8",
   "metadata": {},
   "source": [
    "Il existe plusieurs garanties cyber : \n",
    "\n",
    "    - pertes d'exploitation \n",
    "    - pertes financières liées à une rançon \n",
    "    - responsabilité civile \n",
    "    - fuite de données \n",
    "    - ..."
   ]
  },
  {
   "cell_type": "markdown",
   "id": "2c4fc422",
   "metadata": {},
   "source": [
    "Dans un premier temps, on se concentre sur une des garanties cyber : **pertes d'exploitation**. "
   ]
  },
  {
   "cell_type": "markdown",
   "id": "21802aed",
   "metadata": {},
   "source": [
    "La réflexion faite est la suivante : \n",
    "    \n",
    "    - pourquoi la garantie est-elle activée ? \n",
    "    \n",
    "    - quels impacts mesurables sur l'organisation ? (Comment obtenir ces infos?)\n",
    "    \n",
    "    - identifier les attaques cyber responsables \n",
    "    \n",
    "    - quelles failles utilisées ? \n",
    "    \n",
    "    - Proba(faille exp) ? Comment obtenir cette proba? \n",
    "    \n",
    "    - Estimer la fréquence d'activation de la garantie "
   ]
  },
  {
   "cell_type": "markdown",
   "id": "77eec363",
   "metadata": {},
   "source": [
    "**On rappelle que la définition du risque est la suivante : RISQUE = COÛTS x FREQUENCE**. Voici un exemple de la réflexion menée : \n",
    "\n",
    "<img>![image](Stage.png)"
   ]
  },
  {
   "cell_type": "markdown",
   "id": "208b98b7",
   "metadata": {},
   "source": [
    "Afin de palier le manque de données non encore disponibles par Cybastion, nous établissons des moyens pour créer nos propres données et récupérons sur internet les données les plus appropriées et légitimes."
   ]
  },
  {
   "cell_type": "markdown",
   "id": "78c7fdf3",
   "metadata": {},
   "source": [
    "Plusieurs types d'attaques peuvent être à l'origine d'une indisponibilité de services. On liste les principales : \n",
    "    \n",
    "    - DDoS\n",
    "    - Rançongiciel\n",
    "    - phishing..."
   ]
  },
  {
   "cell_type": "code",
   "execution_count": 1,
   "id": "8631cc9f",
   "metadata": {},
   "outputs": [
    {
     "data": {
      "application/javascript": [
       "(function(root) {\n",
       "  function now() {\n",
       "    return new Date();\n",
       "  }\n",
       "\n",
       "  var force = true;\n",
       "  var py_version = '3.1.1'.replace('rc', '-rc.').replace('.dev', '-dev.');\n",
       "  var is_dev = py_version.indexOf(\"+\") !== -1 || py_version.indexOf(\"-\") !== -1;\n",
       "  var reloading = false;\n",
       "  var Bokeh = root.Bokeh;\n",
       "  var bokeh_loaded = Bokeh != null && (Bokeh.version === py_version || (Bokeh.versions !== undefined && Bokeh.versions.has(py_version)));\n",
       "\n",
       "  if (typeof (root._bokeh_timeout) === \"undefined\" || force) {\n",
       "    root._bokeh_timeout = Date.now() + 5000;\n",
       "    root._bokeh_failed_load = false;\n",
       "  }\n",
       "\n",
       "  function run_callbacks() {\n",
       "    try {\n",
       "      root._bokeh_onload_callbacks.forEach(function(callback) {\n",
       "        if (callback != null)\n",
       "          callback();\n",
       "      });\n",
       "    } finally {\n",
       "      delete root._bokeh_onload_callbacks;\n",
       "    }\n",
       "    console.debug(\"Bokeh: all callbacks have finished\");\n",
       "  }\n",
       "\n",
       "  function load_libs(css_urls, js_urls, js_modules, js_exports, callback) {\n",
       "    if (css_urls == null) css_urls = [];\n",
       "    if (js_urls == null) js_urls = [];\n",
       "    if (js_modules == null) js_modules = [];\n",
       "    if (js_exports == null) js_exports = {};\n",
       "\n",
       "    root._bokeh_onload_callbacks.push(callback);\n",
       "\n",
       "    if (root._bokeh_is_loading > 0) {\n",
       "      console.debug(\"Bokeh: BokehJS is being loaded, scheduling callback at\", now());\n",
       "      return null;\n",
       "    }\n",
       "    if (js_urls.length === 0 && js_modules.length === 0 && Object.keys(js_exports).length === 0) {\n",
       "      run_callbacks();\n",
       "      return null;\n",
       "    }\n",
       "    if (!reloading) {\n",
       "      console.debug(\"Bokeh: BokehJS not loaded, scheduling load and callback at\", now());\n",
       "    }\n",
       "\n",
       "    function on_load() {\n",
       "      root._bokeh_is_loading--;\n",
       "      if (root._bokeh_is_loading === 0) {\n",
       "        console.debug(\"Bokeh: all BokehJS libraries/stylesheets loaded\");\n",
       "        run_callbacks()\n",
       "      }\n",
       "    }\n",
       "    window._bokeh_on_load = on_load\n",
       "\n",
       "    function on_error() {\n",
       "      console.error(\"failed to load \" + url);\n",
       "    }\n",
       "\n",
       "    var skip = [];\n",
       "    if (window.requirejs) {\n",
       "      window.requirejs.config({'packages': {}, 'paths': {'jspanel': 'https://cdn.jsdelivr.net/npm/jspanel4@4.12.0/dist/jspanel', 'jspanel-modal': 'https://cdn.jsdelivr.net/npm/jspanel4@4.12.0/dist/extensions/modal/jspanel.modal', 'jspanel-tooltip': 'https://cdn.jsdelivr.net/npm/jspanel4@4.12.0/dist/extensions/tooltip/jspanel.tooltip', 'jspanel-hint': 'https://cdn.jsdelivr.net/npm/jspanel4@4.12.0/dist/extensions/hint/jspanel.hint', 'jspanel-layout': 'https://cdn.jsdelivr.net/npm/jspanel4@4.12.0/dist/extensions/layout/jspanel.layout', 'jspanel-contextmenu': 'https://cdn.jsdelivr.net/npm/jspanel4@4.12.0/dist/extensions/contextmenu/jspanel.contextmenu', 'jspanel-dock': 'https://cdn.jsdelivr.net/npm/jspanel4@4.12.0/dist/extensions/dock/jspanel.dock', 'gridstack': 'https://cdn.jsdelivr.net/npm/gridstack@7.2.3/dist/gridstack-all', 'notyf': 'https://cdn.jsdelivr.net/npm/notyf@3/notyf.min'}, 'shim': {'jspanel': {'exports': 'jsPanel'}, 'gridstack': {'exports': 'GridStack'}}});\n",
       "      require([\"jspanel\"], function(jsPanel) {\n",
       "\twindow.jsPanel = jsPanel\n",
       "\ton_load()\n",
       "      })\n",
       "      require([\"jspanel-modal\"], function() {\n",
       "\ton_load()\n",
       "      })\n",
       "      require([\"jspanel-tooltip\"], function() {\n",
       "\ton_load()\n",
       "      })\n",
       "      require([\"jspanel-hint\"], function() {\n",
       "\ton_load()\n",
       "      })\n",
       "      require([\"jspanel-layout\"], function() {\n",
       "\ton_load()\n",
       "      })\n",
       "      require([\"jspanel-contextmenu\"], function() {\n",
       "\ton_load()\n",
       "      })\n",
       "      require([\"jspanel-dock\"], function() {\n",
       "\ton_load()\n",
       "      })\n",
       "      require([\"gridstack\"], function(GridStack) {\n",
       "\twindow.GridStack = GridStack\n",
       "\ton_load()\n",
       "      })\n",
       "      require([\"notyf\"], function() {\n",
       "\ton_load()\n",
       "      })\n",
       "      root._bokeh_is_loading = css_urls.length + 9;\n",
       "    } else {\n",
       "      root._bokeh_is_loading = css_urls.length + js_urls.length + js_modules.length + Object.keys(js_exports).length;\n",
       "    }\n",
       "\n",
       "    var existing_stylesheets = []\n",
       "    var links = document.getElementsByTagName('link')\n",
       "    for (var i = 0; i < links.length; i++) {\n",
       "      var link = links[i]\n",
       "      if (link.href != null) {\n",
       "\texisting_stylesheets.push(link.href)\n",
       "      }\n",
       "    }\n",
       "    for (var i = 0; i < css_urls.length; i++) {\n",
       "      var url = css_urls[i];\n",
       "      if (existing_stylesheets.indexOf(url) !== -1) {\n",
       "\ton_load()\n",
       "\tcontinue;\n",
       "      }\n",
       "      const element = document.createElement(\"link\");\n",
       "      element.onload = on_load;\n",
       "      element.onerror = on_error;\n",
       "      element.rel = \"stylesheet\";\n",
       "      element.type = \"text/css\";\n",
       "      element.href = url;\n",
       "      console.debug(\"Bokeh: injecting link tag for BokehJS stylesheet: \", url);\n",
       "      document.body.appendChild(element);\n",
       "    }    if (((window['jsPanel'] !== undefined) && (!(window['jsPanel'] instanceof HTMLElement))) || window.requirejs) {\n",
       "      var urls = ['https://cdn.holoviz.org/panel/1.1.1/dist/bundled/floatpanel/jspanel4@4.12.0/dist/jspanel.js', 'https://cdn.holoviz.org/panel/1.1.1/dist/bundled/floatpanel/jspanel4@4.12.0/dist/extensions/modal/jspanel.modal.js', 'https://cdn.holoviz.org/panel/1.1.1/dist/bundled/floatpanel/jspanel4@4.12.0/dist/extensions/tooltip/jspanel.tooltip.js', 'https://cdn.holoviz.org/panel/1.1.1/dist/bundled/floatpanel/jspanel4@4.12.0/dist/extensions/hint/jspanel.hint.js', 'https://cdn.holoviz.org/panel/1.1.1/dist/bundled/floatpanel/jspanel4@4.12.0/dist/extensions/layout/jspanel.layout.js', 'https://cdn.holoviz.org/panel/1.1.1/dist/bundled/floatpanel/jspanel4@4.12.0/dist/extensions/contextmenu/jspanel.contextmenu.js', 'https://cdn.holoviz.org/panel/1.1.1/dist/bundled/floatpanel/jspanel4@4.12.0/dist/extensions/dock/jspanel.dock.js'];\n",
       "      for (var i = 0; i < urls.length; i++) {\n",
       "        skip.push(urls[i])\n",
       "      }\n",
       "    }    if (((window['GridStack'] !== undefined) && (!(window['GridStack'] instanceof HTMLElement))) || window.requirejs) {\n",
       "      var urls = ['https://cdn.holoviz.org/panel/1.1.1/dist/bundled/gridstack/gridstack@7.2.3/dist/gridstack-all.js'];\n",
       "      for (var i = 0; i < urls.length; i++) {\n",
       "        skip.push(urls[i])\n",
       "      }\n",
       "    }    if (((window['Notyf'] !== undefined) && (!(window['Notyf'] instanceof HTMLElement))) || window.requirejs) {\n",
       "      var urls = ['https://cdn.holoviz.org/panel/1.1.1/dist/bundled/notificationarea/notyf@3/notyf.min.js'];\n",
       "      for (var i = 0; i < urls.length; i++) {\n",
       "        skip.push(urls[i])\n",
       "      }\n",
       "    }    var existing_scripts = []\n",
       "    var scripts = document.getElementsByTagName('script')\n",
       "    for (var i = 0; i < scripts.length; i++) {\n",
       "      var script = scripts[i]\n",
       "      if (script.src != null) {\n",
       "\texisting_scripts.push(script.src)\n",
       "      }\n",
       "    }\n",
       "    for (var i = 0; i < js_urls.length; i++) {\n",
       "      var url = js_urls[i];\n",
       "      if (skip.indexOf(url) !== -1 || existing_scripts.indexOf(url) !== -1) {\n",
       "\tif (!window.requirejs) {\n",
       "\t  on_load();\n",
       "\t}\n",
       "\tcontinue;\n",
       "      }\n",
       "      var element = document.createElement('script');\n",
       "      element.onload = on_load;\n",
       "      element.onerror = on_error;\n",
       "      element.async = false;\n",
       "      element.src = url;\n",
       "      console.debug(\"Bokeh: injecting script tag for BokehJS library: \", url);\n",
       "      document.head.appendChild(element);\n",
       "    }\n",
       "    for (var i = 0; i < js_modules.length; i++) {\n",
       "      var url = js_modules[i];\n",
       "      if (skip.indexOf(url) !== -1 || existing_scripts.indexOf(url) !== -1) {\n",
       "\tif (!window.requirejs) {\n",
       "\t  on_load();\n",
       "\t}\n",
       "\tcontinue;\n",
       "      }\n",
       "      var element = document.createElement('script');\n",
       "      element.onload = on_load;\n",
       "      element.onerror = on_error;\n",
       "      element.async = false;\n",
       "      element.src = url;\n",
       "      element.type = \"module\";\n",
       "      console.debug(\"Bokeh: injecting script tag for BokehJS library: \", url);\n",
       "      document.head.appendChild(element);\n",
       "    }\n",
       "    for (const name in js_exports) {\n",
       "      var url = js_exports[name];\n",
       "      if (skip.indexOf(url) >= 0 || root[name] != null) {\n",
       "\tif (!window.requirejs) {\n",
       "\t  on_load();\n",
       "\t}\n",
       "\tcontinue;\n",
       "      }\n",
       "      var element = document.createElement('script');\n",
       "      element.onerror = on_error;\n",
       "      element.async = false;\n",
       "      element.type = \"module\";\n",
       "      console.debug(\"Bokeh: injecting script tag for BokehJS library: \", url);\n",
       "      element.textContent = `\n",
       "      import ${name} from \"${url}\"\n",
       "      window.${name} = ${name}\n",
       "      window._bokeh_on_load()\n",
       "      `\n",
       "      document.head.appendChild(element);\n",
       "    }\n",
       "    if (!js_urls.length && !js_modules.length) {\n",
       "      on_load()\n",
       "    }\n",
       "  };\n",
       "\n",
       "  function inject_raw_css(css) {\n",
       "    const element = document.createElement(\"style\");\n",
       "    element.appendChild(document.createTextNode(css));\n",
       "    document.body.appendChild(element);\n",
       "  }\n",
       "\n",
       "  var js_urls = [\"https://cdn.bokeh.org/bokeh/release/bokeh-3.1.1.min.js\", \"https://cdn.bokeh.org/bokeh/release/bokeh-gl-3.1.1.min.js\", \"https://cdn.bokeh.org/bokeh/release/bokeh-widgets-3.1.1.min.js\", \"https://cdn.bokeh.org/bokeh/release/bokeh-tables-3.1.1.min.js\", \"https://cdn.holoviz.org/panel/1.1.1/dist/panel.min.js\"];\n",
       "  var js_modules = [];\n",
       "  var js_exports = {};\n",
       "  var css_urls = [];\n",
       "  var inline_js = [    function(Bokeh) {\n",
       "      Bokeh.set_log_level(\"info\");\n",
       "    },\n",
       "function(Bokeh) {} // ensure no trailing comma for IE\n",
       "  ];\n",
       "\n",
       "  function run_inline_js() {\n",
       "    if ((root.Bokeh !== undefined) || (force === true)) {\n",
       "      for (var i = 0; i < inline_js.length; i++) {\n",
       "        inline_js[i].call(root, root.Bokeh);\n",
       "      }\n",
       "      // Cache old bokeh versions\n",
       "      if (Bokeh != undefined && !reloading) {\n",
       "\tvar NewBokeh = root.Bokeh;\n",
       "\tif (Bokeh.versions === undefined) {\n",
       "\t  Bokeh.versions = new Map();\n",
       "\t}\n",
       "\tif (NewBokeh.version !== Bokeh.version) {\n",
       "\t  Bokeh.versions.set(NewBokeh.version, NewBokeh)\n",
       "\t}\n",
       "\troot.Bokeh = Bokeh;\n",
       "      }} else if (Date.now() < root._bokeh_timeout) {\n",
       "      setTimeout(run_inline_js, 100);\n",
       "    } else if (!root._bokeh_failed_load) {\n",
       "      console.log(\"Bokeh: BokehJS failed to load within specified timeout.\");\n",
       "      root._bokeh_failed_load = true;\n",
       "    }\n",
       "    root._bokeh_is_initializing = false\n",
       "  }\n",
       "\n",
       "  function load_or_wait() {\n",
       "    // Implement a backoff loop that tries to ensure we do not load multiple\n",
       "    // versions of Bokeh and its dependencies at the same time.\n",
       "    // In recent versions we use the root._bokeh_is_initializing flag\n",
       "    // to determine whether there is an ongoing attempt to initialize\n",
       "    // bokeh, however for backward compatibility we also try to ensure\n",
       "    // that we do not start loading a newer (Panel>=1.0 and Bokeh>3) version\n",
       "    // before older versions are fully initialized.\n",
       "    if (root._bokeh_is_initializing && Date.now() > root._bokeh_timeout) {\n",
       "      root._bokeh_is_initializing = false;\n",
       "      root._bokeh_onload_callbacks = undefined;\n",
       "      console.log(\"Bokeh: BokehJS was loaded multiple times but one version failed to initialize.\");\n",
       "      load_or_wait();\n",
       "    } else if (root._bokeh_is_initializing || (typeof root._bokeh_is_initializing === \"undefined\" && root._bokeh_onload_callbacks !== undefined)) {\n",
       "      setTimeout(load_or_wait, 100);\n",
       "    } else {\n",
       "      Bokeh = root.Bokeh;\n",
       "      bokeh_loaded = Bokeh != null && (Bokeh.version === py_version || (Bokeh.versions !== undefined && Bokeh.versions.has(py_version)));\n",
       "      root._bokeh_is_initializing = true\n",
       "      root._bokeh_onload_callbacks = []\n",
       "      if (!reloading && (!bokeh_loaded || is_dev)) {\n",
       "\troot.Bokeh = undefined;\n",
       "      }\n",
       "      load_libs(css_urls, js_urls, js_modules, js_exports, function() {\n",
       "\tconsole.debug(\"Bokeh: BokehJS plotting callback run at\", now());\n",
       "\trun_inline_js();\n",
       "      });\n",
       "    }\n",
       "  }\n",
       "  // Give older versions of the autoload script a head-start to ensure\n",
       "  // they initialize before we start loading newer version.\n",
       "  setTimeout(load_or_wait, 100)\n",
       "}(window));"
      ],
      "application/vnd.holoviews_load.v0+json": "(function(root) {\n  function now() {\n    return new Date();\n  }\n\n  var force = true;\n  var py_version = '3.1.1'.replace('rc', '-rc.').replace('.dev', '-dev.');\n  var is_dev = py_version.indexOf(\"+\") !== -1 || py_version.indexOf(\"-\") !== -1;\n  var reloading = false;\n  var Bokeh = root.Bokeh;\n  var bokeh_loaded = Bokeh != null && (Bokeh.version === py_version || (Bokeh.versions !== undefined && Bokeh.versions.has(py_version)));\n\n  if (typeof (root._bokeh_timeout) === \"undefined\" || force) {\n    root._bokeh_timeout = Date.now() + 5000;\n    root._bokeh_failed_load = false;\n  }\n\n  function run_callbacks() {\n    try {\n      root._bokeh_onload_callbacks.forEach(function(callback) {\n        if (callback != null)\n          callback();\n      });\n    } finally {\n      delete root._bokeh_onload_callbacks;\n    }\n    console.debug(\"Bokeh: all callbacks have finished\");\n  }\n\n  function load_libs(css_urls, js_urls, js_modules, js_exports, callback) {\n    if (css_urls == null) css_urls = [];\n    if (js_urls == null) js_urls = [];\n    if (js_modules == null) js_modules = [];\n    if (js_exports == null) js_exports = {};\n\n    root._bokeh_onload_callbacks.push(callback);\n\n    if (root._bokeh_is_loading > 0) {\n      console.debug(\"Bokeh: BokehJS is being loaded, scheduling callback at\", now());\n      return null;\n    }\n    if (js_urls.length === 0 && js_modules.length === 0 && Object.keys(js_exports).length === 0) {\n      run_callbacks();\n      return null;\n    }\n    if (!reloading) {\n      console.debug(\"Bokeh: BokehJS not loaded, scheduling load and callback at\", now());\n    }\n\n    function on_load() {\n      root._bokeh_is_loading--;\n      if (root._bokeh_is_loading === 0) {\n        console.debug(\"Bokeh: all BokehJS libraries/stylesheets loaded\");\n        run_callbacks()\n      }\n    }\n    window._bokeh_on_load = on_load\n\n    function on_error() {\n      console.error(\"failed to load \" + url);\n    }\n\n    var skip = [];\n    if (window.requirejs) {\n      window.requirejs.config({'packages': {}, 'paths': {'jspanel': 'https://cdn.jsdelivr.net/npm/jspanel4@4.12.0/dist/jspanel', 'jspanel-modal': 'https://cdn.jsdelivr.net/npm/jspanel4@4.12.0/dist/extensions/modal/jspanel.modal', 'jspanel-tooltip': 'https://cdn.jsdelivr.net/npm/jspanel4@4.12.0/dist/extensions/tooltip/jspanel.tooltip', 'jspanel-hint': 'https://cdn.jsdelivr.net/npm/jspanel4@4.12.0/dist/extensions/hint/jspanel.hint', 'jspanel-layout': 'https://cdn.jsdelivr.net/npm/jspanel4@4.12.0/dist/extensions/layout/jspanel.layout', 'jspanel-contextmenu': 'https://cdn.jsdelivr.net/npm/jspanel4@4.12.0/dist/extensions/contextmenu/jspanel.contextmenu', 'jspanel-dock': 'https://cdn.jsdelivr.net/npm/jspanel4@4.12.0/dist/extensions/dock/jspanel.dock', 'gridstack': 'https://cdn.jsdelivr.net/npm/gridstack@7.2.3/dist/gridstack-all', 'notyf': 'https://cdn.jsdelivr.net/npm/notyf@3/notyf.min'}, 'shim': {'jspanel': {'exports': 'jsPanel'}, 'gridstack': {'exports': 'GridStack'}}});\n      require([\"jspanel\"], function(jsPanel) {\n\twindow.jsPanel = jsPanel\n\ton_load()\n      })\n      require([\"jspanel-modal\"], function() {\n\ton_load()\n      })\n      require([\"jspanel-tooltip\"], function() {\n\ton_load()\n      })\n      require([\"jspanel-hint\"], function() {\n\ton_load()\n      })\n      require([\"jspanel-layout\"], function() {\n\ton_load()\n      })\n      require([\"jspanel-contextmenu\"], function() {\n\ton_load()\n      })\n      require([\"jspanel-dock\"], function() {\n\ton_load()\n      })\n      require([\"gridstack\"], function(GridStack) {\n\twindow.GridStack = GridStack\n\ton_load()\n      })\n      require([\"notyf\"], function() {\n\ton_load()\n      })\n      root._bokeh_is_loading = css_urls.length + 9;\n    } else {\n      root._bokeh_is_loading = css_urls.length + js_urls.length + js_modules.length + Object.keys(js_exports).length;\n    }\n\n    var existing_stylesheets = []\n    var links = document.getElementsByTagName('link')\n    for (var i = 0; i < links.length; i++) {\n      var link = links[i]\n      if (link.href != null) {\n\texisting_stylesheets.push(link.href)\n      }\n    }\n    for (var i = 0; i < css_urls.length; i++) {\n      var url = css_urls[i];\n      if (existing_stylesheets.indexOf(url) !== -1) {\n\ton_load()\n\tcontinue;\n      }\n      const element = document.createElement(\"link\");\n      element.onload = on_load;\n      element.onerror = on_error;\n      element.rel = \"stylesheet\";\n      element.type = \"text/css\";\n      element.href = url;\n      console.debug(\"Bokeh: injecting link tag for BokehJS stylesheet: \", url);\n      document.body.appendChild(element);\n    }    if (((window['jsPanel'] !== undefined) && (!(window['jsPanel'] instanceof HTMLElement))) || window.requirejs) {\n      var urls = ['https://cdn.holoviz.org/panel/1.1.1/dist/bundled/floatpanel/jspanel4@4.12.0/dist/jspanel.js', 'https://cdn.holoviz.org/panel/1.1.1/dist/bundled/floatpanel/jspanel4@4.12.0/dist/extensions/modal/jspanel.modal.js', 'https://cdn.holoviz.org/panel/1.1.1/dist/bundled/floatpanel/jspanel4@4.12.0/dist/extensions/tooltip/jspanel.tooltip.js', 'https://cdn.holoviz.org/panel/1.1.1/dist/bundled/floatpanel/jspanel4@4.12.0/dist/extensions/hint/jspanel.hint.js', 'https://cdn.holoviz.org/panel/1.1.1/dist/bundled/floatpanel/jspanel4@4.12.0/dist/extensions/layout/jspanel.layout.js', 'https://cdn.holoviz.org/panel/1.1.1/dist/bundled/floatpanel/jspanel4@4.12.0/dist/extensions/contextmenu/jspanel.contextmenu.js', 'https://cdn.holoviz.org/panel/1.1.1/dist/bundled/floatpanel/jspanel4@4.12.0/dist/extensions/dock/jspanel.dock.js'];\n      for (var i = 0; i < urls.length; i++) {\n        skip.push(urls[i])\n      }\n    }    if (((window['GridStack'] !== undefined) && (!(window['GridStack'] instanceof HTMLElement))) || window.requirejs) {\n      var urls = ['https://cdn.holoviz.org/panel/1.1.1/dist/bundled/gridstack/gridstack@7.2.3/dist/gridstack-all.js'];\n      for (var i = 0; i < urls.length; i++) {\n        skip.push(urls[i])\n      }\n    }    if (((window['Notyf'] !== undefined) && (!(window['Notyf'] instanceof HTMLElement))) || window.requirejs) {\n      var urls = ['https://cdn.holoviz.org/panel/1.1.1/dist/bundled/notificationarea/notyf@3/notyf.min.js'];\n      for (var i = 0; i < urls.length; i++) {\n        skip.push(urls[i])\n      }\n    }    var existing_scripts = []\n    var scripts = document.getElementsByTagName('script')\n    for (var i = 0; i < scripts.length; i++) {\n      var script = scripts[i]\n      if (script.src != null) {\n\texisting_scripts.push(script.src)\n      }\n    }\n    for (var i = 0; i < js_urls.length; i++) {\n      var url = js_urls[i];\n      if (skip.indexOf(url) !== -1 || existing_scripts.indexOf(url) !== -1) {\n\tif (!window.requirejs) {\n\t  on_load();\n\t}\n\tcontinue;\n      }\n      var element = document.createElement('script');\n      element.onload = on_load;\n      element.onerror = on_error;\n      element.async = false;\n      element.src = url;\n      console.debug(\"Bokeh: injecting script tag for BokehJS library: \", url);\n      document.head.appendChild(element);\n    }\n    for (var i = 0; i < js_modules.length; i++) {\n      var url = js_modules[i];\n      if (skip.indexOf(url) !== -1 || existing_scripts.indexOf(url) !== -1) {\n\tif (!window.requirejs) {\n\t  on_load();\n\t}\n\tcontinue;\n      }\n      var element = document.createElement('script');\n      element.onload = on_load;\n      element.onerror = on_error;\n      element.async = false;\n      element.src = url;\n      element.type = \"module\";\n      console.debug(\"Bokeh: injecting script tag for BokehJS library: \", url);\n      document.head.appendChild(element);\n    }\n    for (const name in js_exports) {\n      var url = js_exports[name];\n      if (skip.indexOf(url) >= 0 || root[name] != null) {\n\tif (!window.requirejs) {\n\t  on_load();\n\t}\n\tcontinue;\n      }\n      var element = document.createElement('script');\n      element.onerror = on_error;\n      element.async = false;\n      element.type = \"module\";\n      console.debug(\"Bokeh: injecting script tag for BokehJS library: \", url);\n      element.textContent = `\n      import ${name} from \"${url}\"\n      window.${name} = ${name}\n      window._bokeh_on_load()\n      `\n      document.head.appendChild(element);\n    }\n    if (!js_urls.length && !js_modules.length) {\n      on_load()\n    }\n  };\n\n  function inject_raw_css(css) {\n    const element = document.createElement(\"style\");\n    element.appendChild(document.createTextNode(css));\n    document.body.appendChild(element);\n  }\n\n  var js_urls = [\"https://cdn.bokeh.org/bokeh/release/bokeh-3.1.1.min.js\", \"https://cdn.bokeh.org/bokeh/release/bokeh-gl-3.1.1.min.js\", \"https://cdn.bokeh.org/bokeh/release/bokeh-widgets-3.1.1.min.js\", \"https://cdn.bokeh.org/bokeh/release/bokeh-tables-3.1.1.min.js\", \"https://cdn.holoviz.org/panel/1.1.1/dist/panel.min.js\"];\n  var js_modules = [];\n  var js_exports = {};\n  var css_urls = [];\n  var inline_js = [    function(Bokeh) {\n      Bokeh.set_log_level(\"info\");\n    },\nfunction(Bokeh) {} // ensure no trailing comma for IE\n  ];\n\n  function run_inline_js() {\n    if ((root.Bokeh !== undefined) || (force === true)) {\n      for (var i = 0; i < inline_js.length; i++) {\n        inline_js[i].call(root, root.Bokeh);\n      }\n      // Cache old bokeh versions\n      if (Bokeh != undefined && !reloading) {\n\tvar NewBokeh = root.Bokeh;\n\tif (Bokeh.versions === undefined) {\n\t  Bokeh.versions = new Map();\n\t}\n\tif (NewBokeh.version !== Bokeh.version) {\n\t  Bokeh.versions.set(NewBokeh.version, NewBokeh)\n\t}\n\troot.Bokeh = Bokeh;\n      }} else if (Date.now() < root._bokeh_timeout) {\n      setTimeout(run_inline_js, 100);\n    } else if (!root._bokeh_failed_load) {\n      console.log(\"Bokeh: BokehJS failed to load within specified timeout.\");\n      root._bokeh_failed_load = true;\n    }\n    root._bokeh_is_initializing = false\n  }\n\n  function load_or_wait() {\n    // Implement a backoff loop that tries to ensure we do not load multiple\n    // versions of Bokeh and its dependencies at the same time.\n    // In recent versions we use the root._bokeh_is_initializing flag\n    // to determine whether there is an ongoing attempt to initialize\n    // bokeh, however for backward compatibility we also try to ensure\n    // that we do not start loading a newer (Panel>=1.0 and Bokeh>3) version\n    // before older versions are fully initialized.\n    if (root._bokeh_is_initializing && Date.now() > root._bokeh_timeout) {\n      root._bokeh_is_initializing = false;\n      root._bokeh_onload_callbacks = undefined;\n      console.log(\"Bokeh: BokehJS was loaded multiple times but one version failed to initialize.\");\n      load_or_wait();\n    } else if (root._bokeh_is_initializing || (typeof root._bokeh_is_initializing === \"undefined\" && root._bokeh_onload_callbacks !== undefined)) {\n      setTimeout(load_or_wait, 100);\n    } else {\n      Bokeh = root.Bokeh;\n      bokeh_loaded = Bokeh != null && (Bokeh.version === py_version || (Bokeh.versions !== undefined && Bokeh.versions.has(py_version)));\n      root._bokeh_is_initializing = true\n      root._bokeh_onload_callbacks = []\n      if (!reloading && (!bokeh_loaded || is_dev)) {\n\troot.Bokeh = undefined;\n      }\n      load_libs(css_urls, js_urls, js_modules, js_exports, function() {\n\tconsole.debug(\"Bokeh: BokehJS plotting callback run at\", now());\n\trun_inline_js();\n      });\n    }\n  }\n  // Give older versions of the autoload script a head-start to ensure\n  // they initialize before we start loading newer version.\n  setTimeout(load_or_wait, 100)\n}(window));"
     },
     "metadata": {},
     "output_type": "display_data"
    },
    {
     "data": {
      "application/javascript": [
       "\n",
       "if ((window.PyViz === undefined) || (window.PyViz instanceof HTMLElement)) {\n",
       "  window.PyViz = {comms: {}, comm_status:{}, kernels:{}, receivers: {}, plot_index: []}\n",
       "}\n",
       "\n",
       "\n",
       "    function JupyterCommManager() {\n",
       "    }\n",
       "\n",
       "    JupyterCommManager.prototype.register_target = function(plot_id, comm_id, msg_handler) {\n",
       "      if (window.comm_manager || ((window.Jupyter !== undefined) && (Jupyter.notebook.kernel != null))) {\n",
       "        var comm_manager = window.comm_manager || Jupyter.notebook.kernel.comm_manager;\n",
       "        comm_manager.register_target(comm_id, function(comm) {\n",
       "          comm.on_msg(msg_handler);\n",
       "        });\n",
       "      } else if ((plot_id in window.PyViz.kernels) && (window.PyViz.kernels[plot_id])) {\n",
       "        window.PyViz.kernels[plot_id].registerCommTarget(comm_id, function(comm) {\n",
       "          comm.onMsg = msg_handler;\n",
       "        });\n",
       "      } else if (typeof google != 'undefined' && google.colab.kernel != null) {\n",
       "        google.colab.kernel.comms.registerTarget(comm_id, (comm) => {\n",
       "          var messages = comm.messages[Symbol.asyncIterator]();\n",
       "          function processIteratorResult(result) {\n",
       "            var message = result.value;\n",
       "            console.log(message)\n",
       "            var content = {data: message.data, comm_id};\n",
       "            var buffers = []\n",
       "            for (var buffer of message.buffers || []) {\n",
       "              buffers.push(new DataView(buffer))\n",
       "            }\n",
       "            var metadata = message.metadata || {};\n",
       "            var msg = {content, buffers, metadata}\n",
       "            msg_handler(msg);\n",
       "            return messages.next().then(processIteratorResult);\n",
       "          }\n",
       "          return messages.next().then(processIteratorResult);\n",
       "        })\n",
       "      }\n",
       "    }\n",
       "\n",
       "    JupyterCommManager.prototype.get_client_comm = function(plot_id, comm_id, msg_handler) {\n",
       "      if (comm_id in window.PyViz.comms) {\n",
       "        return window.PyViz.comms[comm_id];\n",
       "      } else if (window.comm_manager || ((window.Jupyter !== undefined) && (Jupyter.notebook.kernel != null))) {\n",
       "        var comm_manager = window.comm_manager || Jupyter.notebook.kernel.comm_manager;\n",
       "        var comm = comm_manager.new_comm(comm_id, {}, {}, {}, comm_id);\n",
       "        if (msg_handler) {\n",
       "          comm.on_msg(msg_handler);\n",
       "        }\n",
       "      } else if ((plot_id in window.PyViz.kernels) && (window.PyViz.kernels[plot_id])) {\n",
       "        var comm = window.PyViz.kernels[plot_id].connectToComm(comm_id);\n",
       "        comm.open();\n",
       "        if (msg_handler) {\n",
       "          comm.onMsg = msg_handler;\n",
       "        }\n",
       "      } else if (typeof google != 'undefined' && google.colab.kernel != null) {\n",
       "        var comm_promise = google.colab.kernel.comms.open(comm_id)\n",
       "        comm_promise.then((comm) => {\n",
       "          window.PyViz.comms[comm_id] = comm;\n",
       "          if (msg_handler) {\n",
       "            var messages = comm.messages[Symbol.asyncIterator]();\n",
       "            function processIteratorResult(result) {\n",
       "              var message = result.value;\n",
       "              var content = {data: message.data};\n",
       "              var metadata = message.metadata || {comm_id};\n",
       "              var msg = {content, metadata}\n",
       "              msg_handler(msg);\n",
       "              return messages.next().then(processIteratorResult);\n",
       "            }\n",
       "            return messages.next().then(processIteratorResult);\n",
       "          }\n",
       "        }) \n",
       "        var sendClosure = (data, metadata, buffers, disposeOnDone) => {\n",
       "          return comm_promise.then((comm) => {\n",
       "            comm.send(data, metadata, buffers, disposeOnDone);\n",
       "          });\n",
       "        };\n",
       "        var comm = {\n",
       "          send: sendClosure\n",
       "        };\n",
       "      }\n",
       "      window.PyViz.comms[comm_id] = comm;\n",
       "      return comm;\n",
       "    }\n",
       "    window.PyViz.comm_manager = new JupyterCommManager();\n",
       "    \n",
       "\n",
       "\n",
       "var JS_MIME_TYPE = 'application/javascript';\n",
       "var HTML_MIME_TYPE = 'text/html';\n",
       "var EXEC_MIME_TYPE = 'application/vnd.holoviews_exec.v0+json';\n",
       "var CLASS_NAME = 'output';\n",
       "\n",
       "/**\n",
       " * Render data to the DOM node\n",
       " */\n",
       "function render(props, node) {\n",
       "  var div = document.createElement(\"div\");\n",
       "  var script = document.createElement(\"script\");\n",
       "  node.appendChild(div);\n",
       "  node.appendChild(script);\n",
       "}\n",
       "\n",
       "/**\n",
       " * Handle when a new output is added\n",
       " */\n",
       "function handle_add_output(event, handle) {\n",
       "  var output_area = handle.output_area;\n",
       "  var output = handle.output;\n",
       "  if ((output.data == undefined) || (!output.data.hasOwnProperty(EXEC_MIME_TYPE))) {\n",
       "    return\n",
       "  }\n",
       "  var id = output.metadata[EXEC_MIME_TYPE][\"id\"];\n",
       "  var toinsert = output_area.element.find(\".\" + CLASS_NAME.split(' ')[0]);\n",
       "  if (id !== undefined) {\n",
       "    var nchildren = toinsert.length;\n",
       "    var html_node = toinsert[nchildren-1].children[0];\n",
       "    html_node.innerHTML = output.data[HTML_MIME_TYPE];\n",
       "    var scripts = [];\n",
       "    var nodelist = html_node.querySelectorAll(\"script\");\n",
       "    for (var i in nodelist) {\n",
       "      if (nodelist.hasOwnProperty(i)) {\n",
       "        scripts.push(nodelist[i])\n",
       "      }\n",
       "    }\n",
       "\n",
       "    scripts.forEach( function (oldScript) {\n",
       "      var newScript = document.createElement(\"script\");\n",
       "      var attrs = [];\n",
       "      var nodemap = oldScript.attributes;\n",
       "      for (var j in nodemap) {\n",
       "        if (nodemap.hasOwnProperty(j)) {\n",
       "          attrs.push(nodemap[j])\n",
       "        }\n",
       "      }\n",
       "      attrs.forEach(function(attr) { newScript.setAttribute(attr.name, attr.value) });\n",
       "      newScript.appendChild(document.createTextNode(oldScript.innerHTML));\n",
       "      oldScript.parentNode.replaceChild(newScript, oldScript);\n",
       "    });\n",
       "    if (JS_MIME_TYPE in output.data) {\n",
       "      toinsert[nchildren-1].children[1].textContent = output.data[JS_MIME_TYPE];\n",
       "    }\n",
       "    output_area._hv_plot_id = id;\n",
       "    if ((window.Bokeh !== undefined) && (id in Bokeh.index)) {\n",
       "      window.PyViz.plot_index[id] = Bokeh.index[id];\n",
       "    } else {\n",
       "      window.PyViz.plot_index[id] = null;\n",
       "    }\n",
       "  } else if (output.metadata[EXEC_MIME_TYPE][\"server_id\"] !== undefined) {\n",
       "    var bk_div = document.createElement(\"div\");\n",
       "    bk_div.innerHTML = output.data[HTML_MIME_TYPE];\n",
       "    var script_attrs = bk_div.children[0].attributes;\n",
       "    for (var i = 0; i < script_attrs.length; i++) {\n",
       "      toinsert[toinsert.length - 1].childNodes[1].setAttribute(script_attrs[i].name, script_attrs[i].value);\n",
       "    }\n",
       "    // store reference to server id on output_area\n",
       "    output_area._bokeh_server_id = output.metadata[EXEC_MIME_TYPE][\"server_id\"];\n",
       "  }\n",
       "}\n",
       "\n",
       "/**\n",
       " * Handle when an output is cleared or removed\n",
       " */\n",
       "function handle_clear_output(event, handle) {\n",
       "  var id = handle.cell.output_area._hv_plot_id;\n",
       "  var server_id = handle.cell.output_area._bokeh_server_id;\n",
       "  if (((id === undefined) || !(id in PyViz.plot_index)) && (server_id !== undefined)) { return; }\n",
       "  var comm = window.PyViz.comm_manager.get_client_comm(\"hv-extension-comm\", \"hv-extension-comm\", function () {});\n",
       "  if (server_id !== null) {\n",
       "    comm.send({event_type: 'server_delete', 'id': server_id});\n",
       "    return;\n",
       "  } else if (comm !== null) {\n",
       "    comm.send({event_type: 'delete', 'id': id});\n",
       "  }\n",
       "  delete PyViz.plot_index[id];\n",
       "  if ((window.Bokeh !== undefined) & (id in window.Bokeh.index)) {\n",
       "    var doc = window.Bokeh.index[id].model.document\n",
       "    doc.clear();\n",
       "    const i = window.Bokeh.documents.indexOf(doc);\n",
       "    if (i > -1) {\n",
       "      window.Bokeh.documents.splice(i, 1);\n",
       "    }\n",
       "  }\n",
       "}\n",
       "\n",
       "/**\n",
       " * Handle kernel restart event\n",
       " */\n",
       "function handle_kernel_cleanup(event, handle) {\n",
       "  delete PyViz.comms[\"hv-extension-comm\"];\n",
       "  window.PyViz.plot_index = {}\n",
       "}\n",
       "\n",
       "/**\n",
       " * Handle update_display_data messages\n",
       " */\n",
       "function handle_update_output(event, handle) {\n",
       "  handle_clear_output(event, {cell: {output_area: handle.output_area}})\n",
       "  handle_add_output(event, handle)\n",
       "}\n",
       "\n",
       "function register_renderer(events, OutputArea) {\n",
       "  function append_mime(data, metadata, element) {\n",
       "    // create a DOM node to render to\n",
       "    var toinsert = this.create_output_subarea(\n",
       "    metadata,\n",
       "    CLASS_NAME,\n",
       "    EXEC_MIME_TYPE\n",
       "    );\n",
       "    this.keyboard_manager.register_events(toinsert);\n",
       "    // Render to node\n",
       "    var props = {data: data, metadata: metadata[EXEC_MIME_TYPE]};\n",
       "    render(props, toinsert[0]);\n",
       "    element.append(toinsert);\n",
       "    return toinsert\n",
       "  }\n",
       "\n",
       "  events.on('output_added.OutputArea', handle_add_output);\n",
       "  events.on('output_updated.OutputArea', handle_update_output);\n",
       "  events.on('clear_output.CodeCell', handle_clear_output);\n",
       "  events.on('delete.Cell', handle_clear_output);\n",
       "  events.on('kernel_ready.Kernel', handle_kernel_cleanup);\n",
       "\n",
       "  OutputArea.prototype.register_mime_type(EXEC_MIME_TYPE, append_mime, {\n",
       "    safe: true,\n",
       "    index: 0\n",
       "  });\n",
       "}\n",
       "\n",
       "if (window.Jupyter !== undefined) {\n",
       "  try {\n",
       "    var events = require('base/js/events');\n",
       "    var OutputArea = require('notebook/js/outputarea').OutputArea;\n",
       "    if (OutputArea.prototype.mime_types().indexOf(EXEC_MIME_TYPE) == -1) {\n",
       "      register_renderer(events, OutputArea);\n",
       "    }\n",
       "  } catch(err) {\n",
       "  }\n",
       "}\n"
      ],
      "application/vnd.holoviews_load.v0+json": "\nif ((window.PyViz === undefined) || (window.PyViz instanceof HTMLElement)) {\n  window.PyViz = {comms: {}, comm_status:{}, kernels:{}, receivers: {}, plot_index: []}\n}\n\n\n    function JupyterCommManager() {\n    }\n\n    JupyterCommManager.prototype.register_target = function(plot_id, comm_id, msg_handler) {\n      if (window.comm_manager || ((window.Jupyter !== undefined) && (Jupyter.notebook.kernel != null))) {\n        var comm_manager = window.comm_manager || Jupyter.notebook.kernel.comm_manager;\n        comm_manager.register_target(comm_id, function(comm) {\n          comm.on_msg(msg_handler);\n        });\n      } else if ((plot_id in window.PyViz.kernels) && (window.PyViz.kernels[plot_id])) {\n        window.PyViz.kernels[plot_id].registerCommTarget(comm_id, function(comm) {\n          comm.onMsg = msg_handler;\n        });\n      } else if (typeof google != 'undefined' && google.colab.kernel != null) {\n        google.colab.kernel.comms.registerTarget(comm_id, (comm) => {\n          var messages = comm.messages[Symbol.asyncIterator]();\n          function processIteratorResult(result) {\n            var message = result.value;\n            console.log(message)\n            var content = {data: message.data, comm_id};\n            var buffers = []\n            for (var buffer of message.buffers || []) {\n              buffers.push(new DataView(buffer))\n            }\n            var metadata = message.metadata || {};\n            var msg = {content, buffers, metadata}\n            msg_handler(msg);\n            return messages.next().then(processIteratorResult);\n          }\n          return messages.next().then(processIteratorResult);\n        })\n      }\n    }\n\n    JupyterCommManager.prototype.get_client_comm = function(plot_id, comm_id, msg_handler) {\n      if (comm_id in window.PyViz.comms) {\n        return window.PyViz.comms[comm_id];\n      } else if (window.comm_manager || ((window.Jupyter !== undefined) && (Jupyter.notebook.kernel != null))) {\n        var comm_manager = window.comm_manager || Jupyter.notebook.kernel.comm_manager;\n        var comm = comm_manager.new_comm(comm_id, {}, {}, {}, comm_id);\n        if (msg_handler) {\n          comm.on_msg(msg_handler);\n        }\n      } else if ((plot_id in window.PyViz.kernels) && (window.PyViz.kernels[plot_id])) {\n        var comm = window.PyViz.kernels[plot_id].connectToComm(comm_id);\n        comm.open();\n        if (msg_handler) {\n          comm.onMsg = msg_handler;\n        }\n      } else if (typeof google != 'undefined' && google.colab.kernel != null) {\n        var comm_promise = google.colab.kernel.comms.open(comm_id)\n        comm_promise.then((comm) => {\n          window.PyViz.comms[comm_id] = comm;\n          if (msg_handler) {\n            var messages = comm.messages[Symbol.asyncIterator]();\n            function processIteratorResult(result) {\n              var message = result.value;\n              var content = {data: message.data};\n              var metadata = message.metadata || {comm_id};\n              var msg = {content, metadata}\n              msg_handler(msg);\n              return messages.next().then(processIteratorResult);\n            }\n            return messages.next().then(processIteratorResult);\n          }\n        }) \n        var sendClosure = (data, metadata, buffers, disposeOnDone) => {\n          return comm_promise.then((comm) => {\n            comm.send(data, metadata, buffers, disposeOnDone);\n          });\n        };\n        var comm = {\n          send: sendClosure\n        };\n      }\n      window.PyViz.comms[comm_id] = comm;\n      return comm;\n    }\n    window.PyViz.comm_manager = new JupyterCommManager();\n    \n\n\nvar JS_MIME_TYPE = 'application/javascript';\nvar HTML_MIME_TYPE = 'text/html';\nvar EXEC_MIME_TYPE = 'application/vnd.holoviews_exec.v0+json';\nvar CLASS_NAME = 'output';\n\n/**\n * Render data to the DOM node\n */\nfunction render(props, node) {\n  var div = document.createElement(\"div\");\n  var script = document.createElement(\"script\");\n  node.appendChild(div);\n  node.appendChild(script);\n}\n\n/**\n * Handle when a new output is added\n */\nfunction handle_add_output(event, handle) {\n  var output_area = handle.output_area;\n  var output = handle.output;\n  if ((output.data == undefined) || (!output.data.hasOwnProperty(EXEC_MIME_TYPE))) {\n    return\n  }\n  var id = output.metadata[EXEC_MIME_TYPE][\"id\"];\n  var toinsert = output_area.element.find(\".\" + CLASS_NAME.split(' ')[0]);\n  if (id !== undefined) {\n    var nchildren = toinsert.length;\n    var html_node = toinsert[nchildren-1].children[0];\n    html_node.innerHTML = output.data[HTML_MIME_TYPE];\n    var scripts = [];\n    var nodelist = html_node.querySelectorAll(\"script\");\n    for (var i in nodelist) {\n      if (nodelist.hasOwnProperty(i)) {\n        scripts.push(nodelist[i])\n      }\n    }\n\n    scripts.forEach( function (oldScript) {\n      var newScript = document.createElement(\"script\");\n      var attrs = [];\n      var nodemap = oldScript.attributes;\n      for (var j in nodemap) {\n        if (nodemap.hasOwnProperty(j)) {\n          attrs.push(nodemap[j])\n        }\n      }\n      attrs.forEach(function(attr) { newScript.setAttribute(attr.name, attr.value) });\n      newScript.appendChild(document.createTextNode(oldScript.innerHTML));\n      oldScript.parentNode.replaceChild(newScript, oldScript);\n    });\n    if (JS_MIME_TYPE in output.data) {\n      toinsert[nchildren-1].children[1].textContent = output.data[JS_MIME_TYPE];\n    }\n    output_area._hv_plot_id = id;\n    if ((window.Bokeh !== undefined) && (id in Bokeh.index)) {\n      window.PyViz.plot_index[id] = Bokeh.index[id];\n    } else {\n      window.PyViz.plot_index[id] = null;\n    }\n  } else if (output.metadata[EXEC_MIME_TYPE][\"server_id\"] !== undefined) {\n    var bk_div = document.createElement(\"div\");\n    bk_div.innerHTML = output.data[HTML_MIME_TYPE];\n    var script_attrs = bk_div.children[0].attributes;\n    for (var i = 0; i < script_attrs.length; i++) {\n      toinsert[toinsert.length - 1].childNodes[1].setAttribute(script_attrs[i].name, script_attrs[i].value);\n    }\n    // store reference to server id on output_area\n    output_area._bokeh_server_id = output.metadata[EXEC_MIME_TYPE][\"server_id\"];\n  }\n}\n\n/**\n * Handle when an output is cleared or removed\n */\nfunction handle_clear_output(event, handle) {\n  var id = handle.cell.output_area._hv_plot_id;\n  var server_id = handle.cell.output_area._bokeh_server_id;\n  if (((id === undefined) || !(id in PyViz.plot_index)) && (server_id !== undefined)) { return; }\n  var comm = window.PyViz.comm_manager.get_client_comm(\"hv-extension-comm\", \"hv-extension-comm\", function () {});\n  if (server_id !== null) {\n    comm.send({event_type: 'server_delete', 'id': server_id});\n    return;\n  } else if (comm !== null) {\n    comm.send({event_type: 'delete', 'id': id});\n  }\n  delete PyViz.plot_index[id];\n  if ((window.Bokeh !== undefined) & (id in window.Bokeh.index)) {\n    var doc = window.Bokeh.index[id].model.document\n    doc.clear();\n    const i = window.Bokeh.documents.indexOf(doc);\n    if (i > -1) {\n      window.Bokeh.documents.splice(i, 1);\n    }\n  }\n}\n\n/**\n * Handle kernel restart event\n */\nfunction handle_kernel_cleanup(event, handle) {\n  delete PyViz.comms[\"hv-extension-comm\"];\n  window.PyViz.plot_index = {}\n}\n\n/**\n * Handle update_display_data messages\n */\nfunction handle_update_output(event, handle) {\n  handle_clear_output(event, {cell: {output_area: handle.output_area}})\n  handle_add_output(event, handle)\n}\n\nfunction register_renderer(events, OutputArea) {\n  function append_mime(data, metadata, element) {\n    // create a DOM node to render to\n    var toinsert = this.create_output_subarea(\n    metadata,\n    CLASS_NAME,\n    EXEC_MIME_TYPE\n    );\n    this.keyboard_manager.register_events(toinsert);\n    // Render to node\n    var props = {data: data, metadata: metadata[EXEC_MIME_TYPE]};\n    render(props, toinsert[0]);\n    element.append(toinsert);\n    return toinsert\n  }\n\n  events.on('output_added.OutputArea', handle_add_output);\n  events.on('output_updated.OutputArea', handle_update_output);\n  events.on('clear_output.CodeCell', handle_clear_output);\n  events.on('delete.Cell', handle_clear_output);\n  events.on('kernel_ready.Kernel', handle_kernel_cleanup);\n\n  OutputArea.prototype.register_mime_type(EXEC_MIME_TYPE, append_mime, {\n    safe: true,\n    index: 0\n  });\n}\n\nif (window.Jupyter !== undefined) {\n  try {\n    var events = require('base/js/events');\n    var OutputArea = require('notebook/js/outputarea').OutputArea;\n    if (OutputArea.prototype.mime_types().indexOf(EXEC_MIME_TYPE) == -1) {\n      register_renderer(events, OutputArea);\n    }\n  } catch(err) {\n  }\n}\n"
     },
     "metadata": {},
     "output_type": "display_data"
    },
    {
     "data": {
      "text/html": [
       "<style>*[data-root-id],\n",
       "*[data-root-id] > * {\n",
       "  box-sizing: border-box;\n",
       "  font-family: var(--jp-ui-font-family);\n",
       "  font-size: var(--jp-ui-font-size1);\n",
       "  color: var(--vscode-editor-foreground, var(--jp-ui-font-color1));\n",
       "}\n",
       "\n",
       "/* Override VSCode background color */\n",
       ".cell-output-ipywidget-background:has(> .cell-output-ipywidget-background\n",
       "    > .lm-Widget\n",
       "    > *[data-root-id]),\n",
       ".cell-output-ipywidget-background:has(> .lm-Widget > *[data-root-id]) {\n",
       "  background-color: transparent !important;\n",
       "}\n",
       "</style>"
      ]
     },
     "metadata": {},
     "output_type": "display_data"
    },
    {
     "data": {
      "text/html": [
       "\n",
       "<div class=\"logo-block\">\n",
       "<img src='data:image/png;base64,iVBORw0KGgoAAAANSUhEUgAAAEAAAABACAYAAACqaXHeAAAABHNCSVQICAgIfAhkiAAAAAlwSFlz\n",
       "AAAB+wAAAfsBxc2miwAAABl0RVh0U29mdHdhcmUAd3d3Lmlua3NjYXBlLm9yZ5vuPBoAAA6zSURB\n",
       "VHic7ZtpeFRVmsf/5966taWqUlUJ2UioBBJiIBAwCZtog9IOgjqACsogKtqirT2ttt069nQ/zDzt\n",
       "tI4+CrJIREFaFgWhBXpUNhHZQoKBkIUASchWla1S+3ar7r1nPkDaCAnZKoQP/D7mnPOe9/xy76n3\n",
       "nFSAW9ziFoPFNED2LLK5wcyBDObkb8ZkxuaoSYlI6ZcOKq1eWFdedqNzGHQBk9RMEwFAASkk0Xw3\n",
       "ETacDNi2vtvc7L0ROdw0AjoSotQVkKSvHQz/wRO1lScGModBFbDMaNRN1A4tUBCS3lk7BWhQkgpD\n",
       "lG4852/+7DWr1R3uHAZVQDsbh6ZPN7CyxUrCzJMRouusj0ipRwD2uKm0Zn5d2dFwzX1TCGhnmdGo\n",
       "G62Nna+isiUqhkzuKrkQaJlPEv5mFl2fvGg2t/VnzkEV8F5ioioOEWkLG86fvbpthynjdhXYZziQ\n",
       "x1hC9J2NFyi8vCTt91Fh04KGip0AaG9zuCk2wQCVyoNU3Hjezee9bq92duzzTmxsRJoy+jEZZZYo\n",
       "GTKJ6SJngdJqAfRzpze0+jHreUtPc7gpBLQnIYK6BYp/uGhw9YK688eu7v95ysgshcg9qSLMo3JC\n",
       "4jqLKQFBgdKDPoQ+Pltb8dUyQLpeDjeVgI6EgLIQFT5tEl3rn2losHVsexbZ3EyT9wE1uGdkIPcy\n",
       "BGxn8QUq1QrA5nqW5i2tLqvrrM9NK6AdkVIvL9E9bZL/oyfMVd/jqvc8LylzRBKDJSzIExwhQzuL\n",
       "QYGQj4rHfFTc8mUdu3E7yoLtbTe9gI4EqVgVkug2i5+uXGo919ixbRog+3fTbQ8qJe4ZOYNfMoTI\n",
       "OoshUNosgO60AisX15aeI2PSIp5KiFLI9ubb1vV3Qb2ltwLakUCDAkWX7/nHKRmmGIl9VgYsUhJm\n",
       "2NXjKYADtM1ygne9QQDIXlk49FBstMKx66D1v4+XuQr7vqTe0VcBHQlRWiOCbmmSYe2SqtL6q5rJ\n",
       "zsTb7lKx3FKOYC4DoqyS/B5bvLPxvD9Qtf6saxYLQGJErmDOdOMr/zo96km1nElr8bmPOBwI9COv\n",
       "HnFPRIwmkSOv9kcAS4heRsidOkpeWBgZM+UBrTFAXNYL5Vf2ii9c1trNzpYdaoVil3WIc+wdk+gQ\n",
       "noie3ecCcxt9ITcLAPWt/laGEO/9U6PmzZkenTtsSMQ8uYywJVW+grCstAvCIaAdArAsIWkRDDs/\n",
       "KzLm2YcjY1Lv0UdW73HabE9n6V66cxSzfEmuJssTpKGVp+0vHq73FwL46eOjpMpbRAnNmJFrGJNu\n",
       "Ukf9Yrz+3rghiumCKNXXWPhLYcjxGsIpoCMsIRoFITkW8AuyM8jC1+/QLx4bozCEJIq38+1rtpR6\n",
       "V/yzb8eBlRb3fo5l783N0CWolAzJHaVNzkrTzlEp2bQ2q3TC5gn6wpnoQAmwSiGh2GitnTmVMc5O\n",
       "UyfKWUKCIsU7+fZDKwqdT6DDpvkzAX4/+AMFjk0tDp5GRXLpQ2MUmhgDp5gxQT8+Y7hyPsMi8uxF\n",
       "71H0oebujHALECjFKaW9Lm68n18wXp2kVzIcABytD5iXFzg+WVXkegpAsOOYziqo0OkK76GyquC3\n",
       "ltZAzMhhqlSNmmWTE5T6e3IN05ITFLM4GdN0vtZ3ob8Jh1NAKXFbm5PtLU/eqTSlGjkNAJjdgn/N\n",
       "aedXa0tdi7+t9G0FIF49rtMSEgAs1kDLkTPO7ebm4IUWeyh1bKomXqlgMG6kJmHcSM0clYLJ8XtR\n",
       "1GTnbV3F6I5wCGikAb402npp1h1s7LQUZZSMIfALFOuL3UUrfnS8+rez7v9qcold5tilgHbO1fjK\n",
       "9ubb17u9oshxzMiUBKXWqJNxd+fqb0tLVs4lILFnK71H0Ind7uiPgACVcFJlrb0tV6DzxqqTIhUM\n",
       "CwDf1/rrVhTa33/3pGPxJYdQ2l2cbgVcQSosdx8uqnDtbGjh9SlDVSMNWhlnilfqZk42Th2ZpLpf\n",
       "xrHec5e815zrr0dfBZSwzkZfqsv+1FS1KUknUwPARVvItfKUY+cn57yP7qv07UE3p8B2uhUwLk09\n",
       "e0SCOrK+hbdYHYLjRIl71wWzv9jpEoeOHhGRrJAzyEyNiJuUqX0g2sBN5kGK6y2Blp5M3lsB9Qh4\n",
       "y2Ja6x6+i0ucmKgwMATwhSjdUu49tKrQ/pvN5d53ml2CGwCmJipmKjgmyuaXzNeL2a0AkQ01Th5j\n",
       "2DktO3Jyk8f9vcOBQHV94OK+fPumJmvQHxJoWkaKWq9Vs+yUsbq0zGT1I4RgeH2b5wef7+c7bl8F\n",
       "eKgoHVVZa8ZPEORzR6sT1BzDUAD/d9F78e2Tzv99v8D+fLVTqAKAsbGamKey1Mt9Ann4eH3gTXTz\n",
       "idWtAJ8PQWOk7NzSeQn/OTHDuEikVF1R4z8BQCy+6D1aWRfY0tTGG2OM8rRoPaeIj5ZHzJxszElN\n",
       "VM8K8JS5WOfv8mzRnQAKoEhmt8gyPM4lU9SmBK1MCQBnW4KONT86v1hZ1PbwSXPw4JWussVjtH9Y\n",
       "NCoiL9UoH/6PSu8jFrfY2t36erQHXLIEakMi1SydmzB31h3GGXFDFNPaK8Rme9B79Ixrd0WN+1ij\n",
       "NRQ/doRmuFLBkHSTOm5GruG+pFjFdAmorG4IXH1Qua6ASniclfFtDYt+oUjKipPrCQB7QBQ2lrgP\n",
       "fFzm+9XWUtcqJ3/5vDLDpJ79XHZk3u8nGZ42qlj1+ydtbxysCezrydp6ugmipNJ7WBPB5tydY0jP\n",
       "HaVNzs3QzeE4ZpTbI+ZbnSFPbVOw9vsfnVvqWnirPyCNGD08IlqtYkh2hjZ5dErEQzoNm+6ykyOt\n",
       "Lt5/PQEuSRRKo22VkydK+vvS1XEKlhCJAnsqvcVvH7f/ZU2R67eXbMEGAMiIV5oWZWiWvz5Fv2xG\n",
       "sjqNJQRvn3Rs2lji/lNP19VjAQDgD7FHhujZB9OGqYxRkZxixgRDVlqS6uEOFaJUVu0rPFzctrnF\n",
       "JqijImVp8dEKVWyUXDk92zAuMZ6bFwpBU1HrOw6AdhQgUooChb0+ItMbWJitSo5Ws3IAOGEOtL53\n",
       "0vHZih9sC4vtofZ7Qu6523V/fmGcds1TY3V36pUsBwAbSlxnVh2xLfAD/IAIMDf7XYIkNmXfpp2l\n",
       "18rkAJAy9HKFaIr/qULkeQQKy9zf1JgDB2uaeFNGijo5QsUyacNUUTOnGO42xSnv4oOwpDi1zYkc\n",
       "efUc3I5Gk6PhyTuVKaOGyLUAYPGIoY9Pu/atL/L92+4q9wbflRJ2Trpm/jPjdBtfnqB/dIThcl8A\n",
       "KG7hbRuKnb8qsQsVvVlTrwQAQMUlf3kwJI24Z4JhPMtcfng5GcH49GsrxJpGvvHIaeem2ma+KSjQ\n",
       "lIwUdYyCY8j4dE1KzijNnIP2llF2wcXNnsoapw9XxsgYAl6k+KzUXbi2yP3KR2ecf6z3BFsBICdW\n",
       "nvnIaG3eHybqX7vbpEqUMT+9OL4Qpe8VON7dXuFd39v19FoAABRVePbGGuXTszO0P7tu6lghUonE\n",
       "llRdrhArLvmKdh9u29jcFiRRkfLUxBiFNiqSU9icoZQHo5mYBI1MBgBH6wMNb+U7Pnw337H4gi1Y\n",
       "ciWs+uks3Z9fztUvfzxTm9Ne8XXkvQLHNytOOZeiD4e0PgkAIAYCYknKUNUDSXEKzdWNpnil7r4p\n",
       "xqkjTarZMtk/K8TQ6Qve78qqvXurGwIJqcOUKfUWHsm8KGvxSP68YudXq4pcj39X49uOK2X142O0\n",
       "Tz5/u/7TVybqH0rSya6ZBwD21/gubbrgWdDgEOx9WUhfBaC2ibcEBYm7a7x+ukrBMNcEZggyR0TE\n",
       "T8zUPjikQ4VosQZbTpS4vqizBKvqmvjsqnpfzaZyx9JPiz1/bfGKdgD45XB1zoIMzYbfTdS/NClB\n",
       "Gct0USiY3YL/g0LHy/uq/Ef6uo5+n0R/vyhp17Klpge763f8rMu6YU/zrn2nml+2WtH+Z+5IAAFc\n",
       "2bUTdTDOSNa9+cQY7YLsOIXhevEkCvzph7a8laecz/Un/z4/Ae04XeL3UQb57IwU9ZDr9UuKVajv\n",
       "nxp1+1UVIo/LjztZkKH59fO3G/JemqCfmaCRqbqbd90ZZ8FfjtkfAyD0J/9+C2h1hDwsSxvGjNDc\n",
       "b4zk5NfrSwiQblLHzZhg+Jf4aPlUwpDqkQqa9nimbt1/TDH8OitGMaQnj+RJS6B1fbF7SY1TqO5v\n",
       "/v0WAADl1f7zokgS7s7VT2DZ7pegUjBM7mjtiDZbcN4j0YrHH0rXpCtY0qPX0cVL0rv5jv/ZXend\n",
       "0u/EESYBAFBU4T4Qa5TflZOhTe7pmKpaP8kCVUVw1+yhXfJWvn1P3hnXi33JsTN6PnP3hHZ8Z3/h\n",
       "aLHzmkNPuPj7Bc/F/Q38CwjTpSwQXgE4Vmwry9tpfq/ZFgqFMy4AVDtCvi8rvMvOmv0N4YwbVgEA\n",
       "sPM72/KVnzfspmH7HQGCRLG2yL1+z8XwvPcdCbsAANh+xPzstgMtxeGKt+6MK3/tacfvwhWvIwMi\n",
       "oKEBtm0H7W+UVfkc/Y1V0BhoPlDr/w1w/eu1vjIgAgDg22OtX6/eYfnEz/focrZTHAFR+PSs56/7\n",
       "q32nwpjazxgwAQCwcU/T62t3WL7r6/jVRa6/byp1rei+Z98ZUAEAhEPHPc8fKnTU9nbgtnOe8h0l\n",
       "9hcGIqmODLQAHCy2Xti6v/XNRivf43f4fFvIteu854+VHnR7q9tfBlwAAGz+pnndB9vM26UebAe8\n",
       "SLHujPOTPVW+rwY+sxskAAC2HrA8t2Vvc7ffP1r9o+vwR2dcr92InIAbKKC1FZ5tB1tf+/G8p8sv\n",
       "N/9Q5zd/XR34LYCwV5JdccMEAMDBk45DH243r/X4xGvqxFa/GNpS7n6rwOwNWwHVE26oAADYurf1\n",
       "zx/utOzt+DMKYM0p17YtZZ5VNzqfsB2HewG1WXE8PoZ7gOclbTIvynZf9JV+fqZtfgs/8F/Nu5rB\n",
       "EIBmJ+8QRMmpU7EzGRsf2FzuePqYRbzh/zE26EwdrT10f6r6o8HOYzCJB9Dpff8tbnGLG8L/A/WE\n",
       "roTBs2RqAAAAAElFTkSuQmCC'\n",
       "     style='height:25px; border-radius:12px; display: inline-block; float: left; vertical-align: middle'></img>\n",
       "\n",
       "\n",
       "  <img src='data:image/png;base64,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'\n",
       "       style='height:15px; border-radius:12px; display: inline-block; float: left'></img>\n",
       "  \n",
       "\n",
       "\n",
       "\n",
       "\n",
       "</div>\n"
      ]
     },
     "metadata": {},
     "output_type": "display_data"
    }
   ],
   "source": [
    "# bibliotheques Python -- faire le tri car certaines ne sont pas utiles\n",
    "import numpy as np \n",
    "import matplotlib.pyplot as plt\n",
    "import scipy as scp\n",
    "import pylab as pyl\n",
    "import pywt\n",
    "import pandas as pd\n",
    "import holoviews as hv\n",
    "import param\n",
    "import panel as pn\n",
    "from panel.pane import LaTeX\n",
    "hv.extension('bokeh')\n",
    "from panel.interact import interact\n",
    "from tabulate import tabulate\n",
    "from IPython.display import display, HTML\n",
    "import plotly.express as px\n",
    "import plotly.graph_objects as go\n",
    "import scipy.stats as stats\n",
    "import statsmodels.api as sm"
   ]
  },
  {
   "cell_type": "markdown",
   "id": "445afac8",
   "metadata": {},
   "source": [
    "# Table des Matières\n",
    "\n",
    "**BLOC FREQUENCE**\n",
    "\n",
    "**Survenance**\n",
    "- [Score caractéristiques entreprise](#score_etp)\n",
    "    - [Création et intégration profil](#int_profil)\n",
    "        - [Caractéristique salaire moyen par entreprise](#caracteristique-salaire)\n",
    "        - [Caractéristique Pays - Donnée constante à l'entreprise / ne dépend pas de l'attaque](#pays)\n",
    "    - [Calcul du score](#score_calcul)\n",
    "- [Fréquence apparition de l'attaque cyber](#frequence)\n",
    "    - [Attaque phishing](#attphishing)\n",
    "    - [Attaque ddos](#attddos)\n",
    "    - [Attaque ransomware](#attransomware)\n",
    "- [P(Ai,G)](#paig)\n",
    "- [Pc(Ai,G)](#pcaig)\n",
    "- [Vulnérabilités](#vulnerabilites)\n",
    "    - [CVE exploitables KEV](#CVEKEV)\n",
    "    - [CVE pour attaque Ai](#CVEAI)\n",
    "    - [CVE de l'entreprise C](#CVE_etp)\n",
    "    - [Intersection des 3 sous ensembles](#intersection)\n",
    "    - [Calcul du score EPSS pour chaque CVE](#EPSS)\n",
    "    - [P(CVEs entraînent Ai,G) à l'instant t pour entreprise C](#probacve)\n",
    "- [Pc(Ai,G) données historiques](#probahisto)\n",
    "- [Pc(Ai, G survienne)](#probasurvenance)\n",
    "   \n",
    "\n",
    "**Réussite**\n",
    "- [Facteur d'atténuation/aggravation réussite de l'attaque](#facteur_attenuation)\n",
    "    - [Protections SI](#protection_SI)\n",
    "    - [Impact selon attaque Ai](#impact)\n",
    "    - [Formations employés](#formation)\n",
    "        - [Formation risque cyber](#formation_cyber)\n",
    "        - [Formation risque phishing - données historiques sondage](#formation_phishing)\n",
    "    - [Caractéristiques entreprise](#cara_etp)\n",
    "        - [Age moyen des salariés](#age)\n",
    "    - [Fonction facteur](#fonction)\n",
    "\n",
    "    \n",
    "**Final**\n",
    "\n",
    "- [Proba finale fréquence x réussite](#finalfreq)\n",
    "\n",
    "\n",
    "**BLOC COUTS** \n",
    "\n",
    "- [Estimation des coûts](#fonctioncout)\n",
    "    - [Revenus mensuels](#mensuel)\n",
    "    - [Revenus journaliers](#jour)\n",
    "    - [Masse salariale](#massesalariale)\n",
    "    - [Couts previsionnels/jour - charges previsionnelles/jour](#coutsprev)\n",
    "    - [Multiplication finale](#calculfi)\n",
    "\n",
    "**BLOC RISQUE** \n",
    "- [Calcul du risque](#risque)\n",
    "    - [Méthode de simulations](#simu)\n",
    "- [Distribution des pertes globales](#global)\n",
    "- [Dashboard final](#final)\n",
    "\n",
    "\n",
    "\n",
    "**EXTENSIONS**\n",
    "\n",
    "\n",
    "- [Baromètre des conseils ANSSI](#barometre)\n",
    "- [Prévisions N+1 N+2](#previsions)"
   ]
  },
  {
   "cell_type": "markdown",
   "id": "e6a7238d",
   "metadata": {},
   "source": [
    "# *** BLOC FREQUENCE ***"
   ]
  },
  {
   "cell_type": "markdown",
   "id": "8cb49f75",
   "metadata": {},
   "source": [
    "# Score caractéristiques entreprise <a class=\"anchor\" id=\"score_etp\"></a>"
   ]
  },
  {
   "cell_type": "markdown",
   "id": "e2477ebb",
   "metadata": {},
   "source": [
    "## Création et intégration profil <a class=\"anchor\" id=\"int_profil\"></a>"
   ]
  },
  {
   "cell_type": "markdown",
   "id": "6c9f30b3",
   "metadata": {},
   "source": [
    "Imaginons des entreprises avec des caractéristiques différentes."
   ]
  },
  {
   "cell_type": "markdown",
   "id": "5ef6b1e7",
   "metadata": {},
   "source": [
    "> Secteur : Agriculture - Banque/assurance - Industrie - Services médicaux\n",
    "\n",
    "> CA : donnée manuelle\n",
    "\n",
    "> Taille / nb employés : <10 - 10/49 - 50/250 - > 250 \n",
    "\n",
    "> Pays : Liberia - Afrique du Sud - Namibie - Tanzanie - Mozanbique\n",
    "\n",
    "> Réseau/caractéristiques SI : Débutante - Bon - Développé \n",
    "\n",
    "> Formations employés : Cyber - Phishing avec des fréquences différentes\n",
    "\n",
    "> Protection SI : Firewall, Anti-virus, Maj régulières, Authentification à 2 facteurs, Mots de passe robustes, Navigation sécurisée, Sauvegardes régulières, Chiffrement des données."
   ]
  },
  {
   "cell_type": "markdown",
   "id": "ef0b5a61",
   "metadata": {},
   "source": [
    "Exemples \n",
    "\n",
    "\n",
    "Entreprise 1 : \n",
    "    \n",
    "    - secteur : Agriculture (A)\n",
    "        \n",
    "    - CA : 50 000 / 1 000 000\n",
    "    \n",
    "    - nb employés : 15\n",
    "    \n",
    "    - Pays : Liberia\n",
    "    \n",
    "    - Maturité SI : Débutante\n",
    "    \n",
    "Entreprise 2 : \n",
    "\n",
    "    - secteur : Banque (B) \n",
    "    \n",
    "    - CA : 1 000 000 / 20 000 000 \n",
    "    \n",
    "    - nb employés : 50/250\n",
    "    \n",
    "    - Pays : Afrique du Sud\n",
    "    \n",
    "    - Maturité SI : Bon"
   ]
  },
  {
   "cell_type": "markdown",
   "id": "7c1d47f8",
   "metadata": {},
   "source": [
    "**Données entrées par l'utilisateur**"
   ]
  },
  {
   "cell_type": "markdown",
   "id": "a08c8899",
   "metadata": {},
   "source": [
    "Les entreprises de moins de 10 employés ont un CA n'excédant pas 2 millions"
   ]
  },
  {
   "cell_type": "markdown",
   "id": "e7fd9a6e",
   "metadata": {},
   "source": [
    "Les entreprises qui ont entre 10 et 250 employés ont un CA supérieur à 2 millions et inférieur à 25 millions."
   ]
  },
  {
   "cell_type": "markdown",
   "id": "ec7c9201",
   "metadata": {},
   "source": [
    "Les entreprises qui ont entre 10 et 250 employés ont un CA supérieur à 25 millions et inférieur à 50 millions."
   ]
  },
  {
   "cell_type": "markdown",
   "id": "f593754b",
   "metadata": {},
   "source": [
    "Les entreprises de plus de 250 employés ont un CA supérieur à 50 millions."
   ]
  },
  {
   "cell_type": "code",
   "execution_count": 2,
   "id": "419b5c3f",
   "metadata": {},
   "outputs": [
    {
     "data": {},
     "metadata": {},
     "output_type": "display_data"
    },
    {
     "data": {
      "application/vnd.holoviews_exec.v0+json": "",
      "text/html": [
       "<div id='p1002'>\n",
       "  <div id=\"d2b289e6-59e4-4410-bd08-6519b3dc2dc9\" data-root-id=\"p1002\" style=\"display: contents;\"></div>\n",
       "</div>\n",
       "<script type=\"application/javascript\">(function(root) {\n",
       "  var docs_json = {\"f0449725-c67d-4222-acd4-c68376691aba\":{\"version\":\"3.1.1\",\"title\":\"Bokeh Application\",\"defs\":[{\"type\":\"model\",\"name\":\"ReactiveHTML1\"},{\"type\":\"model\",\"name\":\"FlexBox1\",\"properties\":[{\"name\":\"align_content\",\"kind\":\"Any\",\"default\":\"flex-start\"},{\"name\":\"align_items\",\"kind\":\"Any\",\"default\":\"flex-start\"},{\"name\":\"flex_direction\",\"kind\":\"Any\",\"default\":\"row\"},{\"name\":\"flex_wrap\",\"kind\":\"Any\",\"default\":\"wrap\"},{\"name\":\"justify_content\",\"kind\":\"Any\",\"default\":\"flex-start\"}]},{\"type\":\"model\",\"name\":\"FloatPanel1\",\"properties\":[{\"name\":\"config\",\"kind\":\"Any\",\"default\":{\"type\":\"map\"}},{\"name\":\"contained\",\"kind\":\"Any\",\"default\":true},{\"name\":\"position\",\"kind\":\"Any\",\"default\":\"right-top\"},{\"name\":\"offsetx\",\"kind\":\"Any\",\"default\":null},{\"name\":\"offsety\",\"kind\":\"Any\",\"default\":null},{\"name\":\"theme\",\"kind\":\"Any\",\"default\":\"primary\"},{\"name\":\"status\",\"kind\":\"Any\",\"default\":\"normalized\"}]},{\"type\":\"model\",\"name\":\"GridStack1\",\"properties\":[{\"name\":\"mode\",\"kind\":\"Any\",\"default\":\"warn\"},{\"name\":\"ncols\",\"kind\":\"Any\",\"default\":null},{\"name\":\"nrows\",\"kind\":\"Any\",\"default\":null},{\"name\":\"allow_resize\",\"kind\":\"Any\",\"default\":true},{\"name\":\"allow_drag\",\"kind\":\"Any\",\"default\":true},{\"name\":\"state\",\"kind\":\"Any\",\"default\":[]}]},{\"type\":\"model\",\"name\":\"drag1\",\"properties\":[{\"name\":\"slider_width\",\"kind\":\"Any\",\"default\":5},{\"name\":\"slider_color\",\"kind\":\"Any\",\"default\":\"black\"},{\"name\":\"value\",\"kind\":\"Any\",\"default\":50}]},{\"type\":\"model\",\"name\":\"click1\",\"properties\":[{\"name\":\"terminal_output\",\"kind\":\"Any\",\"default\":\"\"},{\"name\":\"debug_name\",\"kind\":\"Any\",\"default\":\"\"},{\"name\":\"clears\",\"kind\":\"Any\",\"default\":0}]},{\"type\":\"model\",\"name\":\"FastWrapper1\",\"properties\":[{\"name\":\"object\",\"kind\":\"Any\",\"default\":null},{\"name\":\"style\",\"kind\":\"Any\",\"default\":null}]},{\"type\":\"model\",\"name\":\"NotificationAreaBase1\",\"properties\":[{\"name\":\"position\",\"kind\":\"Any\",\"default\":\"bottom-right\"},{\"name\":\"_clear\",\"kind\":\"Any\",\"default\":0}]},{\"type\":\"model\",\"name\":\"NotificationArea1\",\"properties\":[{\"name\":\"notifications\",\"kind\":\"Any\",\"default\":[]},{\"name\":\"position\",\"kind\":\"Any\",\"default\":\"bottom-right\"},{\"name\":\"_clear\",\"kind\":\"Any\",\"default\":0},{\"name\":\"types\",\"kind\":\"Any\",\"default\":[{\"type\":\"map\",\"entries\":[[\"type\",\"warning\"],[\"background\",\"#ffc107\"],[\"icon\",{\"type\":\"map\",\"entries\":[[\"className\",\"fas fa-exclamation-triangle\"],[\"tagName\",\"i\"],[\"color\",\"white\"]]}]]},{\"type\":\"map\",\"entries\":[[\"type\",\"info\"],[\"background\",\"#007bff\"],[\"icon\",{\"type\":\"map\",\"entries\":[[\"className\",\"fas fa-info-circle\"],[\"tagName\",\"i\"],[\"color\",\"white\"]]}]]}]}]},{\"type\":\"model\",\"name\":\"Notification\",\"properties\":[{\"name\":\"background\",\"kind\":\"Any\",\"default\":null},{\"name\":\"duration\",\"kind\":\"Any\",\"default\":3000},{\"name\":\"icon\",\"kind\":\"Any\",\"default\":null},{\"name\":\"message\",\"kind\":\"Any\",\"default\":\"\"},{\"name\":\"notification_type\",\"kind\":\"Any\",\"default\":null},{\"name\":\"_destroyed\",\"kind\":\"Any\",\"default\":false}]},{\"type\":\"model\",\"name\":\"TemplateActions1\",\"properties\":[{\"name\":\"open_modal\",\"kind\":\"Any\",\"default\":0},{\"name\":\"close_modal\",\"kind\":\"Any\",\"default\":0}]},{\"type\":\"model\",\"name\":\"BootstrapTemplateActions1\",\"properties\":[{\"name\":\"open_modal\",\"kind\":\"Any\",\"default\":0},{\"name\":\"close_modal\",\"kind\":\"Any\",\"default\":0}]},{\"type\":\"model\",\"name\":\"MaterialTemplateActions1\",\"properties\":[{\"name\":\"open_modal\",\"kind\":\"Any\",\"default\":0},{\"name\":\"close_modal\",\"kind\":\"Any\",\"default\":0}]}],\"roots\":[{\"type\":\"object\",\"name\":\"Column\",\"id\":\"p1002\",\"attributes\":{\"name\":\"Column00815\",\"stylesheets\":[\"\\n:host(.pn-loading.pn-arc):before, .pn-loading.pn-arc:before {\\n  background-image: url(\\\"data:image/svg+xml;base64,PHN2ZyB4bWxucz0iaHR0cDovL3d3dy53My5vcmcvMjAwMC9zdmciIHN0eWxlPSJtYXJnaW46IGF1dG87IGJhY2tncm91bmQ6IG5vbmU7IGRpc3BsYXk6IGJsb2NrOyBzaGFwZS1yZW5kZXJpbmc6IGF1dG87IiB2aWV3Qm94PSIwIDAgMTAwIDEwMCIgcHJlc2VydmVBc3BlY3RSYXRpbz0ieE1pZFlNaWQiPiAgPGNpcmNsZSBjeD0iNTAiIGN5PSI1MCIgZmlsbD0ibm9uZSIgc3Ryb2tlPSIjYzNjM2MzIiBzdHJva2Utd2lkdGg9IjEwIiByPSIzNSIgc3Ryb2tlLWRhc2hhcnJheT0iMTY0LjkzMzYxNDMxMzQ2NDE1IDU2Ljk3Nzg3MTQzNzgyMTM4Ij4gICAgPGFuaW1hdGVUcmFuc2Zvcm0gYXR0cmlidXRlTmFtZT0idHJhbnNmb3JtIiB0eXBlPSJyb3RhdGUiIHJlcGVhdENvdW50PSJpbmRlZmluaXRlIiBkdXI9IjFzIiB2YWx1ZXM9IjAgNTAgNTA7MzYwIDUwIDUwIiBrZXlUaW1lcz0iMDsxIj48L2FuaW1hdGVUcmFuc2Zvcm0+ICA8L2NpcmNsZT48L3N2Zz4=\\\");\\n  background-size: auto calc(min(50%, 400px));\\n}\",{\"type\":\"object\",\"name\":\"ImportedStyleSheet\",\"id\":\"p1005\",\"attributes\":{\"url\":\"https://cdn.holoviz.org/panel/1.1.1/dist/css/loading.css\"}},{\"type\":\"object\",\"name\":\"ImportedStyleSheet\",\"id\":\"p1026\",\"attributes\":{\"url\":\"https://cdn.holoviz.org/panel/1.1.1/dist/css/listpanel.css\"}},{\"type\":\"object\",\"name\":\"ImportedStyleSheet\",\"id\":\"p1003\",\"attributes\":{\"url\":\"https://cdn.holoviz.org/panel/1.1.1/dist/bundled/theme/default.css\"}},{\"type\":\"object\",\"name\":\"ImportedStyleSheet\",\"id\":\"p1004\",\"attributes\":{\"url\":\"https://cdn.holoviz.org/panel/1.1.1/dist/bundled/theme/native.css\"}}],\"margin\":0,\"align\":\"start\",\"children\":[{\"type\":\"object\",\"name\":\"panel.models.markup.HTML\",\"id\":\"p1007\",\"attributes\":{\"css_classes\":[\"markdown\"],\"stylesheets\":[\"\\n:host(.pn-loading.pn-arc):before, .pn-loading.pn-arc:before {\\n  background-image: url(\\\"data:image/svg+xml;base64,PHN2ZyB4bWxucz0iaHR0cDovL3d3dy53My5vcmcvMjAwMC9zdmciIHN0eWxlPSJtYXJnaW46IGF1dG87IGJhY2tncm91bmQ6IG5vbmU7IGRpc3BsYXk6IGJsb2NrOyBzaGFwZS1yZW5kZXJpbmc6IGF1dG87IiB2aWV3Qm94PSIwIDAgMTAwIDEwMCIgcHJlc2VydmVBc3BlY3RSYXRpbz0ieE1pZFlNaWQiPiAgPGNpcmNsZSBjeD0iNTAiIGN5PSI1MCIgZmlsbD0ibm9uZSIgc3Ryb2tlPSIjYzNjM2MzIiBzdHJva2Utd2lkdGg9IjEwIiByPSIzNSIgc3Ryb2tlLWRhc2hhcnJheT0iMTY0LjkzMzYxNDMxMzQ2NDE1IDU2Ljk3Nzg3MTQzNzgyMTM4Ij4gICAgPGFuaW1hdGVUcmFuc2Zvcm0gYXR0cmlidXRlTmFtZT0idHJhbnNmb3JtIiB0eXBlPSJyb3RhdGUiIHJlcGVhdENvdW50PSJpbmRlZmluaXRlIiBkdXI9IjFzIiB2YWx1ZXM9IjAgNTAgNTA7MzYwIDUwIDUwIiBrZXlUaW1lcz0iMDsxIj48L2FuaW1hdGVUcmFuc2Zvcm0+ICA8L2NpcmNsZT48L3N2Zz4=\\\");\\n  background-size: auto calc(min(50%, 400px));\\n}\",{\"id\":\"p1005\"},{\"type\":\"object\",\"name\":\"ImportedStyleSheet\",\"id\":\"p1006\",\"attributes\":{\"url\":\"https://cdn.holoviz.org/panel/1.1.1/dist/css/markdown.css\"}},{\"id\":\"p1003\"},{\"id\":\"p1004\"}],\"margin\":[5,10],\"align\":\"start\",\"text\":\"&lt;h1 id=&quot;profil-dentreprise&quot;&gt;Profil d&#x27;entreprise &lt;a class=&quot;header-anchor&quot; href=&quot;#profil-dentreprise&quot;&gt;\\u00b6&lt;/a&gt;&lt;/h1&gt;\\n\"}},{\"type\":\"object\",\"name\":\"Column\",\"id\":\"p1008\",\"attributes\":{\"name\":\"Column00806\",\"stylesheets\":[\"\\n:host(.pn-loading.pn-arc):before, .pn-loading.pn-arc:before {\\n  background-image: url(\\\"data:image/svg+xml;base64,PHN2ZyB4bWxucz0iaHR0cDovL3d3dy53My5vcmcvMjAwMC9zdmciIHN0eWxlPSJtYXJnaW46IGF1dG87IGJhY2tncm91bmQ6IG5vbmU7IGRpc3BsYXk6IGJsb2NrOyBzaGFwZS1yZW5kZXJpbmc6IGF1dG87IiB2aWV3Qm94PSIwIDAgMTAwIDEwMCIgcHJlc2VydmVBc3BlY3RSYXRpbz0ieE1pZFlNaWQiPiAgPGNpcmNsZSBjeD0iNTAiIGN5PSI1MCIgZmlsbD0ibm9uZSIgc3Ryb2tlPSIjYzNjM2MzIiBzdHJva2Utd2lkdGg9IjEwIiByPSIzNSIgc3Ryb2tlLWRhc2hhcnJheT0iMTY0LjkzMzYxNDMxMzQ2NDE1IDU2Ljk3Nzg3MTQzNzgyMTM4Ij4gICAgPGFuaW1hdGVUcmFuc2Zvcm0gYXR0cmlidXRlTmFtZT0idHJhbnNmb3JtIiB0eXBlPSJyb3RhdGUiIHJlcGVhdENvdW50PSJpbmRlZmluaXRlIiBkdXI9IjFzIiB2YWx1ZXM9IjAgNTAgNTA7MzYwIDUwIDUwIiBrZXlUaW1lcz0iMDsxIj48L2FuaW1hdGVUcmFuc2Zvcm0+ICA8L2NpcmNsZT48L3N2Zz4=\\\");\\n  background-size: auto calc(min(50%, 400px));\\n}\",{\"id\":\"p1005\"},{\"id\":\"p1026\"},{\"id\":\"p1003\"},{\"id\":\"p1004\"}],\"margin\":0,\"align\":\"start\",\"children\":[{\"type\":\"object\",\"name\":\"panel.models.widgets.CustomSelect\",\"id\":\"p1011\",\"attributes\":{\"stylesheets\":[\"\\n:host(.pn-loading.pn-arc):before, .pn-loading.pn-arc:before {\\n  background-image: url(\\\"data:image/svg+xml;base64,PHN2ZyB4bWxucz0iaHR0cDovL3d3dy53My5vcmcvMjAwMC9zdmciIHN0eWxlPSJtYXJnaW46IGF1dG87IGJhY2tncm91bmQ6IG5vbmU7IGRpc3BsYXk6IGJsb2NrOyBzaGFwZS1yZW5kZXJpbmc6IGF1dG87IiB2aWV3Qm94PSIwIDAgMTAwIDEwMCIgcHJlc2VydmVBc3BlY3RSYXRpbz0ieE1pZFlNaWQiPiAgPGNpcmNsZSBjeD0iNTAiIGN5PSI1MCIgZmlsbD0ibm9uZSIgc3Ryb2tlPSIjYzNjM2MzIiBzdHJva2Utd2lkdGg9IjEwIiByPSIzNSIgc3Ryb2tlLWRhc2hhcnJheT0iMTY0LjkzMzYxNDMxMzQ2NDE1IDU2Ljk3Nzg3MTQzNzgyMTM4Ij4gICAgPGFuaW1hdGVUcmFuc2Zvcm0gYXR0cmlidXRlTmFtZT0idHJhbnNmb3JtIiB0eXBlPSJyb3RhdGUiIHJlcGVhdENvdW50PSJpbmRlZmluaXRlIiBkdXI9IjFzIiB2YWx1ZXM9IjAgNTAgNTA7MzYwIDUwIDUwIiBrZXlUaW1lcz0iMDsxIj48L2FuaW1hdGVUcmFuc2Zvcm0+ICA8L2NpcmNsZT48L3N2Zz4=\\\");\\n  background-size: auto calc(min(50%, 400px));\\n}\",{\"id\":\"p1005\"},{\"type\":\"object\",\"name\":\"ImportedStyleSheet\",\"id\":\"p1010\",\"attributes\":{\"url\":\"https://cdn.holoviz.org/panel/1.1.1/dist/css/select.css\"}},{\"id\":\"p1003\"},{\"id\":\"p1004\"}],\"width\":300,\"min_width\":300,\"margin\":[5,10],\"align\":\"start\",\"title\":\"Pays de l'entreprise\",\"options\":[\"Liberia\",\"Afrique du Sud\",\"Namibie\",\"Tanzanie\",\"Mozambique\"],\"value\":\"Liberia\"}},{\"type\":\"object\",\"name\":\"panel.models.widgets.CustomSelect\",\"id\":\"p1014\",\"attributes\":{\"stylesheets\":[\"\\n:host(.pn-loading.pn-arc):before, .pn-loading.pn-arc:before {\\n  background-image: url(\\\"data:image/svg+xml;base64,PHN2ZyB4bWxucz0iaHR0cDovL3d3dy53My5vcmcvMjAwMC9zdmciIHN0eWxlPSJtYXJnaW46IGF1dG87IGJhY2tncm91bmQ6IG5vbmU7IGRpc3BsYXk6IGJsb2NrOyBzaGFwZS1yZW5kZXJpbmc6IGF1dG87IiB2aWV3Qm94PSIwIDAgMTAwIDEwMCIgcHJlc2VydmVBc3BlY3RSYXRpbz0ieE1pZFlNaWQiPiAgPGNpcmNsZSBjeD0iNTAiIGN5PSI1MCIgZmlsbD0ibm9uZSIgc3Ryb2tlPSIjYzNjM2MzIiBzdHJva2Utd2lkdGg9IjEwIiByPSIzNSIgc3Ryb2tlLWRhc2hhcnJheT0iMTY0LjkzMzYxNDMxMzQ2NDE1IDU2Ljk3Nzg3MTQzNzgyMTM4Ij4gICAgPGFuaW1hdGVUcmFuc2Zvcm0gYXR0cmlidXRlTmFtZT0idHJhbnNmb3JtIiB0eXBlPSJyb3RhdGUiIHJlcGVhdENvdW50PSJpbmRlZmluaXRlIiBkdXI9IjFzIiB2YWx1ZXM9IjAgNTAgNTA7MzYwIDUwIDUwIiBrZXlUaW1lcz0iMDsxIj48L2FuaW1hdGVUcmFuc2Zvcm0+ICA8L2NpcmNsZT48L3N2Zz4=\\\");\\n  background-size: auto calc(min(50%, 400px));\\n}\",{\"id\":\"p1005\"},{\"id\":\"p1010\"},{\"id\":\"p1003\"},{\"id\":\"p1004\"}],\"width\":300,\"min_width\":300,\"margin\":[5,10],\"align\":\"start\",\"title\":\"Secteur d'activit\\u00e9\",\"options\":[\"Agriculture\",\"Banque/assurance\",\"Industrie\",\"Services m\\u00e9dicaux\"],\"value\":\"Agriculture\"}},{\"type\":\"object\",\"name\":\"panel.models.widgets.CustomSelect\",\"id\":\"p1017\",\"attributes\":{\"stylesheets\":[\"\\n:host(.pn-loading.pn-arc):before, .pn-loading.pn-arc:before {\\n  background-image: url(\\\"data:image/svg+xml;base64,PHN2ZyB4bWxucz0iaHR0cDovL3d3dy53My5vcmcvMjAwMC9zdmciIHN0eWxlPSJtYXJnaW46IGF1dG87IGJhY2tncm91bmQ6IG5vbmU7IGRpc3BsYXk6IGJsb2NrOyBzaGFwZS1yZW5kZXJpbmc6IGF1dG87IiB2aWV3Qm94PSIwIDAgMTAwIDEwMCIgcHJlc2VydmVBc3BlY3RSYXRpbz0ieE1pZFlNaWQiPiAgPGNpcmNsZSBjeD0iNTAiIGN5PSI1MCIgZmlsbD0ibm9uZSIgc3Ryb2tlPSIjYzNjM2MzIiBzdHJva2Utd2lkdGg9IjEwIiByPSIzNSIgc3Ryb2tlLWRhc2hhcnJheT0iMTY0LjkzMzYxNDMxMzQ2NDE1IDU2Ljk3Nzg3MTQzNzgyMTM4Ij4gICAgPGFuaW1hdGVUcmFuc2Zvcm0gYXR0cmlidXRlTmFtZT0idHJhbnNmb3JtIiB0eXBlPSJyb3RhdGUiIHJlcGVhdENvdW50PSJpbmRlZmluaXRlIiBkdXI9IjFzIiB2YWx1ZXM9IjAgNTAgNTA7MzYwIDUwIDUwIiBrZXlUaW1lcz0iMDsxIj48L2FuaW1hdGVUcmFuc2Zvcm0+ICA8L2NpcmNsZT48L3N2Zz4=\\\");\\n  background-size: auto calc(min(50%, 400px));\\n}\",{\"id\":\"p1005\"},{\"id\":\"p1010\"},{\"id\":\"p1003\"},{\"id\":\"p1004\"}],\"width\":300,\"min_width\":300,\"margin\":[5,10],\"align\":\"start\",\"title\":\"Nombre d'employ\\u00e9s de l'entreprise\",\"options\":[\"<10\",\"10-49\",\"50-250\",\">250\"],\"value\":\"<10\"}},{\"type\":\"object\",\"name\":\"Spinner\",\"id\":\"p1019\",\"attributes\":{\"stylesheets\":[\"\\n:host(.pn-loading.pn-arc):before, .pn-loading.pn-arc:before {\\n  background-image: url(\\\"data:image/svg+xml;base64,PHN2ZyB4bWxucz0iaHR0cDovL3d3dy53My5vcmcvMjAwMC9zdmciIHN0eWxlPSJtYXJnaW46IGF1dG87IGJhY2tncm91bmQ6IG5vbmU7IGRpc3BsYXk6IGJsb2NrOyBzaGFwZS1yZW5kZXJpbmc6IGF1dG87IiB2aWV3Qm94PSIwIDAgMTAwIDEwMCIgcHJlc2VydmVBc3BlY3RSYXRpbz0ieE1pZFlNaWQiPiAgPGNpcmNsZSBjeD0iNTAiIGN5PSI1MCIgZmlsbD0ibm9uZSIgc3Ryb2tlPSIjYzNjM2MzIiBzdHJva2Utd2lkdGg9IjEwIiByPSIzNSIgc3Ryb2tlLWRhc2hhcnJheT0iMTY0LjkzMzYxNDMxMzQ2NDE1IDU2Ljk3Nzg3MTQzNzgyMTM4Ij4gICAgPGFuaW1hdGVUcmFuc2Zvcm0gYXR0cmlidXRlTmFtZT0idHJhbnNmb3JtIiB0eXBlPSJyb3RhdGUiIHJlcGVhdENvdW50PSJpbmRlZmluaXRlIiBkdXI9IjFzIiB2YWx1ZXM9IjAgNTAgNTA7MzYwIDUwIDUwIiBrZXlUaW1lcz0iMDsxIj48L2FuaW1hdGVUcmFuc2Zvcm0+ICA8L2NpcmNsZT48L3N2Zz4=\\\");\\n  background-size: auto calc(min(50%, 400px));\\n}\",{\"id\":\"p1005\"},{\"id\":\"p1003\"},{\"id\":\"p1004\"}],\"width\":300,\"min_width\":300,\"margin\":[5,10],\"align\":\"start\",\"title\":\"CA de l'entreprise (Rappel : <10 employ\\u00e9s, <2 millions de CA ; 10-50 employ\\u00e9s, 2-25 millions; 50-250 employ\\u00e9s, 25-50 millions et >250, >50 millions)\",\"value\":0,\"placeholder\":\"0\",\"mode\":\"int\"}},{\"type\":\"object\",\"name\":\"panel.models.widgets.CustomSelect\",\"id\":\"p1022\",\"attributes\":{\"stylesheets\":[\"\\n:host(.pn-loading.pn-arc):before, .pn-loading.pn-arc:before {\\n  background-image: url(\\\"data:image/svg+xml;base64,PHN2ZyB4bWxucz0iaHR0cDovL3d3dy53My5vcmcvMjAwMC9zdmciIHN0eWxlPSJtYXJnaW46IGF1dG87IGJhY2tncm91bmQ6IG5vbmU7IGRpc3BsYXk6IGJsb2NrOyBzaGFwZS1yZW5kZXJpbmc6IGF1dG87IiB2aWV3Qm94PSIwIDAgMTAwIDEwMCIgcHJlc2VydmVBc3BlY3RSYXRpbz0ieE1pZFlNaWQiPiAgPGNpcmNsZSBjeD0iNTAiIGN5PSI1MCIgZmlsbD0ibm9uZSIgc3Ryb2tlPSIjYzNjM2MzIiBzdHJva2Utd2lkdGg9IjEwIiByPSIzNSIgc3Ryb2tlLWRhc2hhcnJheT0iMTY0LjkzMzYxNDMxMzQ2NDE1IDU2Ljk3Nzg3MTQzNzgyMTM4Ij4gICAgPGFuaW1hdGVUcmFuc2Zvcm0gYXR0cmlidXRlTmFtZT0idHJhbnNmb3JtIiB0eXBlPSJyb3RhdGUiIHJlcGVhdENvdW50PSJpbmRlZmluaXRlIiBkdXI9IjFzIiB2YWx1ZXM9IjAgNTAgNTA7MzYwIDUwIDUwIiBrZXlUaW1lcz0iMDsxIj48L2FuaW1hdGVUcmFuc2Zvcm0+ICA8L2NpcmNsZT48L3N2Zz4=\\\");\\n  background-size: auto calc(min(50%, 400px));\\n}\",{\"id\":\"p1005\"},{\"id\":\"p1010\"},{\"id\":\"p1003\"},{\"id\":\"p1004\"}],\"width\":300,\"min_width\":300,\"margin\":[5,10],\"align\":\"start\",\"title\":\"R\\u00e9seau SI de l'entreprise\",\"options\":[\"D\\u00e9butante\",\"Correct\",\"Avanc\\u00e9\"],\"value\":\"D\\u00e9butante\"}},{\"type\":\"object\",\"name\":\"Spinner\",\"id\":\"p1024\",\"attributes\":{\"stylesheets\":[\"\\n:host(.pn-loading.pn-arc):before, .pn-loading.pn-arc:before {\\n  background-image: url(\\\"data:image/svg+xml;base64,PHN2ZyB4bWxucz0iaHR0cDovL3d3dy53My5vcmcvMjAwMC9zdmciIHN0eWxlPSJtYXJnaW46IGF1dG87IGJhY2tncm91bmQ6IG5vbmU7IGRpc3BsYXk6IGJsb2NrOyBzaGFwZS1yZW5kZXJpbmc6IGF1dG87IiB2aWV3Qm94PSIwIDAgMTAwIDEwMCIgcHJlc2VydmVBc3BlY3RSYXRpbz0ieE1pZFlNaWQiPiAgPGNpcmNsZSBjeD0iNTAiIGN5PSI1MCIgZmlsbD0ibm9uZSIgc3Ryb2tlPSIjYzNjM2MzIiBzdHJva2Utd2lkdGg9IjEwIiByPSIzNSIgc3Ryb2tlLWRhc2hhcnJheT0iMTY0LjkzMzYxNDMxMzQ2NDE1IDU2Ljk3Nzg3MTQzNzgyMTM4Ij4gICAgPGFuaW1hdGVUcmFuc2Zvcm0gYXR0cmlidXRlTmFtZT0idHJhbnNmb3JtIiB0eXBlPSJyb3RhdGUiIHJlcGVhdENvdW50PSJpbmRlZmluaXRlIiBkdXI9IjFzIiB2YWx1ZXM9IjAgNTAgNTA7MzYwIDUwIDUwIiBrZXlUaW1lcz0iMDsxIj48L2FuaW1hdGVUcmFuc2Zvcm0+ICA8L2NpcmNsZT48L3N2Zz4=\\\");\\n  background-size: auto calc(min(50%, 400px));\\n}\",{\"id\":\"p1005\"},{\"id\":\"p1003\"},{\"id\":\"p1004\"}],\"width\":300,\"min_width\":300,\"margin\":[5,10],\"align\":\"start\",\"title\":\"Age moyen des salari\\u00e9s\",\"value\":0,\"placeholder\":\"0\",\"mode\":\"int\"}}]}}]}},{\"type\":\"object\",\"name\":\"panel.models.comm_manager.CommManager\",\"id\":\"p1029\",\"attributes\":{\"plot_id\":\"p1002\",\"comm_id\":\"0254774bc6614cb5903cbcf8df3494e5\",\"client_comm_id\":\"34ff981d0ed14a8383b6bc72426d0cf3\"}},{\"type\":\"object\",\"name\":\"panel.models.location.Location\",\"id\":\"p1030\",\"attributes\":{\"reload\":false}}],\"callbacks\":{\"type\":\"map\"}}};\n",
       "  var render_items = [{\"docid\":\"f0449725-c67d-4222-acd4-c68376691aba\",\"roots\":{\"p1002\":\"d2b289e6-59e4-4410-bd08-6519b3dc2dc9\"},\"root_ids\":[\"p1002\"]}];\n",
       "  var docs = Object.values(docs_json)\n",
       "  if (!docs) {\n",
       "    return\n",
       "  }\n",
       "  const py_version = docs[0].version.replace('rc', '-rc.').replace('.dev', '-dev.')\n",
       "  const is_dev = py_version.indexOf(\"+\") !== -1 || py_version.indexOf(\"-\") !== -1\n",
       "  function embed_document(root) {\n",
       "    var Bokeh = get_bokeh(root)\n",
       "    Bokeh.embed.embed_items_notebook(docs_json, render_items);\n",
       "    for (const render_item of render_items) {\n",
       "      for (const root_id of render_item.root_ids) {\n",
       "\tconst id_el = document.getElementById(root_id)\n",
       "\tif (id_el.children.length && (id_el.children[0].className === 'bk-root')) {\n",
       "\t  const root_el = id_el.children[0]\n",
       "\t  root_el.id = root_el.id + '-rendered'\n",
       "\t}\n",
       "      }\n",
       "    }\n",
       "  }\n",
       "  function get_bokeh(root) {\n",
       "    if (root.Bokeh === undefined) {\n",
       "      return null\n",
       "    } else if (root.Bokeh.version !== py_version && !is_dev) {\n",
       "      if (root.Bokeh.versions === undefined || !root.Bokeh.versions.has(py_version)) {\n",
       "\treturn null\n",
       "      }\n",
       "      return root.Bokeh.versions.get(py_version);\n",
       "    } else if (root.Bokeh.version === py_version) {\n",
       "      return root.Bokeh\n",
       "    }\n",
       "    return null\n",
       "  }\n",
       "  function is_loaded(root) {\n",
       "    var Bokeh = get_bokeh(root)\n",
       "    return (Bokeh != null && Bokeh.Panel !== undefined)\n",
       "  }\n",
       "  if (is_loaded(root)) {\n",
       "    embed_document(root);\n",
       "  } else {\n",
       "    var attempts = 0;\n",
       "    var timer = setInterval(function(root) {\n",
       "      if (is_loaded(root)) {\n",
       "        clearInterval(timer);\n",
       "        embed_document(root);\n",
       "      } else if (document.readyState == \"complete\") {\n",
       "        attempts++;\n",
       "        if (attempts > 200) {\n",
       "          clearInterval(timer);\n",
       "\t  var Bokeh = get_bokeh(root)\n",
       "\t  if (Bokeh == null || Bokeh.Panel == null) {\n",
       "            console.warn(\"Panel: ERROR: Unable to run Panel code because Bokeh or Panel library is missing\");\n",
       "\t  } else {\n",
       "\t    console.warn(\"Panel: WARNING: Attempting to render but not all required libraries could be resolved.\")\n",
       "\t    embed_document(root)\n",
       "\t  }\n",
       "        }\n",
       "      }\n",
       "    }, 25, root)\n",
       "  }\n",
       "})(window);</script>"
      ],
      "text/plain": [
       "Column\n",
       "    [0] Markdown(str)\n",
       "    [1] Column\n",
       "        [0] Select(name=\"Pays de l'entreprise\", options=['Liberia', 'Afrique du Su...], value='Liberia')\n",
       "        [1] Select(name=\"Secteur d'activité\", options=['Agriculture', ...], value='Agriculture')\n",
       "        [2] Select(name=\"Nombre d'employés d..., options=['<10', '10-49', ...], value='<10')\n",
       "        [3] IntInput(name=\"CA de l'entreprise (Rappe...)\n",
       "        [4] Select(name=\"Réseau SI de l..., options=['Débutante', ...], value='Débutante')\n",
       "        [5] IntInput(name='Age moyen des salariés')"
      ]
     },
     "execution_count": 2,
     "metadata": {
      "application/vnd.holoviews_exec.v0+json": {
       "id": "p1002"
      }
     },
     "output_type": "execute_result"
    }
   ],
   "source": [
    "pays_entreprise = pn.widgets.Select(name='Pays de l\\'entreprise', options=['Liberia','Afrique du Sud','Namibie','Tanzanie','Mozambique'])\n",
    "secteur_activite = pn.widgets.Select(name='Secteur d\\'activité', options=['Agriculture', 'Banque/assurance', 'Industrie','Services médicaux'])\n",
    "taille_entreprise = pn.widgets.Select(name='Nombre d\\'employés de l\\'entreprise', options=['<10','10-49','50-250','>250'])\n",
    "CA_entreprise = pn.widgets.IntInput(name='CA de l\\'entreprise (Rappel : <10 employés, <2 millions de CA ; 10-50 employés, 2-25 millions; 50-250 employés, 25-50 millions et >250, >50 millions)', value=0)\n",
    "reseauSI_entreprise = pn.widgets.Select(name='Réseau SI de l\\'entreprise', options=['Débutante','Correct','Avancé']) # taille du réseau SI\n",
    "age_entreprise = pn.widgets.IntInput(name='Age moyen des salariés', value=0)\n",
    "\n",
    "\n",
    "pays = None\n",
    "secteur = None\n",
    "taille = None\n",
    "CA = None\n",
    "dev = None\n",
    "age = None\n",
    "\n",
    "def update_pays(event):\n",
    "    global pays\n",
    "    pays = event.new\n",
    "\n",
    "def update_secteur(event):\n",
    "    global secteur\n",
    "    secteur = event.new\n",
    "\n",
    "def update_taille(event):\n",
    "    global taille\n",
    "    taille = event.new\n",
    "\n",
    "def update_CA(event):\n",
    "    global CA \n",
    "    CA=event.new\n",
    "    \n",
    "def update_dev(event):\n",
    "    global dev\n",
    "    dev = event.new\n",
    "\n",
    "def update_age(event): \n",
    "    global age\n",
    "    age = event.new\n",
    "    \n",
    "    \n",
    "pays_entreprise.param.watch(update_pays, 'value')\n",
    "secteur_activite.param.watch(update_secteur, 'value')\n",
    "taille_entreprise.param.watch(update_taille, 'value')\n",
    "CA_entreprise.param.watch(update_CA,'value')\n",
    "reseauSI_entreprise.param.watch(update_dev,'value')\n",
    "age_entreprise.param.watch(update_age,'value')\n",
    "\n",
    "\n",
    "dashboard_layout = pn.Column(\n",
    "    '# Profil d\\'entreprise',\n",
    "    pn.Column(pays_entreprise, secteur_activite, taille_entreprise,CA_entreprise,reseauSI_entreprise, age_entreprise)\n",
    ")\n",
    "\n",
    "dashboard_layout.servable()"
   ]
  },
  {
   "cell_type": "code",
   "execution_count": 202,
   "id": "9c00b5bd",
   "metadata": {},
   "outputs": [
    {
     "data": {
      "text/plain": [
       "['Tanzanie', 'Industrie', '>250', 56000000, 'Correct', 35]"
      ]
     },
     "execution_count": 202,
     "metadata": {},
     "output_type": "execute_result"
    }
   ],
   "source": [
    "# on affiche le profil de l'entreprise\n",
    "Profil_entreprise_1 = [pays,secteur,taille,CA,dev,age]\n",
    "Profil_entreprise_1"
   ]
  },
  {
   "cell_type": "markdown",
   "id": "938e3c0b",
   "metadata": {},
   "source": [
    "### Caractéristique salaire moyen par entreprise <a class=\"anchor\" id=\"caracteristique-salaire\"></a>\n"
   ]
  },
  {
   "cell_type": "markdown",
   "id": "a07d8a85",
   "metadata": {},
   "source": [
    "On calcule le salaire moyen des employés en fonction du pays et du secteur de l'entreprise. ATTENTION, cette caractéristique n'intervient que dans le calcul du coût des pertes, mais on l'ajoute directement au profil de l'entreprise.\n",
    "\n",
    "Source : https://bdeex.com/fr/liberia/?type=production"
   ]
  },
  {
   "cell_type": "code",
   "execution_count": 97,
   "id": "0afe2955",
   "metadata": {},
   "outputs": [
    {
     "data": {
      "text/html": [
       "<div>\n",
       "<style scoped>\n",
       "    .dataframe tbody tr th:only-of-type {\n",
       "        vertical-align: middle;\n",
       "    }\n",
       "\n",
       "    .dataframe tbody tr th {\n",
       "        vertical-align: top;\n",
       "    }\n",
       "\n",
       "    .dataframe thead th {\n",
       "        text-align: right;\n",
       "    }\n",
       "</style>\n",
       "<table border=\"1\" class=\"dataframe\">\n",
       "  <thead>\n",
       "    <tr style=\"text-align: right;\">\n",
       "      <th></th>\n",
       "      <th>Liberia</th>\n",
       "      <th>Afrique du Sud</th>\n",
       "      <th>Namibie</th>\n",
       "      <th>Tanzanie</th>\n",
       "      <th>Mozambique</th>\n",
       "    </tr>\n",
       "    <tr>\n",
       "      <th>Pays /secteur</th>\n",
       "      <th></th>\n",
       "      <th></th>\n",
       "      <th></th>\n",
       "      <th></th>\n",
       "      <th></th>\n",
       "    </tr>\n",
       "  </thead>\n",
       "  <tbody>\n",
       "    <tr>\n",
       "      <th>Agriculture</th>\n",
       "      <td>45</td>\n",
       "      <td>500</td>\n",
       "      <td>100</td>\n",
       "      <td>140</td>\n",
       "      <td>65</td>\n",
       "    </tr>\n",
       "    <tr>\n",
       "      <th>Banque/Assurance</th>\n",
       "      <td>82</td>\n",
       "      <td>1000</td>\n",
       "      <td>200</td>\n",
       "      <td>300</td>\n",
       "      <td>280</td>\n",
       "    </tr>\n",
       "    <tr>\n",
       "      <th>Industrie</th>\n",
       "      <td>48</td>\n",
       "      <td>750</td>\n",
       "      <td>120</td>\n",
       "      <td>160</td>\n",
       "      <td>270</td>\n",
       "    </tr>\n",
       "    <tr>\n",
       "      <th>Services médicaux</th>\n",
       "      <td>53</td>\n",
       "      <td>900</td>\n",
       "      <td>170</td>\n",
       "      <td>190</td>\n",
       "      <td>330</td>\n",
       "    </tr>\n",
       "  </tbody>\n",
       "</table>\n",
       "</div>"
      ],
      "text/plain": [
       "                   Liberia  Afrique du Sud  Namibie  Tanzanie  Mozambique\n",
       "Pays /secteur                                                            \n",
       "Agriculture             45             500      100       140          65\n",
       "Banque/Assurance        82            1000      200       300         280\n",
       "Industrie               48             750      120       160         270\n",
       "Services médicaux       53             900      170       190         330"
      ]
     },
     "execution_count": 97,
     "metadata": {},
     "output_type": "execute_result"
    }
   ],
   "source": [
    "salairemoyen = pd.read_excel('salairemoyen.xlsx', index_col=0)\n",
    "salairemoyen"
   ]
  },
  {
   "cell_type": "code",
   "execution_count": 98,
   "id": "8a0dfca6",
   "metadata": {},
   "outputs": [],
   "source": [
    "def calcul_salaire(profil_entreprise, salairemoyen):\n",
    "    correspondances = {\n",
    "        'Liberia': {\n",
    "            'Agriculture': 'Agriculture',\n",
    "            'Banque/assurance': 'Banque/Assurance',\n",
    "            'Industrie': 'Industrie',\n",
    "            'Services médicaux': 'Services médicaux'\n",
    "        },\n",
    "        'Afrique du Sud': {\n",
    "            'Agriculture': 'Agriculture',\n",
    "            'Banque/assurance': 'Banque/Assurance',\n",
    "            'Industrie': 'Industrie',\n",
    "            'Services médicaux': 'Services médicaux'\n",
    "        },\n",
    "        'Namibie': {\n",
    "            'Agriculture': 'Agriculture',\n",
    "            'Banque/assurance': 'Banque/Assurance',\n",
    "            'Industrie': 'Industrie',\n",
    "            'Services médicaux': 'Services médicaux'\n",
    "        },\n",
    "        'Tanzanie': {\n",
    "            'Agriculture': 'Agriculture',\n",
    "            'Banque/assurance': 'Banque/Assurance',\n",
    "            'Industrie': 'Industrie',\n",
    "            'Services médicaux': 'Services médicaux'\n",
    "        },\n",
    "        'Mozambique': {\n",
    "            'Agriculture': 'Agriculture',\n",
    "            'Banque/assurance': 'Banque/Assurance',\n",
    "            'Industrie': 'Industrie',\n",
    "            'Services médicaux': 'Services médicaux'\n",
    "        }\n",
    "    }\n",
    "\n",
    "    pays = profil_entreprise[0]\n",
    "    secteur = profil_entreprise[1]\n",
    "\n",
    "    if pays in correspondances and secteur in correspondances[pays]:\n",
    "        salaire_moyen = salairemoyen.loc[correspondances[pays][secteur], pays]\n",
    "    else:\n",
    "        salaire_moyen = 0\n",
    "\n",
    "    return salaire_moyen"
   ]
  },
  {
   "cell_type": "code",
   "execution_count": 203,
   "id": "d239c30e",
   "metadata": {},
   "outputs": [],
   "source": [
    "# on ajoute le salaire moyen au profil de l'entreprise\n",
    "Profil_entreprise_1.append(calcul_salaire(Profil_entreprise_1,salairemoyen))"
   ]
  },
  {
   "cell_type": "code",
   "execution_count": 100,
   "id": "7de2f14c",
   "metadata": {},
   "outputs": [
    {
     "data": {
      "text/plain": [
       "['Tanzanie', 'Industrie', '>250', 56000000, 'Correct', 35, 160]"
      ]
     },
     "execution_count": 100,
     "metadata": {},
     "output_type": "execute_result"
    }
   ],
   "source": [
    "Profil_entreprise_1"
   ]
  },
  {
   "cell_type": "markdown",
   "id": "3456967d",
   "metadata": {},
   "source": [
    "### Caractéristique Pays - Donnée constante à l'entreprise / ne dépend pas de l'attaque <a class=\"anchor\" id=\"pays\"></a>"
   ]
  },
  {
   "cell_type": "markdown",
   "id": "ab12caf2",
   "metadata": {},
   "source": [
    "La prévalence d'une attaque cyber (non spécifique) n'est pas la même suivant les pays. En effet, les pays n'ayant aucune mesure pour prévenir ou contrer le risque cyber sont une proie encore plus facile pour les attaquants."
   ]
  },
  {
   "cell_type": "markdown",
   "id": "7f25f758",
   "metadata": {},
   "source": [
    "Source : https://cybersecuritymag.africa/global-cybersecurity-index-2020-classement-pays-africains"
   ]
  },
  {
   "cell_type": "markdown",
   "id": "da056631",
   "metadata": {},
   "source": [
    "La Global Cybersecurity Index mesure l’engagement et les mesures prises par les États pour améliorer la cybersécurité. Cette mesure consiste à faire une cartographie des réponses à 82 questions qui couvrent cinq piliers que sont : les mesures légales, les mesures techniques, les mesures organisationnelles, les mesures de développement de capacité et les mesures de coopération. Pour l'édition 2020, les données de 194 États ont été prises en compte dont 43 pays africains. \n",
    "\n",
    "On utilise directement le score calculé par la Global Cybersecurity."
   ]
  },
  {
   "cell_type": "markdown",
   "id": "599ed2b8",
   "metadata": {},
   "source": [
    "L'indice mondial de cybersécurité (GCI) est un indice composite d'indicateurs, évoluant à chaque itération, qui suit le niveau d'engagement en matière de cybersécurité dans les cinq piliers de la stratégie mondiale de cybersécurité. \n",
    "itération, qui permet de suivre le niveau d'engagement en matière de cybersécurité dans les cinq piliers de l'Agenda mondial de la cybersécurité (AMC). \n",
    "Les principaux objectifs de l'indice sont de mesurer\n",
    "- le type, le niveau et l'évolution dans le temps de l'engagement en faveur de la cybersécurité au sein des pays et \n",
    "pays et par rapport à d'autres pays.\n",
    "- les progrès réalisés par les pays en matière d'engagement en faveur de la cybersécurité dans une perspective mondiale.\n",
    "- les progrès de l'engagement en faveur de la cybersécurité d'un point de vue régional\n",
    "- la fracture de l'engagement en faveur de la cybersécurité (c'est-à-dire la différence entre les pays en ce qui concerne \n",
    "leur niveau d'engagement dans les initiatives de cybersécurité).\n",
    "\n",
    "\n",
    "L'objectif de l'ICG est d'aider les pays à identifier les domaines à améliorer dans le domaine de la \n",
    "cybersécurité et de les encourager à prendre des mesures dans ce sens. Ce serait également \n",
    "l'occasion de contribuer à élever le niveau général d'engagement en matière de cybersécurité dans le monde, \n",
    "harmoniser les pratiques et favoriser une culture mondiale de la cybersécurité. L'ICG vise à illustrer \n",
    "exemples de réussite en matière de cybersécurité qui pourraient servir de bonnes pratiques et de lignes directrices pour les pays ayant un environnement national similaire. \n",
    "pays dont l'environnement national est similaire."
   ]
  },
  {
   "cell_type": "markdown",
   "id": "ebc158a9",
   "metadata": {},
   "source": [
    "Le questionnaire utilisé pour l'AGC fournit une valeur pour les 20 indicateurs construits à travers \n",
    "82 questions. Cela permet d'atteindre le niveau de granularité requis et d'améliorer la précision et la qualité des réponses. \n",
    "la précision et la qualité des réponses. Les indicateurs figurent dans le questionnaire de l'AGC (annexe B).\n",
    "Les indicateurs utilisés pour calculer l'ICS ont été sélectionnés sur la base des critères suivants\n",
    "- la pertinence par rapport aux cinq piliers de l'AGC ;\n",
    "- la pertinence par rapport aux principaux objectifs et au cadre conceptuel de l'ICS ;\n",
    "- la disponibilité et la qualité des données ; et,\n",
    "- la possibilité d'une vérification croisée à l'aide de données secondaires.\n",
    "\n",
    "Les groupes d'indicateurs ont été agrégés en utilisant des moyennes arithmétiques pondérées. Cela signifie qu'un \n",
    "Cela signifie qu'un pays obtenant un mauvais score dans un domaine peut récupérer une partie de son score en obtenant de bons résultats dans d'autres domaines.\n",
    "Comme l'indique le manuel de l'OCDE sur les indices composites, \"l'utilité marginale d'une augmentation \n",
    "d'un score absolu faible serait beaucoup plus élevée que celle d'un score absolu élevé dans le cadre de l'agrégation géométrique. \n",
    "géométrique. Par conséquent, un pays serait fortement incité à s'intéresser aux secteurs/activités/alternatives dont le score est faible.\n",
    "activités/alternatives à faible score si l'agrégation était géométrique plutôt que linéaire\" (33). \n",
    "Toutefois, dans un souci de clarté et de compréhension, une approche linéaire a été jugée plus \n",
    "compréhensible et actionnable"
   ]
  },
  {
   "cell_type": "code",
   "execution_count": 101,
   "id": "61068b67",
   "metadata": {},
   "outputs": [
    {
     "data": {
      "text/html": [
       "<div>\n",
       "<style scoped>\n",
       "    .dataframe tbody tr th:only-of-type {\n",
       "        vertical-align: middle;\n",
       "    }\n",
       "\n",
       "    .dataframe tbody tr th {\n",
       "        vertical-align: top;\n",
       "    }\n",
       "\n",
       "    .dataframe thead th {\n",
       "        text-align: right;\n",
       "    }\n",
       "</style>\n",
       "<table border=\"1\" class=\"dataframe\">\n",
       "  <thead>\n",
       "    <tr style=\"text-align: right;\">\n",
       "      <th></th>\n",
       "      <th>Score</th>\n",
       "    </tr>\n",
       "    <tr>\n",
       "      <th>Pays</th>\n",
       "      <th></th>\n",
       "    </tr>\n",
       "  </thead>\n",
       "  <tbody>\n",
       "    <tr>\n",
       "      <th>Liberia</th>\n",
       "      <td>9.72</td>\n",
       "    </tr>\n",
       "    <tr>\n",
       "      <th>SA</th>\n",
       "      <td>78.46</td>\n",
       "    </tr>\n",
       "    <tr>\n",
       "      <th>Namibie</th>\n",
       "      <td>11.47</td>\n",
       "    </tr>\n",
       "    <tr>\n",
       "      <th>Tanzanie</th>\n",
       "      <td>90.58</td>\n",
       "    </tr>\n",
       "    <tr>\n",
       "      <th>Mozambique</th>\n",
       "      <td>24.18</td>\n",
       "    </tr>\n",
       "  </tbody>\n",
       "</table>\n",
       "</div>"
      ],
      "text/plain": [
       "            Score\n",
       "Pays             \n",
       "Liberia      9.72\n",
       "SA          78.46\n",
       "Namibie     11.47\n",
       "Tanzanie    90.58\n",
       "Mozambique  24.18"
      ]
     },
     "execution_count": 101,
     "metadata": {},
     "output_type": "execute_result"
    }
   ],
   "source": [
    "scorepays = pd.read_excel('scorepays.xlsx', sheet_name='Score',index_col=0)\n",
    "scorepays"
   ]
  },
  {
   "cell_type": "code",
   "execution_count": 102,
   "id": "0ce3c5c2",
   "metadata": {},
   "outputs": [
    {
     "name": "stdout",
     "output_type": "stream",
     "text": [
      "[0.9028, 0.21540000000000006, 0.8853, 0.09420000000000002, 0.7582]\n"
     ]
    }
   ],
   "source": [
    "score_pays = [(100 - scorepays.loc['Liberia'].values[0]) / 100,\n",
    "              (100 - scorepays.loc['SA'].values[0]) / 100,\n",
    "              (100 - scorepays.loc['Namibie'].values[0]) / 100,\n",
    "              (100 - scorepays.loc['Tanzanie'].values[0]) / 100,\n",
    "              (100 - scorepays.loc['Mozambique'].values[0]) / 100]\n",
    "\n",
    "print(score_pays)"
   ]
  },
  {
   "cell_type": "markdown",
   "id": "33ed44e9",
   "metadata": {},
   "source": [
    "## Calcul Score(caractéristiques entreprise) <a class=\"anchor\" id=\"score_calcul\"></a>"
   ]
  },
  {
   "cell_type": "markdown",
   "id": "5937bbd6",
   "metadata": {},
   "source": [
    "Calculons un score intrésinquement lié aux paramètres constants d'une entreprise C. Les prévalences cyber ne dépendent pas d'une attaque cyber particulière mais reflète la prévalence pour toutes les attaques cyber.\n",
    "\n",
    "Source proba secteur : https://www.statista.com/statistics/1315805/cyber-attacks-top-industries-worldwide/#:~:text=Distribution%20of%20cyber%20attacks%20across%20worldwide%20industries%20in,telecom%200%25%205%25%2010%25%2015%25%2020%25%2025%25%2030%25\n",
    "\n",
    "Source proba taille : https://www.lepoint.fr/high-tech-internet/cyberattaques-les-entreprises-francaises-touchees-plus-que-jamais-09-12-2020-2404883_47.php#11"
   ]
  },
  {
   "cell_type": "code",
   "execution_count": 103,
   "id": "576609fa",
   "metadata": {},
   "outputs": [
    {
     "data": {
      "text/html": [
       "<div>\n",
       "<style scoped>\n",
       "    .dataframe tbody tr th:only-of-type {\n",
       "        vertical-align: middle;\n",
       "    }\n",
       "\n",
       "    .dataframe tbody tr th {\n",
       "        vertical-align: top;\n",
       "    }\n",
       "\n",
       "    .dataframe thead th {\n",
       "        text-align: right;\n",
       "    }\n",
       "</style>\n",
       "<table border=\"1\" class=\"dataframe\">\n",
       "  <thead>\n",
       "    <tr style=\"text-align: right;\">\n",
       "      <th></th>\n",
       "      <th>Sensibilité</th>\n",
       "    </tr>\n",
       "    <tr>\n",
       "      <th>Secteur</th>\n",
       "      <th></th>\n",
       "    </tr>\n",
       "  </thead>\n",
       "  <tbody>\n",
       "    <tr>\n",
       "      <th>Agriculture</th>\n",
       "      <td>0.11</td>\n",
       "    </tr>\n",
       "    <tr>\n",
       "      <th>Banque/assurance</th>\n",
       "      <td>0.19</td>\n",
       "    </tr>\n",
       "    <tr>\n",
       "      <th>Industrie</th>\n",
       "      <td>0.25</td>\n",
       "    </tr>\n",
       "    <tr>\n",
       "      <th>Services médicaux</th>\n",
       "      <td>0.26</td>\n",
       "    </tr>\n",
       "  </tbody>\n",
       "</table>\n",
       "</div>"
      ],
      "text/plain": [
       "                   Sensibilité\n",
       "Secteur                       \n",
       "Agriculture               0.11\n",
       "Banque/assurance          0.19\n",
       "Industrie                 0.25\n",
       "Services médicaux         0.26"
      ]
     },
     "execution_count": 103,
     "metadata": {},
     "output_type": "execute_result"
    }
   ],
   "source": [
    "sensibilite =  pd.read_excel('scorepays.xlsx', sheet_name='Sensibilité',index_col=0)\n",
    "taille2 =  pd.read_excel('scorepays.xlsx', sheet_name='Taille',index_col=0)\n",
    "sensibilite"
   ]
  },
  {
   "cell_type": "code",
   "execution_count": 105,
   "id": "dee04025",
   "metadata": {},
   "outputs": [
    {
     "data": {
      "text/html": [
       "<div>\n",
       "<style scoped>\n",
       "    .dataframe tbody tr th:only-of-type {\n",
       "        vertical-align: middle;\n",
       "    }\n",
       "\n",
       "    .dataframe tbody tr th {\n",
       "        vertical-align: top;\n",
       "    }\n",
       "\n",
       "    .dataframe thead th {\n",
       "        text-align: right;\n",
       "    }\n",
       "</style>\n",
       "<table border=\"1\" class=\"dataframe\">\n",
       "  <thead>\n",
       "    <tr style=\"text-align: right;\">\n",
       "      <th></th>\n",
       "      <th>Attaque</th>\n",
       "    </tr>\n",
       "    <tr>\n",
       "      <th>Taille</th>\n",
       "      <th></th>\n",
       "    </tr>\n",
       "  </thead>\n",
       "  <tbody>\n",
       "    <tr>\n",
       "      <th>&lt;10</th>\n",
       "      <td>0.25</td>\n",
       "    </tr>\n",
       "    <tr>\n",
       "      <th>10-49</th>\n",
       "      <td>0.20</td>\n",
       "    </tr>\n",
       "    <tr>\n",
       "      <th>50-250</th>\n",
       "      <td>0.20</td>\n",
       "    </tr>\n",
       "    <tr>\n",
       "      <th>&gt;250</th>\n",
       "      <td>0.35</td>\n",
       "    </tr>\n",
       "  </tbody>\n",
       "</table>\n",
       "</div>"
      ],
      "text/plain": [
       "        Attaque\n",
       "Taille         \n",
       "<10        0.25\n",
       "10-49      0.20\n",
       "50-250     0.20\n",
       ">250       0.35"
      ]
     },
     "execution_count": 105,
     "metadata": {},
     "output_type": "execute_result"
    }
   ],
   "source": [
    "taille2"
   ]
  },
  {
   "cell_type": "code",
   "execution_count": 204,
   "id": "8cdf2d90",
   "metadata": {},
   "outputs": [],
   "source": [
    "#définition d'un score pour les caractéristiques pays, secteur et nombre d'employés\n",
    "def score(profil_etp):\n",
    "    \n",
    "    probafinale = 0\n",
    "    proba1 = 0 #proba liée au pays\n",
    "    if profil_etp[0] == 'Liberia':\n",
    "        proba1 = score_pays[0]\n",
    "    elif profil_etp[0] == 'Afrique du Sud': \n",
    "        proba1 = score_pays[1]\n",
    "    elif profil_etp[0] == 'Namibie':\n",
    "        proba1 = score_pays[2]\n",
    "    elif profil_etp[0] == 'Tanzanie':\n",
    "        proba1 = score_pays[3]\n",
    "    else : \n",
    "        proba1 = score_pays[4]\n",
    "    \n",
    "    proba2 = 0 # proba liée au secteur et sensibilité des données\n",
    "    \n",
    "    if profil_etp[1] == 'Agriculture':\n",
    "        proba2 = sensibilite.loc['Agriculture'].values[0]\n",
    "    elif profil_etp[1] == 'Banque/assurance': \n",
    "        proba2 = sensibilite.loc['Banque/assurance'].values[0]\n",
    "    elif profil_etp[1] == 'Industrie': \n",
    "        proba2 = sensibilite.loc['Industrie'].values[0]\n",
    "    else : \n",
    "        proba2 = sensibilite.loc['Services médicaux'].values[0]\n",
    "        \n",
    "    proba3 = 0 # proba liée à la taille de l'entreprise - au moins une attaque en 1 an \n",
    "    \n",
    "    if profil_etp[2] == '<10':\n",
    "        proba3 = taille2.loc['<10'].values[0]\n",
    "    elif profil_etp[2] == '10-49': \n",
    "        proba3 = taille2.loc['10-49'].values[0]\n",
    "    elif profil_etp[2] == '50-250': \n",
    "        proba3 = taille2.loc['50-250'].values[0]\n",
    "    else : \n",
    "        proba3 = taille2.loc['>250'].values[0]\n",
    "    \n",
    "    probas = [proba1, proba2, proba3]\n",
    "    probafinale = (proba1+proba2+proba3)/len(probas)\n",
    "    return probafinale\n",
    "        "
   ]
  },
  {
   "cell_type": "code",
   "execution_count": 107,
   "id": "9b373917",
   "metadata": {},
   "outputs": [
    {
     "data": {
      "text/plain": [
       "0.23139999999999997"
      ]
     },
     "execution_count": 107,
     "metadata": {},
     "output_type": "execute_result"
    }
   ],
   "source": [
    "score(Profil_entreprise_1)"
   ]
  },
  {
   "cell_type": "markdown",
   "id": "a770c679",
   "metadata": {},
   "source": [
    "# Fréquence apparition de l'attaque <a class=\"anchor\" id=\"frequence\"></a>"
   ]
  },
  {
   "cell_type": "markdown",
   "id": "417779e5",
   "metadata": {},
   "source": [
    "Choix des attaques les + courantes : https://blog.netwrix.fr/2018/07/04/les-10-types-de-cyberattaques-les-plus-courants/#:~:text=Les%2010%20types%20de%20cyberattaques%20les%20plus%20courants,8%208.%20Attaque%20par%20%C3%A9coute%20illicite%20%C3%89l%C3%A9ments%20suppl%C3%A9mentaires"
   ]
  },
  {
   "cell_type": "code",
   "execution_count": 108,
   "id": "f4946502",
   "metadata": {},
   "outputs": [],
   "source": [
    "attaque=pd.read_excel('proba_attaque.xlsx')"
   ]
  },
  {
   "cell_type": "code",
   "execution_count": 205,
   "id": "55b9b297",
   "metadata": {},
   "outputs": [
    {
     "data": {
      "text/html": [
       "<div>\n",
       "<style scoped>\n",
       "    .dataframe tbody tr th:only-of-type {\n",
       "        vertical-align: middle;\n",
       "    }\n",
       "\n",
       "    .dataframe tbody tr th {\n",
       "        vertical-align: top;\n",
       "    }\n",
       "\n",
       "    .dataframe thead th {\n",
       "        text-align: right;\n",
       "    }\n",
       "</style>\n",
       "<table border=\"1\" class=\"dataframe\">\n",
       "  <thead>\n",
       "    <tr style=\"text-align: right;\">\n",
       "      <th></th>\n",
       "      <th>DDoS</th>\n",
       "      <th>Phishing</th>\n",
       "      <th>Ransomware</th>\n",
       "    </tr>\n",
       "  </thead>\n",
       "  <tbody>\n",
       "    <tr>\n",
       "      <th>0</th>\n",
       "      <td>0.33</td>\n",
       "      <td>0.124</td>\n",
       "      <td>0.51</td>\n",
       "    </tr>\n",
       "  </tbody>\n",
       "</table>\n",
       "</div>"
      ],
      "text/plain": [
       "   DDoS  Phishing  Ransomware\n",
       "0  0.33     0.124        0.51"
      ]
     },
     "execution_count": 205,
     "metadata": {},
     "output_type": "execute_result"
    }
   ],
   "source": [
    "#les valeurs sont expliquées ci-dessous\n",
    "attaque"
   ]
  },
  {
   "cell_type": "markdown",
   "id": "b21fddbd",
   "metadata": {},
   "source": [
    "## Attaque phishing <a class=\"anchor\" id=\"attphishing\"></a>"
   ]
  },
  {
   "cell_type": "markdown",
   "id": "6beeadb2",
   "metadata": {},
   "source": [
    "Concernant les attaques phishing (voir source rapport), 83% des sondés ont été victimes d'attaques phishing durant l'année 2022. A l'origine, les attaques de phishing ne sont pas conçues pour rendre indisponibles les systèmes informatiques d'une organisation mais plutôt pour divulguer des informations sensibles ou réaliser des actions non autorisées. Le pourcentage d'attaques phishing qui mènent à des pertes d'exploitation est donc très faible. On l'estime approximativement à environ 15%.\n",
    "\n",
    "Ainsi, la probabilité qu'une attaque phishing soit à l'origine de pertes d'exploitation est de 0.83 * 0.15 =  0.12.\n"
   ]
  },
  {
   "cell_type": "code",
   "execution_count": 110,
   "id": "9b306314",
   "metadata": {},
   "outputs": [],
   "source": [
    "proba_phishing_pertesexp_2022 = attaque['Phishing'].values[0]\n",
    "proba_phishing_pertesexp= attaque['Phishing'].values[0]"
   ]
  },
  {
   "cell_type": "markdown",
   "id": "c287cd6e",
   "metadata": {},
   "source": [
    "## Attaque DDoS <a class=\"anchor\" id=\"attddos\"></a>"
   ]
  },
  {
   "cell_type": "markdown",
   "id": "6d8fa6c4",
   "metadata": {},
   "source": [
    "Les données relatives aux attaques DDoS sont les plus difficiles à obtenir puisqu'elles peuvent être de très courte durée. Le principal but d'une attaque DDoS est de provoquer une indisponibilité SI de l'entreprise. De fait, nous faisons l'hypothèse forte que si l'attaque DDoS a lieu, elle déclenche la garantie pertes d'exploitation. 40% des attaques DDoS durent au moins une journée. De plus, une entreprise sur trois a été la cible d'une attaque DDoS en 2021. Les attaques DDoS ont augmenté de 150% entre 2021 et 2022, de fait le pourcentage d'attaques DDoS passe de 33% à 82% !  \n",
    "\n",
    "En définitive, la probabilité qu'une attaque DDoS soit à l'origine de pertes d'exploitation est de 0.4 * 0.82 = 0.33."
   ]
  },
  {
   "cell_type": "code",
   "execution_count": 111,
   "id": "6eab3fe8",
   "metadata": {},
   "outputs": [],
   "source": [
    "proba_DDoS_pertesexp_2022 = attaque['DDoS'].values[0]\n",
    "proba_DDoS_pertesexp = attaque['DDoS'].values[0]"
   ]
  },
  {
   "cell_type": "markdown",
   "id": "cbe39dad",
   "metadata": {},
   "source": [
    "## Attaque ransomware <a class=\"anchor\" id=\"attransomware\"></a>"
   ]
  },
  {
   "cell_type": "markdown",
   "id": "76937797",
   "metadata": {},
   "source": [
    "De la même façon que les attaques DDoS, les attaques ransomware ont pour but de chiffrer les données des entreprises victimes, les rendant indisponibles le temps qu'elles paient une rançon. Dans la majorité des cas, une attaque ransomware dure plusieurs jours à plusieurs semaines. L'hypothèse est donc faite qu'une attaque ransomware provoque à 70% une indisponibilité SI d'au moins une journée. 73% des entreprises sondées ont été victimes d'une attaque ransomware.  \n",
    "\n",
    "Ainsi, la probabilité qu'une attaque ransomware soit à l'origine de pertes d'exploitation est de 0.7 * 0.73 =  0.51"
   ]
  },
  {
   "cell_type": "code",
   "execution_count": 112,
   "id": "d2da3a65",
   "metadata": {},
   "outputs": [],
   "source": [
    "proba_ransomware_pertesexp_2022 = attaque['Ransomware'].values[0]\n",
    "proba_ransomware_pertesexp = attaque['Ransomware'].values[0]"
   ]
  },
  {
   "cell_type": "markdown",
   "id": "51bb5903",
   "metadata": {},
   "source": [
    "> **En résumé** : \n",
    "\n",
    ">Nous avons l'estimation de la Fréquence : P(garantie = pertes exploitation | attaque = Phishing) = 0.12\n",
    "\n",
    ">Nous avons l'estimation de la Fréquence : P(garantie = pertes exploitation | attaque = DDoS) = 0.33\n",
    "\n",
    ">Nous avons l'estimation de la fréquence : P(garantie = pertes exploitation | attaque = ransomware) = 0.51"
   ]
  },
  {
   "cell_type": "markdown",
   "id": "c12a1d9f",
   "metadata": {},
   "source": [
    "# P(Ai,G) <a class=\"anchor\" id=\"paig\"></a>"
   ]
  },
  {
   "cell_type": "code",
   "execution_count": 206,
   "id": "db70abd9",
   "metadata": {},
   "outputs": [],
   "source": [
    "#affectation de la bonne probabilité en fonction de l'attaque sélectionnée\n",
    "def probapexpfreqatt(profil_etp):\n",
    "    proba = 0\n",
    "    if profil_etp[8] == 'DDoS': \n",
    "        proba = proba_DDoS_pertesexp\n",
    "    elif profil_etp[8] == 'Phishing':\n",
    "        proba = proba_phishing_pertesexp \n",
    "    else : \n",
    "        proba = proba_ransomware_pertesexp\n",
    "    return proba   "
   ]
  },
  {
   "cell_type": "markdown",
   "id": "b36bacfe",
   "metadata": {},
   "source": [
    "# Pc (Ai,G) <a class=\"anchor\" id=\"pcaig\"></a>"
   ]
  },
  {
   "cell_type": "code",
   "execution_count": 207,
   "id": "fe759001",
   "metadata": {},
   "outputs": [],
   "source": [
    "#simple multiplication pour obtenir la proba\n",
    "def pcaig(profil_etp): \n",
    "    return probapexpfreqatt(profil_etp)*score(profil_etp)"
   ]
  },
  {
   "cell_type": "markdown",
   "id": "099c5d05",
   "metadata": {},
   "source": [
    "# Vulnérabilités type CVE  <a class=\"anchor\" id=\"vulnerabilites\"></a>"
   ]
  },
  {
   "cell_type": "markdown",
   "id": "1f650c12",
   "metadata": {},
   "source": [
    "## CVEs - Liste de vulnérabilités exploitables KEV <a class=\"anchor\" id=\"CVEKEV\"></a>"
   ]
  },
  {
   "cell_type": "markdown",
   "id": "f60c329e",
   "metadata": {},
   "source": [
    "Récupération des CVEs les plus graves et les plus sensibles répertoriées par l'ANSSI. On récupère sur le site https://www.cisa.gov/resources-tools/resources/kev-catalog les CVE exploitables. On simule des échantillons de CVEs KEV de taille proportionnelle à l'entreprise et on teste pour voir si les CVEs fréquentes et graves appartiennent aux échantillons."
   ]
  },
  {
   "cell_type": "code",
   "execution_count": 115,
   "id": "3b8272bc",
   "metadata": {},
   "outputs": [
    {
     "data": {
      "text/html": [
       "<div>\n",
       "<style scoped>\n",
       "    .dataframe tbody tr th:only-of-type {\n",
       "        vertical-align: middle;\n",
       "    }\n",
       "\n",
       "    .dataframe tbody tr th {\n",
       "        vertical-align: top;\n",
       "    }\n",
       "\n",
       "    .dataframe thead th {\n",
       "        text-align: right;\n",
       "    }\n",
       "</style>\n",
       "<table border=\"1\" class=\"dataframe\">\n",
       "  <thead>\n",
       "    <tr style=\"text-align: right;\">\n",
       "      <th></th>\n",
       "      <th>cveID</th>\n",
       "      <th>vendorProject</th>\n",
       "      <th>product</th>\n",
       "      <th>vulnerabilityName</th>\n",
       "      <th>dateAdded</th>\n",
       "      <th>shortDescription</th>\n",
       "      <th>requiredAction</th>\n",
       "      <th>dueDate</th>\n",
       "      <th>notes</th>\n",
       "    </tr>\n",
       "  </thead>\n",
       "  <tbody>\n",
       "    <tr>\n",
       "      <th>0</th>\n",
       "      <td>CVE-2021-27104</td>\n",
       "      <td>Accellion</td>\n",
       "      <td>FTA</td>\n",
       "      <td>Accellion FTA OS Command Injection Vulnerability</td>\n",
       "      <td>2021-11-03</td>\n",
       "      <td>Accellion FTA contains an OS command injection...</td>\n",
       "      <td>Apply updates per vendor instructions.</td>\n",
       "      <td>2021-11-17</td>\n",
       "      <td>NaN</td>\n",
       "    </tr>\n",
       "    <tr>\n",
       "      <th>1</th>\n",
       "      <td>CVE-2021-27102</td>\n",
       "      <td>Accellion</td>\n",
       "      <td>FTA</td>\n",
       "      <td>Accellion FTA OS Command Injection Vulnerability</td>\n",
       "      <td>2021-11-03</td>\n",
       "      <td>Accellion FTA contains an OS command injection...</td>\n",
       "      <td>Apply updates per vendor instructions.</td>\n",
       "      <td>2021-11-17</td>\n",
       "      <td>NaN</td>\n",
       "    </tr>\n",
       "    <tr>\n",
       "      <th>2</th>\n",
       "      <td>CVE-2021-27101</td>\n",
       "      <td>Accellion</td>\n",
       "      <td>FTA</td>\n",
       "      <td>Accellion FTA SQL Injection Vulnerability</td>\n",
       "      <td>2021-11-03</td>\n",
       "      <td>Accellion FTA contains a SQL injection vulnera...</td>\n",
       "      <td>Apply updates per vendor instructions.</td>\n",
       "      <td>2021-11-17</td>\n",
       "      <td>NaN</td>\n",
       "    </tr>\n",
       "    <tr>\n",
       "      <th>3</th>\n",
       "      <td>CVE-2021-27103</td>\n",
       "      <td>Accellion</td>\n",
       "      <td>FTA</td>\n",
       "      <td>Accellion FTA Server-Side Request Forgery (SSR...</td>\n",
       "      <td>2021-11-03</td>\n",
       "      <td>Accellion FTA contains a server-side request f...</td>\n",
       "      <td>Apply updates per vendor instructions.</td>\n",
       "      <td>2021-11-17</td>\n",
       "      <td>NaN</td>\n",
       "    </tr>\n",
       "    <tr>\n",
       "      <th>4</th>\n",
       "      <td>CVE-2021-21017</td>\n",
       "      <td>Adobe</td>\n",
       "      <td>Acrobat and Reader</td>\n",
       "      <td>Adobe Acrobat and Reader Heap-based Buffer Ove...</td>\n",
       "      <td>2021-11-03</td>\n",
       "      <td>Acrobat Acrobat and Reader contain a heap-base...</td>\n",
       "      <td>Apply updates per vendor instructions.</td>\n",
       "      <td>2021-11-17</td>\n",
       "      <td>NaN</td>\n",
       "    </tr>\n",
       "    <tr>\n",
       "      <th>...</th>\n",
       "      <td>...</td>\n",
       "      <td>...</td>\n",
       "      <td>...</td>\n",
       "      <td>...</td>\n",
       "      <td>...</td>\n",
       "      <td>...</td>\n",
       "      <td>...</td>\n",
       "      <td>...</td>\n",
       "      <td>...</td>\n",
       "    </tr>\n",
       "    <tr>\n",
       "      <th>952</th>\n",
       "      <td>CVE-2023-32434</td>\n",
       "      <td>Apple</td>\n",
       "      <td>Multiple Products</td>\n",
       "      <td>Apple Multiple Products Integer Overflow Vulne...</td>\n",
       "      <td>2023-06-23</td>\n",
       "      <td>Apple iOS. iPadOS, macOS, and watchOS contain ...</td>\n",
       "      <td>Apply updates per vendor instructions.</td>\n",
       "      <td>2023-07-14</td>\n",
       "      <td>https://support.apple.com/en-us/HT213808 , htt...</td>\n",
       "    </tr>\n",
       "    <tr>\n",
       "      <th>953</th>\n",
       "      <td>CVE-2023-32435</td>\n",
       "      <td>Apple</td>\n",
       "      <td>iOS and macOS</td>\n",
       "      <td>Apple iOS and iPadOS WebKit Memory Corruption ...</td>\n",
       "      <td>2023-06-23</td>\n",
       "      <td>Apple iOS and iPadOS WebKit contain a memory c...</td>\n",
       "      <td>Apply updates per vendor instructions.</td>\n",
       "      <td>2023-07-14</td>\n",
       "      <td>https://support.apple.com/en-us/HT213811</td>\n",
       "    </tr>\n",
       "    <tr>\n",
       "      <th>954</th>\n",
       "      <td>CVE-2023-32439</td>\n",
       "      <td>Apple</td>\n",
       "      <td>Multiple Products</td>\n",
       "      <td>Apple Multiple Products WebKit Type Confusion ...</td>\n",
       "      <td>2023-06-23</td>\n",
       "      <td>Apple iOS, iPadOS, macOS, and Safari WebKit co...</td>\n",
       "      <td>Apply updates per vendor instructions.</td>\n",
       "      <td>2023-07-14</td>\n",
       "      <td>https://support.apple.com/en-us/HT213813 , htt...</td>\n",
       "    </tr>\n",
       "    <tr>\n",
       "      <th>955</th>\n",
       "      <td>CVE-2023-20867</td>\n",
       "      <td>VMware</td>\n",
       "      <td>Tools</td>\n",
       "      <td>VMware Tools Authentication Bypass Vulnerability</td>\n",
       "      <td>2023-06-23</td>\n",
       "      <td>VMware Tools contains an authentication bypass...</td>\n",
       "      <td>Apply updates per vendor instructions.</td>\n",
       "      <td>2023-07-14</td>\n",
       "      <td>https://www.vmware.com/security/advisories/VMS...</td>\n",
       "    </tr>\n",
       "    <tr>\n",
       "      <th>956</th>\n",
       "      <td>CVE-2023-27992</td>\n",
       "      <td>Zyxel</td>\n",
       "      <td>Multiple Network-Attached Storage (NAS) Devices</td>\n",
       "      <td>Zyxel Multiple NAS Devices Command Injection V...</td>\n",
       "      <td>2023-06-23</td>\n",
       "      <td>Multiple Zyxel network-attached storage (NAS) ...</td>\n",
       "      <td>Apply updates per vendor instructions.</td>\n",
       "      <td>2023-07-14</td>\n",
       "      <td>https://www.zyxel.com/global/en/support/securi...</td>\n",
       "    </tr>\n",
       "  </tbody>\n",
       "</table>\n",
       "<p>957 rows × 9 columns</p>\n",
       "</div>"
      ],
      "text/plain": [
       "              cveID vendorProject  \\\n",
       "0    CVE-2021-27104     Accellion   \n",
       "1    CVE-2021-27102     Accellion   \n",
       "2    CVE-2021-27101     Accellion   \n",
       "3    CVE-2021-27103     Accellion   \n",
       "4    CVE-2021-21017         Adobe   \n",
       "..              ...           ...   \n",
       "952  CVE-2023-32434         Apple   \n",
       "953  CVE-2023-32435         Apple   \n",
       "954  CVE-2023-32439         Apple   \n",
       "955  CVE-2023-20867        VMware   \n",
       "956  CVE-2023-27992         Zyxel   \n",
       "\n",
       "                                             product  \\\n",
       "0                                                FTA   \n",
       "1                                                FTA   \n",
       "2                                                FTA   \n",
       "3                                                FTA   \n",
       "4                                 Acrobat and Reader   \n",
       "..                                               ...   \n",
       "952                                Multiple Products   \n",
       "953                                    iOS and macOS   \n",
       "954                                Multiple Products   \n",
       "955                                            Tools   \n",
       "956  Multiple Network-Attached Storage (NAS) Devices   \n",
       "\n",
       "                                     vulnerabilityName   dateAdded  \\\n",
       "0     Accellion FTA OS Command Injection Vulnerability  2021-11-03   \n",
       "1     Accellion FTA OS Command Injection Vulnerability  2021-11-03   \n",
       "2            Accellion FTA SQL Injection Vulnerability  2021-11-03   \n",
       "3    Accellion FTA Server-Side Request Forgery (SSR...  2021-11-03   \n",
       "4    Adobe Acrobat and Reader Heap-based Buffer Ove...  2021-11-03   \n",
       "..                                                 ...         ...   \n",
       "952  Apple Multiple Products Integer Overflow Vulne...  2023-06-23   \n",
       "953  Apple iOS and iPadOS WebKit Memory Corruption ...  2023-06-23   \n",
       "954  Apple Multiple Products WebKit Type Confusion ...  2023-06-23   \n",
       "955   VMware Tools Authentication Bypass Vulnerability  2023-06-23   \n",
       "956  Zyxel Multiple NAS Devices Command Injection V...  2023-06-23   \n",
       "\n",
       "                                      shortDescription  \\\n",
       "0    Accellion FTA contains an OS command injection...   \n",
       "1    Accellion FTA contains an OS command injection...   \n",
       "2    Accellion FTA contains a SQL injection vulnera...   \n",
       "3    Accellion FTA contains a server-side request f...   \n",
       "4    Acrobat Acrobat and Reader contain a heap-base...   \n",
       "..                                                 ...   \n",
       "952  Apple iOS. iPadOS, macOS, and watchOS contain ...   \n",
       "953  Apple iOS and iPadOS WebKit contain a memory c...   \n",
       "954  Apple iOS, iPadOS, macOS, and Safari WebKit co...   \n",
       "955  VMware Tools contains an authentication bypass...   \n",
       "956  Multiple Zyxel network-attached storage (NAS) ...   \n",
       "\n",
       "                             requiredAction     dueDate  \\\n",
       "0    Apply updates per vendor instructions.  2021-11-17   \n",
       "1    Apply updates per vendor instructions.  2021-11-17   \n",
       "2    Apply updates per vendor instructions.  2021-11-17   \n",
       "3    Apply updates per vendor instructions.  2021-11-17   \n",
       "4    Apply updates per vendor instructions.  2021-11-17   \n",
       "..                                      ...         ...   \n",
       "952  Apply updates per vendor instructions.  2023-07-14   \n",
       "953  Apply updates per vendor instructions.  2023-07-14   \n",
       "954  Apply updates per vendor instructions.  2023-07-14   \n",
       "955  Apply updates per vendor instructions.  2023-07-14   \n",
       "956  Apply updates per vendor instructions.  2023-07-14   \n",
       "\n",
       "                                                 notes  \n",
       "0                                                  NaN  \n",
       "1                                                  NaN  \n",
       "2                                                  NaN  \n",
       "3                                                  NaN  \n",
       "4                                                  NaN  \n",
       "..                                                 ...  \n",
       "952  https://support.apple.com/en-us/HT213808 , htt...  \n",
       "953           https://support.apple.com/en-us/HT213811  \n",
       "954  https://support.apple.com/en-us/HT213813 , htt...  \n",
       "955  https://www.vmware.com/security/advisories/VMS...  \n",
       "956  https://www.zyxel.com/global/en/support/securi...  \n",
       "\n",
       "[957 rows x 9 columns]"
      ]
     },
     "execution_count": 115,
     "metadata": {},
     "output_type": "execute_result"
    }
   ],
   "source": [
    "KEV = pd.read_csv('known_exploited_vulnerabilities.csv')\n",
    "KEV"
   ]
  },
  {
   "cell_type": "markdown",
   "id": "b893b944",
   "metadata": {},
   "source": [
    "## Liste CVEs pour une attaque Ai donnée <a class=\"anchor\" id=\"CVEAI\"></a>"
   ]
  },
  {
   "cell_type": "markdown",
   "id": "bb576805",
   "metadata": {},
   "source": [
    "Liste CVE Ransomware :  https://www.cybersecuritydive.com/news/CISA-CVE-most-common-vulnerability-2020-2021-ransomware/604426/\n",
    "\n",
    "Ex pour le phishing : https://securelist.com/analysis-of-attack-samples-exploiting-cve-2023-23397/110202/\n",
    "\n",
    "Ex pour le DDoS : https://www.akaoma.com/ressources/cve/dos-denial-of-service?start=8."
   ]
  },
  {
   "cell_type": "code",
   "execution_count": 208,
   "id": "4cb88adb",
   "metadata": {},
   "outputs": [],
   "source": [
    "# lecture et chargement de la base de données MITRE\n",
    "CVEliste =  pd.read_excel('scorepays.xlsx', sheet_name='CVEs')"
   ]
  },
  {
   "cell_type": "code",
   "execution_count": 209,
   "id": "f2e1f4d8",
   "metadata": {},
   "outputs": [],
   "source": [
    "#on affecte à la liste des CVE celle de la bonne attaque cyber\n",
    "def CVE(profil_etp):\n",
    "    liste_cve = []\n",
    "    if profil_etp[9] == 'DDoS':\n",
    "        liste_cve = CVEliste['DDoS']\n",
    "    elif profil_etp[9] == 'Phishing': \n",
    "        liste_cve= CVEliste['Phishing']\n",
    "    else : \n",
    "        liste_cve = CVEliste['Ransomware']\n",
    "    return liste_cve.to_string(index=False).split()"
   ]
  },
  {
   "cell_type": "markdown",
   "id": "2400d42c",
   "metadata": {},
   "source": [
    "## CVEs - Entreprise C <a class=\"anchor\" id=\"CVE_etp\"></a>"
   ]
  },
  {
   "cell_type": "markdown",
   "id": "5abee640",
   "metadata": {},
   "source": [
    "On imagine qu'on récupère la liste de CVE d'une entreprise C par scan réseau."
   ]
  },
  {
   "cell_type": "code",
   "execution_count": 211,
   "id": "a79715fd",
   "metadata": {},
   "outputs": [
    {
     "name": "stdout",
     "output_type": "stream",
     "text": [
      "0          CVE-1999-0001\n",
      "1          CVE-1999-0002\n",
      "2          CVE-1999-0003\n",
      "3          CVE-1999-0004\n",
      "4          CVE-1999-0005\n",
      "               ...      \n",
      "208099    CVE-2023-38617\n",
      "208100     CVE-2023-3862\n",
      "208101    CVE-2023-38632\n",
      "208102    CVE-2023-38633\n",
      "208103    CVE-2023-38646\n",
      "Name: cve, Length: 208104, dtype: object\n"
     ]
    }
   ],
   "source": [
    "#on récupère la liste des scores epss des cve, bdd FIRST\n",
    "\n",
    "allCVE = pd.read_csv('epss_scores-2023-07-24.csv', skiprows=1, sep=';')\n",
    "allCVE.rename(columns={'CVE': 'cve'}, inplace=True)\n",
    "print(allCVE['cve'])"
   ]
  },
  {
   "cell_type": "code",
   "execution_count": 119,
   "id": "a5e9da87",
   "metadata": {},
   "outputs": [],
   "source": [
    "# simulation d'ensemble de CVEs détectées sur l'analyse/scan réseau des entreprises. \n",
    "def echantillonCVE(profil_etp): \n",
    "    echantillon = None\n",
    "    if profil_etp[6] == 'Débutant':\n",
    "        echantillon = allCVE['cve'].sample(n=20000)\n",
    "    elif profil_etp[6] == 'Correct':\n",
    "        echantillon = allCVE['cve'].sample(n=40000)\n",
    "    else:\n",
    "        echantillon = allCVE['cve'].sample(n=60000)\n",
    "    return echantillon"
   ]
  },
  {
   "cell_type": "code",
   "execution_count": 120,
   "id": "1d13b05a",
   "metadata": {},
   "outputs": [
    {
     "data": {
      "text/plain": [
       "35508       CVE-2008-6928\n",
       "7790        CVE-2003-1222\n",
       "97693       CVE-2017-3417\n",
       "158812     CVE-2021-25527\n",
       "194687     CVE-2022-45172\n",
       "               ...       \n",
       "97762       CVE-2017-3490\n",
       "179507     CVE-2022-24654\n",
       "29211       CVE-2008-0348\n",
       "155813     CVE-2021-21964\n",
       "63199     CVE-2014-125047\n",
       "Name: cve, Length: 60000, dtype: object"
      ]
     },
     "execution_count": 120,
     "metadata": {},
     "output_type": "execute_result"
    }
   ],
   "source": [
    "echantillonCVE(Profil_entreprise_1)"
   ]
  },
  {
   "cell_type": "markdown",
   "id": "db8838d8",
   "metadata": {},
   "source": [
    "## Intersection des 3 sous ensembles <a class=\"anchor\" id=\"intersection\"></a>"
   ]
  },
  {
   "cell_type": "code",
   "execution_count": 212,
   "id": "e1bc7c9b",
   "metadata": {},
   "outputs": [],
   "source": [
    "# on ne s'intéresse qu'aux cve de l'entreprise qui sont exploitables et pour la bonne attaque cyber Ai\n",
    "def intersection(profiletp): \n",
    "    intersection_df = pd.merge(echantillonCVE(profiletp), KEV, left_on='cve', right_on='cveID', how='inner')\n",
    "    intersection_liste_df = intersection_df[intersection_df['cve'].isin(CVE(profiletp))]\n",
    "    nouveau_dataframe = pd.DataFrame({'CVE': intersection_liste_df['cve']})\n",
    "    return nouveau_dataframe"
   ]
  },
  {
   "cell_type": "markdown",
   "id": "99bf07ce",
   "metadata": {},
   "source": [
    "## Calcul du score EPSS pour chaque vulnérabilité grave <a class=\"anchor\" id=\"EPSS\"></a>"
   ]
  },
  {
   "cell_type": "code",
   "execution_count": 213,
   "id": "bcf19493",
   "metadata": {},
   "outputs": [],
   "source": [
    "#on récupère le score epss de la liste d'intersection\n",
    "def EPSS(profiletp):\n",
    "    resultat = []\n",
    "    for index, row in intersection(profiletp).iterrows():\n",
    "        cve_r = row['CVE']\n",
    "        epss_value = allCVE.loc[allCVE['cve'] == cve_r, 'epss'].iloc[0]\n",
    "        resultat.append(epss_value)\n",
    "    return resultat"
   ]
  },
  {
   "cell_type": "markdown",
   "id": "28825893",
   "metadata": {},
   "source": [
    "## P(CVEs entraînent Ai,G) à l'instant t pour entreprise C <a class=\"anchor\" id=\"probacve\"></a>"
   ]
  },
  {
   "cell_type": "code",
   "execution_count": 215,
   "id": "b87b8bce",
   "metadata": {},
   "outputs": [],
   "source": [
    "#on récupère la liste du dessus, on calcule le score EPSS de chaque élément de la liste et on fait la moyenne globale\n",
    "def probacveAi(profiletp):\n",
    "    somme = 0\n",
    "    resultat = EPSS(profiletp)\n",
    "    while len(resultat)==0: #on ne prend pas de liste vide\n",
    "        resultat = EPSS(profiletp)\n",
    "\n",
    "    for r in resultat: \n",
    "        somme +=r \n",
    "    \n",
    "    moyenne = somme/len(resultat)\n",
    "    return moyenne"
   ]
  },
  {
   "cell_type": "markdown",
   "id": "7bb02091",
   "metadata": {},
   "source": [
    "## Pc(Ai,G) données historiques <a class=\"anchor\" id=\"probahisto\"></a>"
   ]
  },
  {
   "cell_type": "markdown",
   "id": "b20d1e1d",
   "metadata": {},
   "source": [
    "L'idée est d'imaginer une probabilité de survenance de l'attaque Ai pour la garantie G et l'entreprise C basée sur des données historiques. Pour cela, on peut faire circuler un petit questionnaire à l'ensemble des employés du type suivant : "
   ]
  },
  {
   "cell_type": "markdown",
   "id": "08d2f5d5",
   "metadata": {},
   "source": [
    "<img>![image3](sondage1.png)\n",
    "\n"
   ]
  },
  {
   "cell_type": "markdown",
   "id": "93ab60c5",
   "metadata": {},
   "source": [
    "On sait pour l'attaque Ai = Phishing que P(Ai déclenche G) = 0.12\n",
    "\n",
    "On estime que d'une année sur l'autre, la tendance est toujours à l'évolution mais faible. Ainsi, quelqu'un qui ne pense pas avoir reçu de mails frauduleux et qui fait attention à sa boîte mail a probablement une boîte mail filtrante donc la probabilité est minorée."
   ]
  },
  {
   "cell_type": "markdown",
   "id": "e32b05b4",
   "metadata": {},
   "source": [
    "A voir comment l'intégrer dans le dashboard..."
   ]
  },
  {
   "cell_type": "markdown",
   "id": "0c22b897",
   "metadata": {},
   "source": [
    "# Probabilité finale fréquence <a class=\"anchor\" id=\"probasurvenance\"></a>"
   ]
  },
  {
   "cell_type": "code",
   "execution_count": 217,
   "id": "94c76c58",
   "metadata": {},
   "outputs": [],
   "source": [
    "#simple multiplication des Pc(Ai,G), imaginer d'autres sources de Pc(Ai,G) \n",
    "def probafrequence(profil_etp):\n",
    "    return pcaig(profil_etp)*probacveAi(profil_etp) # car HYP : indépendance"
   ]
  },
  {
   "cell_type": "markdown",
   "id": "b42d1969",
   "metadata": {},
   "source": [
    "# Facteur d'atténuation / aggravation <a class=\"anchor\" id=\"facteur_attenuation\"></a>"
   ]
  },
  {
   "cell_type": "markdown",
   "id": "b8194b1c",
   "metadata": {},
   "source": [
    "On définit une fonction facteur d'atténuation ou d'aggravation de l'attaque cyber Ai qui influe directement sur la réussite de l'attaque."
   ]
  },
  {
   "cell_type": "markdown",
   "id": "1c75f193",
   "metadata": {},
   "source": [
    "## Protection SI <a class=\"anchor\" id=\"protection_SI\"></a>"
   ]
  },
  {
   "cell_type": "markdown",
   "id": "266624db",
   "metadata": {},
   "source": [
    "Les niveaux de protection SI sont issus des conseils de la CNIL et classé selon une importance du \"plus facile à penser\" au \"plus recherché et efficace\" : https://www.cnil.fr/fr/10-conseils-pour-la-securite-de-votre-systeme-dinformation"
   ]
  },
  {
   "cell_type": "code",
   "execution_count": 125,
   "id": "29ba497a",
   "metadata": {},
   "outputs": [
    {
     "name": "stdout",
     "output_type": "stream",
     "text": [
      "Launching server at http://localhost:60009\n"
     ]
    },
    {
     "data": {
      "text/plain": [
       "<panel.io.server.Server at 0x244f104e310>"
      ]
     },
     "execution_count": 125,
     "metadata": {},
     "output_type": "execute_result"
    }
   ],
   "source": [
    "protections = [['1', 'Firewall'],\n",
    "        ['2', 'Anti-virus'],\n",
    "        ['3', 'Maj régulières'],\n",
    "        ['4', 'Authentification à 2 facteurs'],\n",
    "        ['5', 'Mots de passe robustes'],\n",
    "        ['6', 'Navigation sécurisée'],\n",
    "        ['7', 'Sauvegardes régulières'],\n",
    "        ['8', 'Chiffrement des données']]\n",
    "\n",
    "df = pd.DataFrame(protections, columns=['Classement niveau de protection', 'Type de protection'])\n",
    "\n",
    "niveaux_selectionnes = pn.widgets.MultiSelect(name='Sélectionner les niveaux de protection', options=df['Type de protection'].tolist())\n",
    "\n",
    "attaques_selectionnees = pn.widgets.Select(name='Sélectionner une attaque cyber', options=['DDoS', 'Phishing', 'Ransomware'])\n",
    "\n",
    "choix_niveaux = niveaux_selectionnes.value\n",
    "choix_attaque = attaques_selectionnees.value\n",
    "\n",
    "@pn.depends(niveaux=niveaux_selectionnes, attaque=attaques_selectionnees)\n",
    "def update_table(niveaux, attaque):\n",
    "    global choix_niveaux, choix_attaque\n",
    "    choix_niveaux = niveaux\n",
    "    choix_attaque = attaque\n",
    "   \n",
    "    \n",
    "    selected_rows = df[df['Classement niveau de protection'].isin(niveaux)]\n",
    "    if attaque:\n",
    "        selected_rows = selected_rows[selected_rows['Type de protection'].isin([attaque])]\n",
    "    return pn.pane.DataFrame(selected_rows, sizing_mode='stretch_width', index=False, header=False)\n",
    "\n",
    "tableau_interactif = pn.Column(pn.Row(update_table, sizing_mode='stretch_width'), sizing_mode='stretch_width')\n",
    "\n",
    "dashboard = pn.Column(niveaux_selectionnes, attaques_selectionnees, tableau_interactif, sizing_mode='stretch_width')\n",
    "dashboard.show()"
   ]
  },
  {
   "cell_type": "markdown",
   "id": "e6cc0aeb",
   "metadata": {},
   "source": [
    "### Impact selon attaque Ai <a class=\"anchor\" id=\"impact\"></a>"
   ]
  },
  {
   "cell_type": "markdown",
   "id": "0844442d",
   "metadata": {},
   "source": [
    "On identifie : \n",
    "\n",
    "    - DDoS : Firewall (aide à bloquer le trafic indésirable provenant d'attaques DDoS) et Antivirus (détecte et bloque certains types de trafic malveillant) \n",
    "    - Phishing : Anti-virus (détecte et bloque les email phishing), Navigation sécurisée (anti-phishing) et Mdp robustes\n",
    "    - Ransomware : maj régulières (vulnérabilités nombreuses), authentification 2 facteurs, sauvegardes régulières (restauration des données)"
   ]
  },
  {
   "cell_type": "code",
   "execution_count": 218,
   "id": "d43c25cb",
   "metadata": {},
   "outputs": [],
   "source": [
    "#on ajoute les choix de l'utilisateur au profil de l'entreprise \n",
    "# choix attaque et choix protections SI\n",
    "Profil_entreprise_1 = [pays,secteur,taille,CA,dev,age,calcul_salaire(Profil_entreprise_1,salairemoyen), choix_attaque,choix_niveaux]"
   ]
  },
  {
   "cell_type": "code",
   "execution_count": 127,
   "id": "d3736296",
   "metadata": {},
   "outputs": [
    {
     "data": {
      "text/html": [
       "<div>\n",
       "<style scoped>\n",
       "    .dataframe tbody tr th:only-of-type {\n",
       "        vertical-align: middle;\n",
       "    }\n",
       "\n",
       "    .dataframe tbody tr th {\n",
       "        vertical-align: top;\n",
       "    }\n",
       "\n",
       "    .dataframe thead th {\n",
       "        text-align: right;\n",
       "    }\n",
       "</style>\n",
       "<table border=\"1\" class=\"dataframe\">\n",
       "  <thead>\n",
       "    <tr style=\"text-align: right;\">\n",
       "      <th></th>\n",
       "      <th>Attaque</th>\n",
       "      <th>Protection</th>\n",
       "      <th>Facteur</th>\n",
       "    </tr>\n",
       "  </thead>\n",
       "  <tbody>\n",
       "    <tr>\n",
       "      <th>0</th>\n",
       "      <td>DDoS1</td>\n",
       "      <td>Firewall</td>\n",
       "      <td>0.60</td>\n",
       "    </tr>\n",
       "    <tr>\n",
       "      <th>1</th>\n",
       "      <td>DDoS2</td>\n",
       "      <td>Anti-virus</td>\n",
       "      <td>0.60</td>\n",
       "    </tr>\n",
       "    <tr>\n",
       "      <th>2</th>\n",
       "      <td>Phishing1</td>\n",
       "      <td>Anti-virus</td>\n",
       "      <td>0.55</td>\n",
       "    </tr>\n",
       "    <tr>\n",
       "      <th>3</th>\n",
       "      <td>Phishing2</td>\n",
       "      <td>Mots de passe robustes</td>\n",
       "      <td>0.55</td>\n",
       "    </tr>\n",
       "    <tr>\n",
       "      <th>4</th>\n",
       "      <td>Phishing3</td>\n",
       "      <td>Navigation sécurisée</td>\n",
       "      <td>0.55</td>\n",
       "    </tr>\n",
       "    <tr>\n",
       "      <th>5</th>\n",
       "      <td>Ransomware1</td>\n",
       "      <td>Maj régulières</td>\n",
       "      <td>0.30</td>\n",
       "    </tr>\n",
       "    <tr>\n",
       "      <th>6</th>\n",
       "      <td>Ransomware2</td>\n",
       "      <td>Authentification à 2 facteurs</td>\n",
       "      <td>0.30</td>\n",
       "    </tr>\n",
       "    <tr>\n",
       "      <th>7</th>\n",
       "      <td>Ransomware3</td>\n",
       "      <td>Sauvegardes régulières</td>\n",
       "      <td>0.30</td>\n",
       "    </tr>\n",
       "  </tbody>\n",
       "</table>\n",
       "</div>"
      ],
      "text/plain": [
       "       Attaque                     Protection  Facteur\n",
       "0        DDoS1                       Firewall     0.60\n",
       "1        DDoS2                     Anti-virus     0.60\n",
       "2    Phishing1                     Anti-virus     0.55\n",
       "3    Phishing2         Mots de passe robustes     0.55\n",
       "4    Phishing3           Navigation sécurisée     0.55\n",
       "5  Ransomware1                 Maj régulières     0.30\n",
       "6  Ransomware2  Authentification à 2 facteurs     0.30\n",
       "7  Ransomware3         Sauvegardes régulières     0.30"
      ]
     },
     "execution_count": 127,
     "metadata": {},
     "output_type": "execute_result"
    }
   ],
   "source": [
    "protections =  pd.read_excel('scorepays.xlsx', sheet_name='Protections')\n",
    "protections"
   ]
  },
  {
   "cell_type": "code",
   "execution_count": 219,
   "id": "15feb606",
   "metadata": {},
   "outputs": [],
   "source": [
    "#selon l'attaque, affecte le score correspondant que si la protection SI est efficace\n",
    "def probaSI(profil_etp):\n",
    "    facteur = 1  # facteur à 1 (pas d'atténuation de la réussite de l'attaque)\n",
    "    \n",
    "    if profil_etp[7] == 'DDoS':\n",
    "        for protection in profil_etp[8]:\n",
    "            if protection == 'Firewall':\n",
    "                facteur *= protections.loc[(protections['Attaque'] == 'DDoS1') & (protections['Protection'] == 'Firewall'), 'Facteur'].values[0]\n",
    "            elif protection == 'Anti-virus':\n",
    "                facteur *=protections.loc[(protections['Attaque'] == 'DDoS2') & (protections['Protection'] == 'Anti-virus'), 'Facteur'].values[0]\n",
    "                \n",
    "    elif profil_etp[7] == 'Phishing':\n",
    "        for protection in profil_etp[8]:\n",
    "            if protection == 'Anti-virus':\n",
    "                facteur *= protections.loc[(protections['Attaque'] == 'Phishing1') & (protections['Protection'] == 'Anti-virus'), 'Facteur'].values[0]\n",
    "            elif protection == 'Mots de passe robustes':\n",
    "                facteur *= protections.loc[(protections['Attaque'] == 'Phishing2') & (protections['Protection'] == 'Mots de passe robustes'), 'Facteur'].values[0]\n",
    "            elif protection == 'Navigation sécurisée':\n",
    "                facteur *= protections.loc[(protections['Attaque'] == 'Phishing3') & (protections['Protection'] == 'Navigation sécurisée'), 'Facteur'].values[0]\n",
    "                \n",
    "    elif profil_etp[7] == 'Ransomware':\n",
    "        \n",
    "        for protection in profil_etp[8]:\n",
    "            if protection == 'Maj régulières':\n",
    "                facteur *= protections.loc[(protections['Attaque'] == 'Ransomware1') & (protections['Protection'] == 'Maj régulières'), 'Facteur'].values[0]\n",
    "            elif protection == 'Authentification à 2 facteurs':\n",
    "                facteur *= protections.loc[(protections['Attaque'] == 'Ransomware2') & (protections['Protection'] == 'Authentification à 2 facteurs'), 'Facteur'].values[0]\n",
    "            elif protection == 'Sauvegardes régulières':\n",
    "                facteur *= protections.loc[(protections['Attaque'] == 'Ransomware3') & (protections['Protection'] == 'Sauvegardes régulières'), 'Facteur'].values[0]\n",
    "    \n",
    "    return facteur"
   ]
  },
  {
   "cell_type": "code",
   "execution_count": 129,
   "id": "5a14ceb9",
   "metadata": {
    "scrolled": true
   },
   "outputs": [
    {
     "data": {
      "text/plain": [
       "0.36"
      ]
     },
     "execution_count": 129,
     "metadata": {},
     "output_type": "execute_result"
    }
   ],
   "source": [
    "probaSI(Profil_entreprise_1)"
   ]
  },
  {
   "cell_type": "markdown",
   "id": "292cb8c9",
   "metadata": {},
   "source": [
    "## Formation employés <a class=\"anchor\" id=\"formation\"></a>"
   ]
  },
  {
   "cell_type": "markdown",
   "id": "70a291b8",
   "metadata": {},
   "source": [
    "Les programmes de formation à la cybersécurité réduisent le risque de violation de données. Les employés seront mieux équipés pour reconnaître les signaux d’alerte. Cela aidera à éviter toute erreur coûteuse et à économiser du temps et de l’argent à long terme. La formation pour être interne ou faire appel à un intervenant extérieur."
   ]
  },
  {
   "cell_type": "markdown",
   "id": "f40f3bb1",
   "metadata": {},
   "source": [
    "### Formation risque cyber, généraliste et/ou phishing <a class=\"anchor\" id=\"formation_cyber\"></a>"
   ]
  },
  {
   "cell_type": "markdown",
   "id": "4429ec0b",
   "metadata": {},
   "source": [
    "On considère une formation cyber généraliste complète."
   ]
  },
  {
   "cell_type": "code",
   "execution_count": 130,
   "id": "62d3e3a6",
   "metadata": {},
   "outputs": [
    {
     "name": "stdout",
     "output_type": "stream",
     "text": [
      "Launching server at http://localhost:60026\n"
     ]
    },
    {
     "data": {
      "text/plain": [
       "<panel.io.server.Server at 0x244f030e090>"
      ]
     },
     "execution_count": 130,
     "metadata": {},
     "output_type": "execute_result"
    }
   ],
   "source": [
    "options_list = [\"Formation cyber généraliste\", \"Formation au risque phishing\", \"Aucune\", \"Formation cyber généraliste et au risque phishing\"]\n",
    "first_selection = pn.widgets.Select(options=options_list)\n",
    "\n",
    "second_options_dict = {\n",
    "    \"Formation cyber généraliste\": [\"Formations ponctuelles\", \"Formations occasionnelles\", \"Formations régulières\"],\n",
    "    \"Formation au risque phishing\": [\"Formations ponctuelles\", \"Formations occasionnelles\", \"Formations régulières\"],\n",
    "    \"Formation cyber généraliste et au risque phishing\" :[\"Formations ponctuelles\", \"Formations occasionnelles\", \"Formations régulières\"],\n",
    "    \"Aucune\": []\n",
    "}\n",
    "\n",
    "second_selection = pn.widgets.Select()\n",
    "choix_formation = None\n",
    "choix_frequence = None\n",
    "\n",
    "def update_first_selection(event):\n",
    "    global choix_formation\n",
    "    selected_option = event.new\n",
    "    choix_formation = selected_option\n",
    "    update_second_options()\n",
    "\n",
    "def update_second_options():\n",
    "    global choix_frequence\n",
    "    selected_option = first_selection.value\n",
    "    second_selection.options = second_options_dict.get(selected_option, [])\n",
    "    if choix_frequence not in second_selection.options:\n",
    "        choix_frequence = None\n",
    "\n",
    "def update_second_selection(event):\n",
    "    global choix_frequence\n",
    "    selected_option = event.new\n",
    "    choix_frequence = selected_option\n",
    "\n",
    "first_selection.param.watch(update_first_selection, \"value\")\n",
    "second_selection.param.watch(update_second_selection, \"value\")\n",
    "\n",
    "\n",
    "\n",
    "layout = pn.Column(first_selection, second_selection)\n",
    "layout.show()"
   ]
  },
  {
   "cell_type": "code",
   "execution_count": 220,
   "id": "5ca9d78b",
   "metadata": {},
   "outputs": [
    {
     "data": {
      "text/plain": [
       "['Tanzanie',\n",
       " 'Industrie',\n",
       " '>250',\n",
       " 56000000,\n",
       " 'Correct',\n",
       " 35,\n",
       " 160,\n",
       " 'DDoS',\n",
       " ['Firewall', 'Anti-virus'],\n",
       " 'Formation cyber généraliste et au risque phishing',\n",
       " 'Formations régulières']"
      ]
     },
     "execution_count": 220,
     "metadata": {},
     "output_type": "execute_result"
    }
   ],
   "source": [
    "#ajoute le choix de formations de l'utilisateur au profil de l'entreprise\n",
    "Profil_entreprise_1 = [pays,secteur,taille,CA,dev,age,calcul_salaire(Profil_entreprise_1,salairemoyen),choix_attaque,choix_niveaux,choix_formation, choix_frequence]\n",
    "Profil_entreprise_1"
   ]
  },
  {
   "cell_type": "code",
   "execution_count": 221,
   "id": "e5164cb7",
   "metadata": {},
   "outputs": [
    {
     "data": {
      "text/html": [
       "<div>\n",
       "<style scoped>\n",
       "    .dataframe tbody tr th:only-of-type {\n",
       "        vertical-align: middle;\n",
       "    }\n",
       "\n",
       "    .dataframe tbody tr th {\n",
       "        vertical-align: top;\n",
       "    }\n",
       "\n",
       "    .dataframe thead th {\n",
       "        text-align: right;\n",
       "    }\n",
       "</style>\n",
       "<table border=\"1\" class=\"dataframe\">\n",
       "  <thead>\n",
       "    <tr style=\"text-align: right;\">\n",
       "      <th></th>\n",
       "      <th>Formation</th>\n",
       "      <th>Fréquence</th>\n",
       "      <th>Facteur</th>\n",
       "    </tr>\n",
       "  </thead>\n",
       "  <tbody>\n",
       "    <tr>\n",
       "      <th>0</th>\n",
       "      <td>Cyber généraliste1</td>\n",
       "      <td>Ponctuelles</td>\n",
       "      <td>0.9</td>\n",
       "    </tr>\n",
       "    <tr>\n",
       "      <th>1</th>\n",
       "      <td>Cyber généraliste2</td>\n",
       "      <td>Occasionnelles</td>\n",
       "      <td>0.7</td>\n",
       "    </tr>\n",
       "    <tr>\n",
       "      <th>2</th>\n",
       "      <td>Cyber généraliste3</td>\n",
       "      <td>Régulières</td>\n",
       "      <td>0.5</td>\n",
       "    </tr>\n",
       "    <tr>\n",
       "      <th>3</th>\n",
       "      <td>Risque phishing1</td>\n",
       "      <td>Ponctuelles</td>\n",
       "      <td>0.9</td>\n",
       "    </tr>\n",
       "    <tr>\n",
       "      <th>4</th>\n",
       "      <td>Risque phishing2</td>\n",
       "      <td>Occasionnelles</td>\n",
       "      <td>0.7</td>\n",
       "    </tr>\n",
       "    <tr>\n",
       "      <th>5</th>\n",
       "      <td>Risque phishing3</td>\n",
       "      <td>Régulières</td>\n",
       "      <td>0.5</td>\n",
       "    </tr>\n",
       "    <tr>\n",
       "      <th>6</th>\n",
       "      <td>Cyber généraliste et risque phishing1</td>\n",
       "      <td>Ponctuelles</td>\n",
       "      <td>0.9</td>\n",
       "    </tr>\n",
       "    <tr>\n",
       "      <th>7</th>\n",
       "      <td>Cyber généraliste et risque phishing2</td>\n",
       "      <td>Occasionnelles</td>\n",
       "      <td>0.7</td>\n",
       "    </tr>\n",
       "    <tr>\n",
       "      <th>8</th>\n",
       "      <td>Cyber généraliste et risque phishing3</td>\n",
       "      <td>Régulières</td>\n",
       "      <td>0.5</td>\n",
       "    </tr>\n",
       "  </tbody>\n",
       "</table>\n",
       "</div>"
      ],
      "text/plain": [
       "                               Formation       Fréquence  Facteur\n",
       "0                     Cyber généraliste1     Ponctuelles      0.9\n",
       "1                     Cyber généraliste2  Occasionnelles      0.7\n",
       "2                     Cyber généraliste3      Régulières      0.5\n",
       "3                       Risque phishing1     Ponctuelles      0.9\n",
       "4                       Risque phishing2  Occasionnelles      0.7\n",
       "5                       Risque phishing3      Régulières      0.5\n",
       "6  Cyber généraliste et risque phishing1     Ponctuelles      0.9\n",
       "7  Cyber généraliste et risque phishing2  Occasionnelles      0.7\n",
       "8  Cyber généraliste et risque phishing3      Régulières      0.5"
      ]
     },
     "execution_count": 221,
     "metadata": {},
     "output_type": "execute_result"
    }
   ],
   "source": [
    "#données imaginées\n",
    "formation =  pd.read_excel('scorepays.xlsx', sheet_name='Formation')\n",
    "formation"
   ]
  },
  {
   "cell_type": "code",
   "execution_count": 135,
   "id": "a9c42934",
   "metadata": {},
   "outputs": [
    {
     "data": {
      "text/plain": [
       "['Tanzanie',\n",
       " 'Industrie',\n",
       " '>250',\n",
       " 56000000,\n",
       " 'Correct',\n",
       " 35,\n",
       " 160,\n",
       " 'DDoS',\n",
       " ['Firewall', 'Anti-virus'],\n",
       " 'Aucune',\n",
       " None]"
      ]
     },
     "execution_count": 135,
     "metadata": {},
     "output_type": "execute_result"
    }
   ],
   "source": [
    "Profil_entreprise_1"
   ]
  },
  {
   "cell_type": "code",
   "execution_count": 222,
   "id": "eff727a1",
   "metadata": {},
   "outputs": [],
   "source": [
    "#création du sous score formation\n",
    "def probaformation(profil_etp):\n",
    "    facteur = 1\n",
    "    if profil_etp[9] == 'Formation cyber généraliste': \n",
    "        facteur = 0.9\n",
    "        if profil_etp[10] == 'Formations ponctuelles':\n",
    "            facteur *= formation.loc[(formation['Formation'] == 'Cyber généraliste1') & (formation['Fréquence'] == 'Ponctuelles'), 'Facteur'].values[0]\n",
    "        elif profil_etp[10] == 'Formations occasionnelles':\n",
    "            facteur *= formation.loc[(formation['Formation'] == 'Cyber généraliste2') & (formation['Fréquence'] == 'Occasionnelles'), 'Facteur'].values[0]\n",
    "        else:\n",
    "            facteur *= formation.loc[(formation['Formation'] == 'Cyber généraliste3') & (formation['Fréquence'] == 'Régulières'), 'Facteur'].values[0]\n",
    "    elif profil_etp[9] == 'Formation au risque phishing':\n",
    "        facteur = 0.85\n",
    "        if profil_etp[10] == 'Formations ponctuelles':\n",
    "            facteur *= formation.loc[(formation['Formation'] == 'Risque phishing1') & (formation['Fréquence'] == 'Ponctuelles'), 'Facteur'].values[0]\n",
    "        elif profil_etp[10] == 'Formations occasionnelles':\n",
    "            facteur *= formation.loc[(formation['Formation'] == 'Risque phishing2') & (formation['Fréquence'] == 'Occasionnelles'), 'Facteur'].values[0]\n",
    "        else:\n",
    "            facteur *= formation.loc[(formation['Formation'] == 'Risque phishing3') & (formation['Fréquence'] == 'Régulières'), 'Facteur'].values[0]\n",
    "    elif profil_etp[9] == 'Formation cyber généraliste et au risque phishing':\n",
    "        facteur = 0.6\n",
    "        if profil_etp[10] == 'Formations ponctuelles':\n",
    "            facteur *= formation.loc[(formation['Formation'] == 'Cyber généraliste et risque phishing1') & (formation['Fréquence'] == 'Ponctuelles'), 'Facteur'].values[0]\n",
    "        elif profil_etp[10] == 'Formations occasionnelles':\n",
    "            facteur *= formation.loc[(formation['Formation'] == 'Cyber généraliste et risque phishing2') & (formation['Fréquence'] == 'Occasionnelles'), 'Facteur'].values[0]\n",
    "        else:\n",
    "            facteur *= formation.loc[(formation['Formation'] == 'Cyber généraliste et risque phishing3') & (formation['Fréquence'] == 'Régulières'), 'Facteur'].values[0]\n",
    "    return facteur"
   ]
  },
  {
   "cell_type": "code",
   "execution_count": 137,
   "id": "8681ca17",
   "metadata": {},
   "outputs": [
    {
     "data": {
      "text/plain": [
       "1"
      ]
     },
     "execution_count": 137,
     "metadata": {},
     "output_type": "execute_result"
    }
   ],
   "source": [
    "probaformation(Profil_entreprise_1)"
   ]
  },
  {
   "cell_type": "markdown",
   "id": "2c8750aa",
   "metadata": {},
   "source": [
    "### Formation Phishing - Données historiques type sondage à réfléchir  <a class=\"anchor\" id=\"formation_phishing\"></a>"
   ]
  },
  {
   "cell_type": "markdown",
   "id": "db5596c8",
   "metadata": {},
   "source": [
    "Dans un premier temps, **les données qui suivent sont à titre d'exemple** si on sonde les entreprises concernant le risque phishing. On imagine que l'on distribue un sondage de ce type aux employés de l'entreprise C : \n",
    "\n",
    "    - Pensez-vous avoir déjà reçu un e-mail frauduleux sur votre messagerie électronique professionnelle l'année dernière ? Si oui,\n",
    "    - Avez-vous cliqué sur ce mail ? \n",
    "    Si non, \n",
    "    - Pensez-vous faire attention à vos mails? \n",
    "    \n",
    "Etc\n",
    "\n",
    "Les données sont inspirées de : TitanHQ. (2020). Phishing : les protections sont insuffisantes, les employés tombent dans le\n",
    "piège ! et \n",
    "TitanHQ. (2021). Statistiques sur le phishing en 2021"
   ]
  },
  {
   "cell_type": "markdown",
   "id": "dbb4417c",
   "metadata": {},
   "source": [
    "<img>![image2](sondageréussite.png)"
   ]
  },
  {
   "cell_type": "markdown",
   "id": "6ff55cb2",
   "metadata": {},
   "source": [
    "On pourrait imaginer faire la moyenne des probabilités obtenues de chaque employé."
   ]
  },
  {
   "cell_type": "markdown",
   "id": "0747a7fc",
   "metadata": {},
   "source": [
    "## Caractéristiques entreprise <a class=\"anchor\" id=\"cara_etp\"></a>"
   ]
  },
  {
   "cell_type": "markdown",
   "id": "a8c17362",
   "metadata": {},
   "source": [
    "On peut imaginer que certaines caractéristiques d'une entreprise peuvent influer sur la réussite ou l'échec d'une attaque cyber : \n",
    "\n",
    "    - âge des salariés\n",
    "    - rotation des salariés\n",
    "    - mobilité des salariés"
   ]
  },
  {
   "cell_type": "markdown",
   "id": "9b8436d1",
   "metadata": {},
   "source": [
    "### Age moyen des salariés <a class=\"anchor\" id=\"age\"></a>"
   ]
  },
  {
   "cell_type": "code",
   "execution_count": 223,
   "id": "b6a1dd4e",
   "metadata": {},
   "outputs": [],
   "source": [
    "#on imagine que les employés plus âgés sont moins sensibilisés au risque cyber que les plus jeunes\n",
    "def age_salarie(profil_etp): \n",
    "    age = profil_etp[5]\n",
    "    facteur = 1 \n",
    "    if age < 45: \n",
    "        facteur *= 0.7\n",
    "    return facteur"
   ]
  },
  {
   "cell_type": "code",
   "execution_count": 139,
   "id": "f7104d7d",
   "metadata": {},
   "outputs": [
    {
     "data": {
      "text/plain": [
       "0.7"
      ]
     },
     "execution_count": 139,
     "metadata": {},
     "output_type": "execute_result"
    }
   ],
   "source": [
    "age_salarie(Profil_entreprise_1)"
   ]
  },
  {
   "cell_type": "markdown",
   "id": "ca878720",
   "metadata": {},
   "source": [
    "## Fonction f(facteurs atténuation/aggravation) <a class=\"anchor\" id=\"fonction\"></a>"
   ]
  },
  {
   "cell_type": "code",
   "execution_count": 224,
   "id": "d02be51a",
   "metadata": {},
   "outputs": [],
   "source": [
    "#simple moyenne pondérée des sous scores\n",
    "def facteur(profil_etp):\n",
    "    return (probaformation(profil_etp)+probaSI(profil_etp)+age_salarie(profil_etp))/3"
   ]
  },
  {
   "cell_type": "code",
   "execution_count": 141,
   "id": "3af5d157",
   "metadata": {},
   "outputs": [
    {
     "data": {
      "text/plain": [
       "0.6866666666666665"
      ]
     },
     "execution_count": 141,
     "metadata": {},
     "output_type": "execute_result"
    }
   ],
   "source": [
    "facteur(Profil_entreprise_1)"
   ]
  },
  {
   "cell_type": "markdown",
   "id": "896fb06c",
   "metadata": {},
   "source": [
    "## Proba finale fréquence x réussite  <a class=\"anchor\" id=\"finalfreq\"></a>"
   ]
  },
  {
   "cell_type": "code",
   "execution_count": 225,
   "id": "a150ff01",
   "metadata": {},
   "outputs": [],
   "source": [
    "#simple multiplication frequence x reussite \n",
    "def probafinalefreq(etp): \n",
    "    return facteur(etp)*probafrequence(etp)"
   ]
  },
  {
   "cell_type": "code",
   "execution_count": 143,
   "id": "3390a84c",
   "metadata": {},
   "outputs": [
    {
     "data": {
      "text/plain": [
       "0.04930067194577776"
      ]
     },
     "execution_count": 143,
     "metadata": {},
     "output_type": "execute_result"
    }
   ],
   "source": [
    "probafinalefreq(Profil_entreprise_1)"
   ]
  },
  {
   "cell_type": "markdown",
   "id": "624e8240",
   "metadata": {},
   "source": [
    "# *** BLOC COUTS ***"
   ]
  },
  {
   "cell_type": "markdown",
   "id": "08cd33a6",
   "metadata": {},
   "source": [
    "# Estimation des montants des pertes - Fonction Coût <a class=\"anchor\" id=\"fonctioncout\"></a>"
   ]
  },
  {
   "cell_type": "markdown",
   "id": "12984da1",
   "metadata": {},
   "source": [
    "Nous pourrions : \n",
    "\n",
    "    - Représenter ce montant des pertes par une loi Gamma (ajustable avec des caractéristiques client)\n",
    "    - Utiliser les caractéristiques Client (fournies par Cybastion) \n",
    "    - Obtenir les impacts par honeypots\n",
    "    - Recopier directement d'autres outils dispos\n",
    "    - ..."
   ]
  },
  {
   "cell_type": "markdown",
   "id": "a7db5e51",
   "metadata": {},
   "source": [
    "Dans le cas de cette simulation, nous allons utiliser les caractéristiques des entreprises fictives que nous avons construit."
   ]
  },
  {
   "cell_type": "markdown",
   "id": "a9db3635",
   "metadata": {},
   "source": [
    "## Pertes liées aux revenus mensuels d'une entreprise <a class=\"anchor\" id=\"mensuel\"></a>"
   ]
  },
  {
   "cell_type": "markdown",
   "id": "650d0ae1",
   "metadata": {},
   "source": [
    "Première approche : \n",
    "\n",
    "                    - récupérer les revenus mensuels des années précédentes N-3/2/1 pour approcher les revenus mensuels à l'année N, période d'attaque.\n",
    "                    - cibler les services touchés par l'attaque pour affiner les revenus mensuels\n",
    "   \n",
    "Hypothèse : on pense qu'une attaque rend indispo les SI pendant au minimum 1 journée."
   ]
  },
  {
   "cell_type": "code",
   "execution_count": 144,
   "id": "90a6c5ff",
   "metadata": {},
   "outputs": [],
   "source": [
    "def cout(profil_etp):\n",
    "    # les facteurs random.uniform servent à prendre en compte les variations des revenus mensuels, hyp plus grande pour grosse entreprise, on choisit >1 pour \"assurer\" un certain coussin d'air pour l'assureur \n",
    "    # On pense que les fluctuations de revenus mensuels sont plus importantes pour une petite entreprise  \n",
    "    CA_etp=profil_etp[3]\n",
    "    facteur = 0\n",
    "    mois = ['Janvier', 'Février', 'Mars', 'Avril', 'Mai', 'Juin', 'Juillet', 'Août', 'Septembre', 'Octobre', 'Novembre', 'Décembre']\n",
    "    ca_par_mois = []\n",
    "    \n",
    "    if profil_etp[4] == 'Débutante': \n",
    "        facteur = 0.9\n",
    "    elif profil_etp[4] == 'Correct':\n",
    "        facteur = 0.95\n",
    "    else : \n",
    "        facteur = 0.99\n",
    "    \n",
    "    \n",
    "    \n",
    "    for i in range(12):\n",
    "        if profil_etp[1] == 'Agriculture': \n",
    "            if i in [4, 5, 6]:  \n",
    "                \n",
    "                ca_mois = CA_etp / 12 * np.random.uniform(1.1, 1.3) * 2\n",
    "            else:\n",
    "                ca_mois = CA_etp / 12 * np.random.uniform(1.1, 1.3)\n",
    "            ca_par_mois.append(ca_mois)            \n",
    "        elif profil_etp[1] == 'Banque/assurance' :\n",
    "            ca_mois = CA_etp/12 * np.random.uniform(0.98, 1.02)\n",
    "            ca_par_mois.append(ca_mois)\n",
    "        elif profil_etp[1] == 'Industrie':\n",
    "            if i in [11, 0, 1]:\n",
    "                ca_mois = CA_etp / 12 * np.random.uniform(1.02, 1.06) * 1.2\n",
    "            else : \n",
    "                ca_mois = CA_etp / 12 * np.random.uniform(1.02, 1.06)\n",
    "            ca_par_mois.append(ca_mois)\n",
    "        else :\n",
    "            ca_mois = CA_etp/12 * np.random.uniform(0.98, 1.02)\n",
    "            ca_par_mois.append(ca_mois)\n",
    "    \n",
    "    return mois, ca_par_mois"
   ]
  },
  {
   "cell_type": "code",
   "execution_count": 145,
   "id": "e52fd5d3",
   "metadata": {},
   "outputs": [
    {
     "data": {
      "text/plain": [
       "['Tanzanie',\n",
       " 'Industrie',\n",
       " '>250',\n",
       " 56000000,\n",
       " 'Correct',\n",
       " 35,\n",
       " 160,\n",
       " 'DDoS',\n",
       " ['Firewall', 'Anti-virus'],\n",
       " 'Aucune',\n",
       " None]"
      ]
     },
     "execution_count": 145,
     "metadata": {},
     "output_type": "execute_result"
    }
   ],
   "source": [
    "Profil_entreprise_1"
   ]
  },
  {
   "cell_type": "code",
   "execution_count": 146,
   "id": "7d40eaf8",
   "metadata": {},
   "outputs": [
    {
     "data": {
      "text/plain": [
       "(['Janvier',\n",
       "  'Février',\n",
       "  'Mars',\n",
       "  'Avril',\n",
       "  'Mai',\n",
       "  'Juin',\n",
       "  'Juillet',\n",
       "  'Août',\n",
       "  'Septembre',\n",
       "  'Octobre',\n",
       "  'Novembre',\n",
       "  'Décembre'],\n",
       " [5764909.448372569,\n",
       "  5934224.8773804745,\n",
       "  4863281.958831694,\n",
       "  4902491.047908068,\n",
       "  4790943.57693514,\n",
       "  4842265.175892087,\n",
       "  4834648.72107522,\n",
       "  4815382.271654246,\n",
       "  4839978.798525695,\n",
       "  4925409.401750562,\n",
       "  4834502.718017428,\n",
       "  5915777.742611218])"
      ]
     },
     "execution_count": 146,
     "metadata": {},
     "output_type": "execute_result"
    }
   ],
   "source": [
    "cout(Profil_entreprise_1)"
   ]
  },
  {
   "cell_type": "markdown",
   "id": "d983a284",
   "metadata": {},
   "source": [
    "## Calcul du revenu par jour par Entreprise <a class=\"anchor\" id=\"jour\"></a>"
   ]
  },
  {
   "cell_type": "code",
   "execution_count": 226,
   "id": "711cc6fa",
   "metadata": {},
   "outputs": [],
   "source": [
    "#on calcule les revenus par jour pour chaque mois\n",
    "def revenujour(profil_etp):\n",
    "    taille = len(cout(profil_etp)[1])\n",
    "    ca_jour = []\n",
    "    for j in range(taille): \n",
    "        ca_jour.append(round(cout(profil_etp)[1][j]/30))\n",
    "    return ca_jour"
   ]
  },
  {
   "cell_type": "markdown",
   "id": "46173971",
   "metadata": {},
   "source": [
    "## Pertes masse salariale <a class=\"anchor\" id=\"massesalariale\"></a>"
   ]
  },
  {
   "cell_type": "markdown",
   "id": "90b1ad45",
   "metadata": {},
   "source": [
    "On prend en compte les pertes liées à la masse salariale qui est payée lorsqu'elle est non productive, journalier."
   ]
  },
  {
   "cell_type": "code",
   "execution_count": 227,
   "id": "6482d480",
   "metadata": {},
   "outputs": [],
   "source": [
    "#on calcule la masse salariale suivant le nombre d'employés\n",
    "#ici le /30 sert \"juste\" à avoir des valeurs cohérentes, cela peutêtre supprimé lorsque d'autres charges seront ajoutées au modèle\n",
    "\n",
    "def calcul_perte_masse_salariale_jour(entreprise):\n",
    "    if entreprise[2] == '<10': \n",
    "        cout = entreprise[6]*1 /30\n",
    "    elif entreprise[2] == '10-49':\n",
    "        cout = entreprise[6]*10 / 30 \n",
    "    elif entreprise[2] == '50-250':\n",
    "        cout = entreprise[6]*50 / 30 \n",
    "    else: \n",
    "        cout = entreprise[6]*250 / 30 \n",
    "        \n",
    "    return cout"
   ]
  },
  {
   "cell_type": "markdown",
   "id": "073ac650",
   "metadata": {},
   "source": [
    "## Coûts prévisionnels/jour - Charges prévisionnelles/jour <a class=\"anchor\" id=\"coutprev\"></a>"
   ]
  },
  {
   "cell_type": "markdown",
   "id": "5b6e63ca",
   "metadata": {},
   "source": [
    "On fait l'hypothèse que les charges sont les mêmes d'une année sur l'autre."
   ]
  },
  {
   "cell_type": "markdown",
   "id": "605bc393",
   "metadata": {},
   "source": [
    "De la même façon, si le CA semble constant d'une année sur l'autre, d'un mois sur l'autre ou d'un jour sur l'autre (mieux), alors augmentation = 0, sinon on puet le modéliser."
   ]
  },
  {
   "cell_type": "code",
   "execution_count": 228,
   "id": "6b072902",
   "metadata": {},
   "outputs": [],
   "source": [
    "#ici on fait l'hypothèse directe que le CA de l'entreprise augmente d'une année sur l'autre\n",
    "def cout_previsionnel(entreprise, augmentation): \n",
    "    Couts_N = cout(entreprise)[1]\n",
    "    mois = cout(entreprise)[0]\n",
    "    for m in [0,1,2,3,4,5,6,7,8,9,10,11] :\n",
    "        Couts_N[m] = Couts_N[m]*(augmentation+1) # a modifier si l'hypothèse n'est plus valable\n",
    "    return Couts_N"
   ]
  },
  {
   "cell_type": "code",
   "execution_count": 150,
   "id": "1a8d1b97",
   "metadata": {},
   "outputs": [
    {
     "data": {
      "text/plain": [
       "[5723330.494333985,\n",
       " 5844845.604523432,\n",
       " 4771523.762438675,\n",
       " 4771838.072930936,\n",
       " 4937297.637739853,\n",
       " 4915923.181688684,\n",
       " 4768465.219686981,\n",
       " 4786718.588765552,\n",
       " 4901002.931377683,\n",
       " 4812478.84275489,\n",
       " 4777347.103408723,\n",
       " 5885375.000411222]"
      ]
     },
     "execution_count": 150,
     "metadata": {},
     "output_type": "execute_result"
    }
   ],
   "source": [
    "cout_previsionnel(Profil_entreprise_1,0)"
   ]
  },
  {
   "cell_type": "code",
   "execution_count": 151,
   "id": "2b943cf1",
   "metadata": {},
   "outputs": [],
   "source": [
    "def revenuprevjour(profil_etp, augmentation):\n",
    "    taille = len(cout_previsionnel(profil_etp,augmentation))\n",
    "    ca_jour = []\n",
    "    for j in range(taille): \n",
    "        ca_jour.append(round(cout_previsionnel(profil_etp,augmentation)[j]/30))\n",
    "    return ca_jour"
   ]
  },
  {
   "cell_type": "code",
   "execution_count": 229,
   "id": "a1d94972",
   "metadata": {},
   "outputs": [],
   "source": [
    "#obtention de la perte prévisionnelle par jour\n",
    "def soustraction(etp): \n",
    "    couts_jour = []\n",
    "    revenus_jours = revenuprevjour(etp,0)\n",
    "    for m in [0,1,2,3,4,5,6,7,8,9,10,11] :\n",
    "        couts_jour.append(revenus_jours[m]-calcul_perte_masse_salariale_jour(etp))\n",
    "    return couts_jour"
   ]
  },
  {
   "cell_type": "code",
   "execution_count": 153,
   "id": "861729d6",
   "metadata": {},
   "outputs": [
    {
     "data": {
      "text/plain": [
       "[189720.66666666666,\n",
       " 194167.66666666666,\n",
       " 158547.66666666666,\n",
       " 161092.66666666666,\n",
       " 161150.66666666666,\n",
       " 163242.66666666666,\n",
       " 159811.66666666666,\n",
       " 161796.66666666666,\n",
       " 158440.66666666666,\n",
       " 162980.66666666666,\n",
       " 159770.66666666666,\n",
       " 190374.66666666666]"
      ]
     },
     "execution_count": 153,
     "metadata": {},
     "output_type": "execute_result"
    }
   ],
   "source": [
    "soustraction(Profil_entreprise_1)"
   ]
  },
  {
   "cell_type": "markdown",
   "id": "8d6faf9b",
   "metadata": {},
   "source": [
    "## Calcul taux marge brute journaliere * nb jours d'attaque * (revenus prev/jour - charges prev/jour) <a class=\"anchor\" id=\"calculfi\"></a>"
   ]
  },
  {
   "cell_type": "markdown",
   "id": "bbbddad2",
   "metadata": {},
   "source": [
    "On utilise le calcul suivant : \n",
    "\n",
    "Couts perte d’exploitation =  Taux de marge brute x perte de CA prévisionnel. Avec :\n",
    "\n",
    "Marge brute = Chiffre d'affaires HT − Coût de production HT (ici on prend que les salariés)\n",
    "\n",
    "Taux de marge brute = (Marge brute HT / Chiffres d'affaires HT)\n",
    "\n",
    "Pertes de CA previsionnel = (Revenujour - massesalarialejour)* Nombre de jours d'indisponibilité\n",
    "\n",
    "\n",
    "Source : https://indemnisation-assurance.com/calcul-indemnisation-pertes-exploitation-comprendre-contrat-assurance-professionnelle/"
   ]
  },
  {
   "cell_type": "markdown",
   "id": "f2c22cee",
   "metadata": {},
   "source": [
    "### Calcul de la marge brute"
   ]
  },
  {
   "cell_type": "code",
   "execution_count": 154,
   "id": "22fbf50c",
   "metadata": {},
   "outputs": [],
   "source": [
    "def marge_brute(etp):\n",
    "    return (etp[3]-calcul_salaire(etp,salairemoyen)*12)/etp[3]"
   ]
  },
  {
   "cell_type": "markdown",
   "id": "319e12b2",
   "metadata": {},
   "source": [
    "### Calcul total des pertes"
   ]
  },
  {
   "cell_type": "code",
   "execution_count": 155,
   "id": "087fa57a",
   "metadata": {},
   "outputs": [],
   "source": [
    "# renvoie le montant des pertes pour une duree attaque donnée sur les mois de l'année\n",
    "\n",
    "def montant_pertes(entreprise, duree_attaque):\n",
    "    mois = ['Janvier', 'Février', 'Mars', 'Avril', 'Mai', 'Juin', 'Juillet', 'Août', 'Septembre', 'Octobre', 'Novembre', 'Décembre']\n",
    "    M_P = []\n",
    "    soustraction_prev = soustraction(entreprise)  # Assumption: You have defined the soustraction function elsewhere\n",
    "    marg_brute = marge_brute(entreprise)          # Assumption: You have defined the marge_brute function elsewhere\n",
    "    durees_possibles = set(range(1, 31))          # Durées possibles de l'attaque de 1 à 30\n",
    "    \n",
    "    montant_pertes_total = 0  # Pour calculer le total des pertes sur l'année\n",
    "    \n",
    "    for m in range(len(mois)): \n",
    "        montant = np.abs(soustraction_prev)\n",
    "        montant_attaque = montant * duree_attaque   # Montant ajusté en fonction de la durée de l'attaque\n",
    "        montant_perte = marg_brute * montant_attaque * np.random.uniform(0.99,1.01)\n",
    "        montant_pertes_total += montant_perte\n",
    "        \n",
    "    if np.all(montant_pertes_total / len(mois) > 0.10 * entreprise[3]):\n",
    "        M_P.append(montant_pertes_total / 20)  # Ajustement fait pour avoir des données \"cohérentes\"\n",
    "    else:\n",
    "        M_P.append(montant_pertes_total)\n",
    "    \n",
    "    return M_P[0].tolist()  # Convertir le premier élément de la liste en une liste simple\n"
   ]
  },
  {
   "cell_type": "code",
   "execution_count": 162,
   "id": "98fc7ecb",
   "metadata": {},
   "outputs": [
    {
     "data": {
      "text/plain": [
       "[2314937.112943941,\n",
       " 2284698.196278471,\n",
       " 1900367.072151425,\n",
       " 1909836.186594175,\n",
       " 1905095.6438390184,\n",
       " 1888958.6447633835,\n",
       " 1930151.0882494813,\n",
       " 1886085.5885481364,\n",
       " 1910291.087161589,\n",
       " 1951100.4564856535,\n",
       " 1955134.7062545628,\n",
       " 2307036.208352013]"
      ]
     },
     "execution_count": 162,
     "metadata": {},
     "output_type": "execute_result"
    }
   ],
   "source": [
    "montant_pertes(Profil_entreprise_1,1)"
   ]
  },
  {
   "cell_type": "code",
   "execution_count": 163,
   "id": "c3af7e6f",
   "metadata": {},
   "outputs": [
    {
     "data": {
      "text/plain": [
       "['Tanzanie',\n",
       " 'Industrie',\n",
       " '>250',\n",
       " 56000000,\n",
       " 'Correct',\n",
       " 35,\n",
       " 160,\n",
       " 'DDoS',\n",
       " ['Firewall', 'Anti-virus'],\n",
       " 'Aucune',\n",
       " None]"
      ]
     },
     "execution_count": 163,
     "metadata": {},
     "output_type": "execute_result"
    }
   ],
   "source": [
    "Profil_entreprise_1"
   ]
  },
  {
   "cell_type": "markdown",
   "id": "1ee69ca6",
   "metadata": {},
   "source": [
    "# *** Bloc risque *** <a class=\"anchor\" id=\"risque\"></a>"
   ]
  },
  {
   "cell_type": "markdown",
   "id": "3e980bef",
   "metadata": {},
   "source": [
    "On part du postulat que :\n",
    "\n",
    "$$ R_{N}^{C}= \\mathbb{E}[X_{N}^{C}] * \\mathbb{P}(A_{N ; i}^{C}) $$"
   ]
  },
  {
   "cell_type": "markdown",
   "id": "69050219",
   "metadata": {},
   "source": [
    "Où : \n",
    "- $$R_{N}^{C}$$ représente le risque cyber à l'année N pour une orga C\n",
    "- $$X_{N}^{C}$$ représente une v.a. associée montant d'une perte cyber année N pour orga C\n",
    "- $$A_{N ; i}^{C}$$ représente une attaque cyber i à l'année N pour orga C"
   ]
  },
  {
   "cell_type": "markdown",
   "id": "4539f877",
   "metadata": {},
   "source": [
    "Dans le cadre de cette simulation, on s'est concentré sur A(ttaque)=DDoS"
   ]
  },
  {
   "cell_type": "markdown",
   "id": "62d55e42",
   "metadata": {},
   "source": [
    "Nous avons précédemment calculé le montant lié à ces pertes. La partie complexe du pb réside dans la création d'une fonction qui prend f(caractéristiques entreprise, CA, maturité SI,...)."
   ]
  },
  {
   "cell_type": "markdown",
   "id": "ed7e802d",
   "metadata": {},
   "source": [
    "> Si on prend l'hypothèse que les probas sont indépendantes, une seule multiplication des probas suffirait mais c'est une hypothèse trop forte dans notre cas."
   ]
  },
  {
   "cell_type": "markdown",
   "id": "e5eec0e3",
   "metadata": {},
   "source": [
    "> On peut faire simple en utilisant une moyenne pondérée des probas. Mais quelles probas entrent en jeu ?  On peut utiliser : \n",
    "\n",
    "    - Différents profils par rapport au phishing\n",
    "    - Probabilité qu'une entreprise soit touchée par une attaque DDoS et subissent une perte d'exp\n",
    "    - ... (à définir) \n",
    "   "
   ]
  },
  {
   "cell_type": "markdown",
   "id": "c75dfbe3",
   "metadata": {},
   "source": [
    "Le cas le plus simple :\n",
    "\n",
    "    - à l'année N, on prend l'entreprise 1, on sait que montant_pertes(Entreprise_1)= E[X_{N}^{C}]\n",
    "    - Pour les probas, on estime que l'entreprise 1 a un niveau de maturité SI débutant, on prend en compte ses caractéristiques : pas de formation en cyber pour les employés, a déjà subi une attaque cyber.\n",
    "    - Pour l'entreprise 2, on estime que son niveau de maturité SI est bon, que les employés ont déjà cliqué sur des mails frauduleux et donc que l'entreprise a formé ses employés."
   ]
  },
  {
   "cell_type": "markdown",
   "id": "9af6fb2e",
   "metadata": {},
   "source": [
    "## Méthode de simulations et calcul risque <a class=\"anchor\" id=\"simu\"></a>"
   ]
  },
  {
   "cell_type": "markdown",
   "id": "e958b0ca",
   "metadata": {},
   "source": [
    "On souhaite réaliser un grand nombre de simulations afin d'obtenir une distribution des pertes. Méthode de type MC."
   ]
  },
  {
   "cell_type": "code",
   "execution_count": 188,
   "id": "7c0758a0",
   "metadata": {},
   "outputs": [
    {
     "data": {
      "image/png": "[encoded data removed]",
      "text/plain": [
       "<Figure size 640x480 with 1 Axes>"
      ]
     },
     "metadata": {},
     "output_type": "display_data"
    }
   ],
   "source": [
    "#simule les pertes financières de l'attaque pour une durée donnée\n",
    "def simulate_loss(entreprise, duree_attaque):\n",
    "    monthly_losses = montant_pertes(entreprise, duree_attaque)\n",
    "    total_loss = sum(monthly_losses)\n",
    "    return total_loss\n",
    "\n",
    "#simule le risque \n",
    "def simulate_risk(entreprise, n_simulations, duree_attaque):\n",
    "    risks = []\n",
    "    for _ in range(n_simulations):\n",
    "        loss = simulate_loss(entreprise, duree_attaque)\n",
    "        risks.append(loss)\n",
    "    mean_risk = np.mean(risks)\n",
    "    return risks, mean_risk\n",
    "\n",
    "\n",
    "#calcule la probabilité, si pour + d'aléa, ne pas la fixer avant l'appel de la fonction\n",
    "proba=probafinalefreq(Profil_entreprise_1)\n",
    "\n",
    "#méthode de simultation du risque + calcul moyenne\n",
    "def mesure_R(entreprise, n_simulations, duree_attaque,proba):\n",
    "    risks, mean_risk = simulate_risk(entreprise, n_simulations, duree_attaque)\n",
    "    risks = [risk * proba for risk in risks] \n",
    "    mean_risk *= proba  \n",
    "    return risks, mean_risk\n",
    "\n",
    "n_simulations = 300\n",
    "duree_attaque = 3\n",
    "entreprise = Profil_entreprise_1\n",
    "risk_values, risk_mean = mesure_R(entreprise, n_simulations, duree_attaque,proba)\n",
    "plt.hist(risk_values, bins=30, edgecolor='black', label='Exposition au risque',  density=True)\n",
    "plt.axvline(risk_mean, color='red', linestyle='dashed', linewidth=2, label='Moyenne')\n",
    "\n",
    "plt.legend()  \n",
    "plt.xlabel('Montant')\n",
    "plt.ylabel('Fréquence')\n",
    "plt.title('Exposition au risque')\n",
    "plt.show()"
   ]
  },
  {
   "cell_type": "code",
   "execution_count": 189,
   "id": "e0c2516f",
   "metadata": {},
   "outputs": [
    {
     "data": {
      "text/plain": [
       "2428427.745462481"
      ]
     },
     "execution_count": 189,
     "metadata": {},
     "output_type": "execute_result"
    }
   ],
   "source": [
    "risk_mean"
   ]
  },
  {
   "cell_type": "code",
   "execution_count": 230,
   "id": "3d26e20b",
   "metadata": {},
   "outputs": [
    {
     "data": {
      "text/plain": [
       "0.009930441244796959"
      ]
     },
     "execution_count": 230,
     "metadata": {},
     "output_type": "execute_result"
    }
   ],
   "source": [
    "#calcule le pourcentage du CA de l'entreprise impacté par l'attaque\n",
    "risk_mean/Profil_entreprise_1[3]"
   ]
  },
  {
   "cell_type": "markdown",
   "id": "e12d9af6",
   "metadata": {},
   "source": [
    "# Distribution des pertes globales <a class=\"anchor\" id=\"global\"></a>"
   ]
  },
  {
   "cell_type": "code",
   "execution_count": null,
   "id": "134ad6c2",
   "metadata": {},
   "outputs": [],
   "source": [
    "Profil_entreprise_1"
   ]
  },
  {
   "cell_type": "code",
   "execution_count": null,
   "id": "44e45937",
   "metadata": {},
   "outputs": [],
   "source": [
    "# à modifier l'attaque cyber\n",
    "Profil_entreprise_2 = "
   ]
  },
  {
   "cell_type": "code",
   "execution_count": null,
   "id": "ef6bfaeb",
   "metadata": {},
   "outputs": [],
   "source": [
    "# à modifier l'attaque cyber \n",
    "Profil_entreprise_3="
   ]
  },
  {
   "cell_type": "code",
   "execution_count": null,
   "id": "dd43c2bf",
   "metadata": {},
   "outputs": [],
   "source": [
    "risk_values_ransomware, risk_mean_ransomware = mesure_R(Profil_entreprise_1, 600, 12,probafrequence(Profil_entreprise_1))\n",
    "risk_values_phishing, risk_mean_phishing = mesure_R(Profil_entreprise_2, 600, 12,probafrequence(Profil_entreprise_2))\n",
    "risk_values_ddos, risk_mean_ddos = mesure_R(Profil_entreprise_3, 600, 12,probafrequence(Profil_entreprise_3))\n",
    "combined_risk_values = risk_values_ransomware + risk_values_phishing + risk_values_ddos\n",
    "\n",
    "plt.hist(combined_risk_values, bins=1000, edgecolor='black', label='Exposition au risque global', density=True)\n",
    "plt.axvline(np.mean(combined_risk_values), color='red', linestyle='dashed', linewidth=2, label='Moyenne')\n",
    "plt.legend()  \n",
    "plt.xlabel('Montant pertes')\n",
    "plt.ylabel('Fréquence')\n",
    "plt.title('Exposition au risque global')\n",
    "plt.show()"
   ]
  },
  {
   "cell_type": "code",
   "execution_count": null,
   "id": "c0a21e0d",
   "metadata": {},
   "outputs": [],
   "source": [
    "risk_mean_ransomware/(risk_mean_ransomware+risk_mean_phishing+risk_mean_ddos)*100"
   ]
  },
  {
   "cell_type": "code",
   "execution_count": null,
   "id": "f3ea0d59",
   "metadata": {},
   "outputs": [],
   "source": [
    "risk_mean_phishing/(risk_mean_ransomware+risk_mean_phishing+risk_mean_ddos)*100"
   ]
  },
  {
   "cell_type": "code",
   "execution_count": null,
   "id": "91382a02",
   "metadata": {},
   "outputs": [],
   "source": [
    "risk_mean_ddos/(risk_mean_ransomware+risk_mean_phishing+risk_mean_ddos)*100"
   ]
  },
  {
   "cell_type": "code",
   "execution_count": null,
   "id": "851b9fba",
   "metadata": {},
   "outputs": [],
   "source": [
    "risk_mean_ransomware+risk_mean_phishing+risk_mean_ddos"
   ]
  },
  {
   "cell_type": "code",
   "execution_count": null,
   "id": "e136c279",
   "metadata": {},
   "outputs": [],
   "source": [
    "global_losses = risk_mean_ransomware+risk_mean_phishing+risk_mean_ddos\n",
    "mean_loss = global_losses\n",
    "standard_deviation = 2000  \n",
    "num_simulations = 10000\n",
    "simulated_losses = np.random.normal(loc=mean_loss, scale=standard_deviation, size=num_simulations)\n",
    "plt.hist(simulated_losses, bins=100, edgecolor='black', label='Exposition au risque global', density=True)\n",
    "plt.axvline(global_losses, color='red', linestyle='dashed', linewidth=2, label='Montant global des pertes')\n",
    "plt.legend()  \n",
    "plt.xlabel('Montant des pertes')\n",
    "plt.ylabel('Fréquence')\n",
    "plt.title('Exposition au risque pour toutes les attaques cyber')\n",
    "plt.show()"
   ]
  },
  {
   "cell_type": "markdown",
   "id": "e8c2534d",
   "metadata": {},
   "source": [
    "# Fonction finale - concaténation - dashboard final <a class=\"anchor\" id=\"final\"></a>"
   ]
  },
  {
   "cell_type": "code",
   "execution_count": 191,
   "id": "171beb0e",
   "metadata": {},
   "outputs": [
    {
     "name": "stdout",
     "output_type": "stream",
     "text": [
      "Launching server at http://localhost:60187\n"
     ]
    },
    {
     "data": {
      "text/plain": [
       "<panel.io.server.Server at 0x244f30f8710>"
      ]
     },
     "execution_count": 191,
     "metadata": {},
     "output_type": "execute_result"
    }
   ],
   "source": [
    "pays_entreprise = pn.widgets.Select(name='Pays de l\\'entreprise', options=['Liberia', 'Afrique du Sud', 'Namibie', 'Tanzanie', 'Mozambique'])\n",
    "secteur_activite = pn.widgets.Select(name='Secteur d\\'activité', options=['Agriculture', 'Banque/Assurance', 'Industrie', 'Services médicaux'])\n",
    "taille_entreprise = pn.widgets.Select(name='Nombre d\\'employés de l\\'entreprise', options=['<10', '10-50', '50-250', '>250'])\n",
    "CA_entreprise = pn.widgets.IntInput(name='CA de l\\'entreprise', value=0)\n",
    "reseauSI_entreprise = pn.widgets.Select(name='Réseau SI de l\\'entreprise', options=['Débutante', 'Correct', 'Avancé'])  # Taille du réseau SI\n",
    "age_entreprise = pn.widgets.IntInput(name='Age moyen des salariés', value=0)\n",
    "\n",
    "\n",
    "protections = [['1', 'Firewall'],\n",
    "               ['2', 'Anti-virus'],\n",
    "               ['3', 'Maj régulières'],\n",
    "               ['4', 'Authentification à 2 facteurs'],\n",
    "               ['5', 'Mots de passe robustes'],\n",
    "               ['6', 'Navigation sécurisée'],\n",
    "               ['7', 'Sauvegardes régulières'],\n",
    "               ['8', 'Chiffrement des données']]\n",
    "\n",
    "df = pd.DataFrame(protections, columns=['Classement niveau de protection', 'Type de protection'])\n",
    "\n",
    "niveaux_selectionnes = pn.widgets.MultiSelect(name='Sélectionner les niveaux de protection', options=df['Type de protection'].tolist())\n",
    "attaques_selectionnees = pn.widgets.Select(name='Sélectionner une attaque cyber', options=['DDoS', 'Phishing', 'Ransomware'])\n",
    "\n",
    "options_list = [\"Formation cyber généraliste\", \"Formation au risque phishing\", \"Aucune\", \"Formation cyber généraliste et au risque phishing\"]\n",
    "first_selection = pn.widgets.Select(options=options_list)\n",
    "\n",
    "second_options_dict = {\n",
    "    \"Formation cyber généraliste\": [\"Formations ponctuelles\", \"Formations occasionnelles\", \"Formations régulières\"],\n",
    "    \"Formation au risque phishing\": [\"Formations ponctuelles\", \"Formations occasionnelles\", \"Formations régulières\"],\n",
    "    \"Formation cyber généraliste et au risque phishing\" :[\"Formations ponctuelles\", \"Formations occasionnelles\", \"Formations régulières\"],\n",
    "    \"Aucune\": []\n",
    "}\n",
    "\n",
    "second_selection = pn.widgets.Select()\n",
    "choix_formation = None\n",
    "choix_frequence = None\n",
    "\n",
    "salairemoyen = pd.read_excel('salairemoyen.xlsx', index_col=0)\n",
    "\n",
    "def update_first_selection(event):\n",
    "    global choix_formation\n",
    "    selected_option = event.new\n",
    "    choix_formation = selected_option\n",
    "    update_second_options()\n",
    "\n",
    "def update_second_selection(event):\n",
    "    global choix_frequence\n",
    "    selected_option = event.new\n",
    "    choix_frequence = selected_option\n",
    "\n",
    "first_selection.param.watch(update_first_selection, \"value\")\n",
    "second_selection.param.watch(update_second_selection, \"value\")\n",
    "\n",
    "formation_widget = pn.Column(\n",
    "    '# Formation',\n",
    "    first_selection,\n",
    "    second_selection,\n",
    "    sizing_mode='stretch_width'\n",
    ")\n",
    "\n",
    "profil_entreprise_liste = [\n",
    "    pays_entreprise.value,\n",
    "    taille_entreprise.value,\n",
    "    secteur_activite.value,\n",
    "    CA_entreprise.value,\n",
    "    reseauSI_entreprise.value,\n",
    "    age,\n",
    "    None,  \n",
    "    [],    \n",
    "    None,  \n",
    "    choix_formation,    \n",
    "    choix_frequence     \n",
    "]\n",
    "\n",
    "\n",
    "def update_profil_entreprise(event):\n",
    "    global profil_entreprise_liste, choix_formation, choix_frequence\n",
    "    \n",
    "    profil_entreprise_liste[0] = pays_entreprise.value\n",
    "    profil_entreprise_liste[1] = taille_entreprise.value\n",
    "    profil_entreprise_liste[2] = secteur_activite.value\n",
    "    profil_entreprise_liste[3] = CA_entreprise.value\n",
    "    profil_entreprise_liste[4] = reseauSI_entreprise.value\n",
    "    profil_entreprise_liste[5] = age_entreprise.value\n",
    "\n",
    "    profil_entreprise_liste[6] = salairemoyen.loc[secteur_activite.value,pays_entreprise.value]\n",
    "\n",
    "    profil_entreprise_liste[7] = niveaux_selectionnes.value\n",
    "\n",
    "    profil_entreprise_liste[8] = attaques_selectionnees.value\n",
    "\n",
    "    profil_entreprise_liste[9] = choix_formation\n",
    "    profil_entreprise_liste[10] = choix_frequence\n",
    "\n",
    "    profil_entreprise_text.value = str(profil_entreprise_liste)\n",
    "\n",
    "pays_entreprise.param.watch(update_profil_entreprise, 'value')\n",
    "secteur_activite.param.watch(update_profil_entreprise, 'value')\n",
    "taille_entreprise.param.watch(update_profil_entreprise, 'value')\n",
    "CA_entreprise.param.watch(update_profil_entreprise, 'value')\n",
    "reseauSI_entreprise.param.watch(update_profil_entreprise, 'value')\n",
    "age_entreprise.param.watch(update_profil_entreprise,'value')\n",
    "niveaux_selectionnes.param.watch(update_profil_entreprise, 'value')\n",
    "attaques_selectionnees.param.watch(update_profil_entreprise, 'value')\n",
    "first_selection.param.watch(update_profil_entreprise, \"value\")  \n",
    "second_selection.param.watch(update_profil_entreprise, \"value\")  \n",
    "\n",
    "\n",
    "profil_entreprise_text = pn.widgets.StaticText(value=str(profil_entreprise_liste), width=800)\n",
    "\n",
    "\n",
    "\n",
    "dashboard_profil_entreprise = pn.Column(\n",
    "    '# Profil d\\'entreprise',\n",
    "    pays_entreprise,\n",
    "    secteur_activite,\n",
    "    taille_entreprise,\n",
    "    CA_entreprise,\n",
    "    reseauSI_entreprise,\n",
    "    age_entreprise,\n",
    "    sizing_mode='stretch_width',\n",
    "    css_classes=['dashboard-column']\n",
    ")\n",
    "\n",
    "dashboard_protection_donnees = pn.Column(\n",
    "    '# Protections SI et choix attaque cyber',\n",
    "    niveaux_selectionnes,\n",
    "    attaques_selectionnees,\n",
    "    sizing_mode='stretch_width',\n",
    "    css_classes=['dashboard-column']\n",
    ")\n",
    "\n",
    "dashboard_formation = pn.Column(\n",
    "    '# Formations',\n",
    "    first_selection,\n",
    "    second_selection,\n",
    "    sizing_mode='stretch_width',\n",
    "    css_classes=['dashboard-column']\n",
    ")\n",
    "\n",
    "# Ajout d'un petit espace entre chaque colonne\n",
    "dashboard_row = pn.Row(\n",
    "    dashboard_profil_entreprise,\n",
    "    pn.Spacer(width=10),  # Espacement horizontal\n",
    "    dashboard_protection_donnees,\n",
    "    pn.Spacer(width=10),  # Espacement horizontal\n",
    "    dashboard_formation,\n",
    "    sizing_mode='stretch_width'\n",
    ")\n",
    "\n",
    "# Afficher le tableau de bord\n",
    "dashboard_row.show()"
   ]
  },
  {
   "cell_type": "code",
   "execution_count": 196,
   "id": "c169e95b",
   "metadata": {},
   "outputs": [
    {
     "data": {
      "text/plain": [
       "['Mozambique',\n",
       " '50-250',\n",
       " 'Services médicaux',\n",
       " 30000000,\n",
       " 'Correct',\n",
       " 35,\n",
       " 330,\n",
       " ['Chiffrement des données'],\n",
       " 'Phishing',\n",
       " 'Formation cyber généraliste et au risque phishing',\n",
       " 'Formations régulières']"
      ]
     },
     "execution_count": 196,
     "metadata": {},
     "output_type": "execute_result"
    }
   ],
   "source": [
    "profil_entreprise_liste"
   ]
  },
  {
   "cell_type": "code",
   "execution_count": 197,
   "id": "c3184148",
   "metadata": {},
   "outputs": [
    {
     "name": "stdout",
     "output_type": "stream",
     "text": [
      "Launching server at http://localhost:60250\n"
     ]
    },
    {
     "name": "stderr",
     "output_type": "stream",
     "text": [
      "C:\\Users\\eloise.cerciat\\anaconda3\\Lib\\site-packages\\numpy\\lib\\histograms.py:883: RuntimeWarning: invalid value encountered in divide\n",
      "  return n/db/n.sum(), bin_edges\n"
     ]
    },
    {
     "data": {
      "text/plain": [
       "<panel.io.server.Server at 0x244f3024310>"
      ]
     },
     "execution_count": 197,
     "metadata": {},
     "output_type": "execute_result"
    },
    {
     "data": {
      "image/png": "[encoded data removed]",
      "text/plain": [
       "<Figure size 400x200 with 1 Axes>"
      ]
     },
     "metadata": {},
     "output_type": "display_data"
    }
   ],
   "source": [
    "fig, ax = plt.subplots(figsize=(4, 2))\n",
    "plt.hist([], bins=30, edgecolor='black', label='', density=True)\n",
    "plt.axvline(0, color='red', linestyle='dashed', linewidth=2, label='Moyenne')\n",
    "plt.xlabel('Montants')\n",
    "plt.ylabel('Fréquence')\n",
    "plt.title('Exposition au risque')\n",
    "plt.tight_layout()\n",
    "initial_plot = pn.pane.Matplotlib(fig, tight=True)\n",
    "\n",
    "\n",
    "def update_graph(event):\n",
    "    global risk_mean\n",
    "    n_simulations = simulations.value\n",
    "    duree_attaque = duree.value\n",
    "    entreprise = profil_entreprise_liste\n",
    "    proba1 = probafinalefreq(profil_entreprise_liste)\n",
    "    risk_values, risk_mean = mesure_R(entreprise, n_simulations, duree_attaque, proba1)\n",
    "    \n",
    "    plt.clf()\n",
    "    plt.hist(risk_values, bins=30, edgecolor='black', label='', density=True)\n",
    "    plt.axvline(risk_mean, color='red', linestyle='dashed', linewidth=2, label='Moyenne')\n",
    "    plt.legend()  \n",
    "    plt.xlabel('Montants')\n",
    "    plt.ylabel('Fréquence')\n",
    "    plt.title('Exposition au risque')\n",
    "    plt.tight_layout()\n",
    "    initial_plot.object = plt.gcf()  \n",
    "\n",
    "\n",
    "simulations = pn.widgets.IntSlider(name='Nombre de simulations', value=300, start=100, end=1000)\n",
    "duree = pn.widgets.IntSlider(name=\"Durée de l'attaque\", value=28, start=1, end=30)\n",
    "update_button = pn.widgets.Button(name='Mettre à jour le graphique')\n",
    "update_button.on_click(update_graph)\n",
    "\n",
    "\n",
    "dashboard = pn.Column(\n",
    "    '# Exposition au risque',\n",
    "    simulations,\n",
    "    duree,\n",
    "    update_button,\n",
    "    initial_plot\n",
    ")\n",
    "\n",
    "dashboard.show()"
   ]
  },
  {
   "cell_type": "code",
   "execution_count": 198,
   "id": "129149bf",
   "metadata": {},
   "outputs": [
    {
     "data": {
      "text/plain": [
       "556104.7097086296"
      ]
     },
     "execution_count": 198,
     "metadata": {},
     "output_type": "execute_result"
    }
   ],
   "source": [
    "risk_mean"
   ]
  },
  {
   "cell_type": "code",
   "execution_count": 199,
   "id": "31975e0f",
   "metadata": {},
   "outputs": [
    {
     "data": {
      "text/plain": [
       "1.8536823656954322"
      ]
     },
     "execution_count": 199,
     "metadata": {},
     "output_type": "execute_result"
    }
   ],
   "source": [
    "risk_mean / profil_entreprise_liste[3]*100"
   ]
  },
  {
   "cell_type": "raw",
   "id": "6440e2f2",
   "metadata": {},
   "source": [
    "n_simulations = 3000\n",
    "duree_attaque = 28\n",
    "entreprise = profil_entreprise_liste\n",
    "proba1 = probafrequence(profil_entreprise_liste)\n",
    "risk_values, risk_mean = mesure_R(entreprise, n_simulations, duree_attaque,proba1)\n",
    "plt.hist(risk_values, bins=30, edgecolor='black', label='',  density=True)\n",
    "plt.axvline(risk_mean, color='red', linestyle='dashed', linewidth=2, label='Moyenne')\n",
    "\n",
    "plt.legend()  \n",
    "plt.xlabel('Montants')\n",
    "plt.ylabel('Fréquence')\n",
    "plt.title('Exposition au risque')\n",
    "plt.show()"
   ]
  },
  {
   "cell_type": "code",
   "execution_count": null,
   "id": "1dba400f",
   "metadata": {},
   "outputs": [],
   "source": [
    "profil_entreprise_liste"
   ]
  },
  {
   "cell_type": "markdown",
   "id": "8f36ade5",
   "metadata": {},
   "source": [
    "# ** EXTENSIONS**"
   ]
  },
  {
   "cell_type": "markdown",
   "id": "5a368e75",
   "metadata": {},
   "source": [
    "# Baromètre du risque / critères ANSSI <a class=\"anchor\" id=\"barometre\"></a>"
   ]
  },
  {
   "cell_type": "markdown",
   "id": "65ee35a1",
   "metadata": {},
   "source": [
    "https://www.ssi.gouv.fr/entreprise/protection-des-oiv/les-regles-de-securite/ \n",
    "L'ANSSI a défini des règles d'or en matière de protection cyber à l'encontre des entreprises, permettant ainsi aux assureurs de décider d'asssurer ou non.\n",
    "\n",
    "> baromètre externe à l'outil, à réflechir pour l'incorporation."
   ]
  },
  {
   "cell_type": "code",
   "execution_count": 129,
   "id": "5cf11459",
   "metadata": {},
   "outputs": [
    {
     "name": "stdout",
     "output_type": "stream",
     "text": [
      "Launching server at http://localhost:51657\n"
     ]
    },
    {
     "data": {
      "text/plain": [
       "<panel.io.server.Server at 0x1abc40b9550>"
      ]
     },
     "execution_count": 129,
     "metadata": {},
     "output_type": "execute_result"
    },
    {
     "data": {
      "image/png": "[encoded data removed]",
      "text/plain": [
       "<Figure size 640x480 with 1 Axes>"
      ]
     },
     "metadata": {},
     "output_type": "display_data"
    }
   ],
   "source": [
    "def regle1(sensibilisation):\n",
    "    if sensibilisation == 'Oui':\n",
    "        return 0\n",
    "    else:\n",
    "        return 1\n",
    "\n",
    "def regle2(homologation):\n",
    "    if homologation == 'Oui':\n",
    "        return 0\n",
    "    else:\n",
    "        return 1\n",
    "    \n",
    "    \n",
    "def regle3(cartographie):\n",
    "    if cartographie == 'Oui':\n",
    "        return 0\n",
    "    else: \n",
    "        return 1 \n",
    "\n",
    "def regle4(correctif):\n",
    "    if correctif == 'Oui':\n",
    "        return 0\n",
    "    else : \n",
    "        return 1 \n",
    "     \n",
    "def regle5(journalisation):\n",
    "    if journalisation == 'Oui':\n",
    "        return 0\n",
    "    else:\n",
    "        return 1\n",
    "def regle6(detection): \n",
    "    if detection == 'Oui':\n",
    "        return 0\n",
    "    else: \n",
    "        return 1\n",
    "\n",
    "def regle7(traitement):\n",
    "    if traitement == 'Oui': \n",
    "        return 0 \n",
    "    elif traitement == 'Partiellement':\n",
    "        return 0.5\n",
    "    else:\n",
    "        return 1 \n",
    "    \n",
    "def regle8(alerte):\n",
    "    if alerte=='Oui':\n",
    "        return 0\n",
    "    elif alerte == 'Partiellement':\n",
    "        return 0.5\n",
    "    else: \n",
    "        return 1 \n",
    "    \n",
    "def regle9(crise):\n",
    "    if crise=='Oui':\n",
    "        return 0\n",
    "    else: \n",
    "        return 1\n",
    "    \n",
    "def regle10(authentification):\n",
    "    if authentification=='Oui':\n",
    "        return 0 \n",
    "    elif authentification=='Partiellement':\n",
    "        return 0.5\n",
    "    else:\n",
    "        return 1\n",
    "    \n",
    "    \n",
    "def regle11(flux):\n",
    "    if flux=='Oui':\n",
    "        return 0\n",
    "    else : \n",
    "        return 1\n",
    "    \n",
    "def regle12(cloisement):\n",
    "    if cloisement == 'Oui':\n",
    "        return 0 \n",
    "    elif cloisement=='Partiellement':\n",
    "        return 0.5 \n",
    "    else: \n",
    "        return 1 \n",
    "\n",
    "def regle13(indicateurs):\n",
    "    if indicateurs == 'Oui':\n",
    "        return 0\n",
    "    else : \n",
    "        return 1\n",
    "    \n",
    "def regles_securite(sensibilisation, homologation, cartographie, correctif,journalisation,detection,traitement,alerte,crise,authentification,flux,cloisement,indicateurs):\n",
    "    resultat_regle1 = regle1(sensibilisation)\n",
    "    resultat_regle2 = regle2(homologation)\n",
    "    resultat_regle3 = regle3(cartographie)\n",
    "    resultat_regle4 = regle4(correctif)\n",
    "    resultat_regle5 = regle5(journalisation)\n",
    "    resultat_regle6 = regle6(detection)\n",
    "    resultat_regle7 = regle7(traitement)\n",
    "    resultat_regle8 = regle8(alerte)\n",
    "    resultat_regle9 = regle9(crise)\n",
    "    resultat_regle10 = regle10(authentification)\n",
    "    resultat_regle11 = regle11(flux)\n",
    "    resultat_regle12 = regle12(cloisement)\n",
    "    resultat_regle13 = regle13(indicateurs)\n",
    "    return resultat_regle1 + resultat_regle2 + resultat_regle3 + resultat_regle4 + resultat_regle5 + resultat_regle6 + resultat_regle7 + resultat_regle8 + resultat_regle9+ resultat_regle10 + resultat_regle11 + resultat_regle12 +resultat_regle13\n",
    "\n",
    "sensibilisation_select = pn.widgets.Select(options=['Oui', 'Non'], name='Avez-vous sensibilisé et formé vos employés au risque cyber?')\n",
    "homologation_select = pn.widgets.Select(options=['Oui', 'Non'], name='Avez-vous fait homologuer votre système informatique?')\n",
    "cartograhie_select = pn.widgets.Select(options=['Oui','Non'],name='Est-il possible d\\'avoir une cartographie à jour de votre SI ?')\n",
    "correctif_select = pn.widgets.Select(options=['Oui','Non'],name='Existe-t-il un suivi des correctifs SI?')\n",
    "journalisation_select = pn.widgets.Select(options=['Oui','Non'],name='Un système de journalisation est-il mis en place?')\n",
    "detection_select = pn.widgets.Select(options=['Oui','Non'],name='Un système de détection des attaques est-il mis en place?')\n",
    "traitement_select = pn.widgets.Select(options=['Oui','Non','Partiellement'],name='Les incidents de sécurité sont-ils traités?')\n",
    "alerte_select = pn.widgets.Select(options=['Oui','Non','Partiellement'], name='Les alertes liées au risque cyber sont-elles traitées?')\n",
    "crise_select = pn.widgets.Select(options=['Oui','Non'], name= 'Existe-t-il un plan de gestion de crise cyber?')\n",
    "authentification_select = pn.widgets.Select(options=['Oui','Non','Partiellement'], name='Existe-t-il une protection des éléments d\\'authentification ainsi qu\\'une gestion des privilèges?')\n",
    "flux_select = pn.widgets.Select(options=['Oui','Non'],name='Les flux administratifs sont-ils séparés des autres flux?')\n",
    "cloisement_select = pn.widgets.Select(options=['Oui','Non','Partiellement'],name='Les différents systèmes du SI sont-ils cloisonnés?')\n",
    "indicateurs_select = pn.widgets.Select(options=['Oui','Non'],name='Des indicateurs SI existent-ils et sont-ils exploités?')\n",
    "\n",
    "@pn.depends(sensibilisation_select.param.value, homologation_select.param.value, cartograhie_select.param.value, correctif_select.param.value, journalisation_select.param.value,detection_select.param.value, traitement_select.param.value, alerte_select.param.value, crise_select.param.value, authentification_select.param.value,flux_select.param.value, cloisement_select.param.value, flux_select.param.value)\n",
    "def update_barometre(sensibilisation, homologation, cartographie, correctif,journalisation,detection,traitement,alerte,crise,authentification,flux,cloisement,indicateurs):\n",
    "    valeur_barometre = regles_securite(sensibilisation, homologation, cartographie, correctif,journalisation,detection,traitement,alerte,crise,authentification,flux,cloisement,indicateurs)\n",
    "\n",
    "    colors = ['green', 'limegreen', 'yellowgreen', 'yellow', 'gold', 'orange', 'darkorange', 'orangered', 'red', 'darkred']\n",
    "    echelle = np.arange(0, 14)\n",
    "\n",
    "    fig, ax = plt.subplots()\n",
    "    ax.spines['right'].set_visible(False)\n",
    "    ax.spines['left'].set_visible(False)\n",
    "    ax.spines['top'].set_visible(False)\n",
    "    ax.spines['bottom'].set_visible(False)\n",
    "    ax.yaxis.set_ticks([])\n",
    "    ax.xaxis.set_ticks([])\n",
    "\n",
    "    for i in range(len(echelle)):\n",
    "        ax.barh(echelle[i], 1, align='center', color=colors[min(i, len(colors)-1)])\n",
    "\n",
    "    ax.axhline(y=valeur_barometre, color='black', linewidth=1, xmin=0, xmax=0.55)\n",
    "    ax.text(1.1, valeur_barometre + 0.25, str(valeur_barometre), fontsize=12, va='center')\n",
    "    ax.set_title('Baromètre risque / règles de sécurité')\n",
    "    plt.xlim(0, 2)\n",
    "    plt.ylim(0, 13)\n",
    "\n",
    "    barometre_pane = pn.pane.Matplotlib(fig, dpi=150)\n",
    "\n",
    "    return barometre_pane\n",
    "\n",
    "dashboard = pn.Column(\n",
    "    \"## Dashboard risque assureur\",\n",
    "    sensibilisation_select,\n",
    "    homologation_select,\n",
    "    cartograhie_select,\n",
    "    correctif_select,\n",
    "    journalisation_select,\n",
    "    detection_select,\n",
    "    traitement_select,\n",
    "    alerte_select,\n",
    "    crise_select,\n",
    "    authentification_select,\n",
    "    flux_select,\n",
    "    cloisement_select,\n",
    "    indicateurs_select,\n",
    "    update_barometre\n",
    ")\n",
    "\n",
    "dashboard.show()"
   ]
  },
  {
   "cell_type": "markdown",
   "id": "2add2240",
   "metadata": {},
   "source": [
    "# Prévisions aux années N+1 et N+2 <a class=\"anchor\" id=\"previsions\"></a>"
   ]
  },
  {
   "cell_type": "markdown",
   "id": "5c8a35fc",
   "metadata": {},
   "source": [
    "On cherche à obtenir une distribution des pertes aux années N+1 et N+2. Pour l'instant, les prévisions de pertes étaient estimées sur l'année N. Ces prévisions se basent, pour l'instant, uniquement sur les probas des différentes attaques (DDoS, phishing, ransomware).\n",
    "\n",
    "> Ces prévisions se basent sur des données empiriques, sourcées."
   ]
  },
  {
   "cell_type": "markdown",
   "id": "e9a2a7f1",
   "metadata": {},
   "source": [
    "## Le cas du phishing"
   ]
  },
  {
   "cell_type": "markdown",
   "id": "60ea507c",
   "metadata": {},
   "source": [
    "Les données sont issues de : https://www.itforbusiness.fr/letat-du-phishing-en-france-et-dans-le-monde-42404#:~:text=Dans%20les%20faits%2C%20m%C3%AAme%20si%2074%25%20des%20entreprises,entreprise%20sur%20deux%20victimes%20d%E2%80%99une%20attaque%20Phishing%20r%C3%A9ussie et représentent les probas P(garantie = pertes exp | attaque = réussie | attaque = Phishing)"
   ]
  },
  {
   "cell_type": "markdown",
   "id": "207bf308",
   "metadata": {},
   "source": [
    "### année N"
   ]
  },
  {
   "cell_type": "code",
   "execution_count": null,
   "id": "c237695d",
   "metadata": {},
   "outputs": [],
   "source": [
    "previsions = pd.read_excel('previsions.xlsx')\n",
    "previsions"
   ]
  },
  {
   "cell_type": "code",
   "execution_count": null,
   "id": "2676e5c7",
   "metadata": {},
   "outputs": [],
   "source": [
    "plt.plot(previsions['Année'], previsions['Phishing'], marker='o', linestyle='-', label=\"Phishing\")\n",
    "plt.plot(previsions['Année'], previsions['DDoS'], marker='o', linestyle='-', label='DDoS')\n",
    "plt.plot(previsions['Année'], previsions['Ransomware'], marker='o', linestyle='-', label=\"Ransomware\")\n",
    "plt.xlabel('Année')\n",
    "plt.ylabel('% qu\\'une attaque est survenue déclenchant la garantie')\n",
    "plt.legend()\n",
    "plt.xticks(previsions['Année'].astype(int))\n",
    "plt.show()"
   ]
  },
  {
   "cell_type": "markdown",
   "id": "96dda81e",
   "metadata": {},
   "source": [
    "## Le cas du ransomware"
   ]
  },
  {
   "cell_type": "markdown",
   "id": "e80018c9",
   "metadata": {},
   "source": [
    "Les données sont issues de : https://news.sophos.com/fr-fr/2022/04/28/etat-des-ransomwares-2022/#:~:text=Davantage%20de%20victimes%20paient%20la%20ran%C3%A7on%20%3A%20en,sauvegardes%20en%202021%20ont%20%C3%A9galement%20pay%C3%A9%20la%20ran%C3%A7on et représentent les probas P(garantie = pertes exp | attaque = réussie | attaque = ransomware)"
   ]
  },
  {
   "cell_type": "markdown",
   "id": "ded3271e",
   "metadata": {},
   "source": [
    "### année N"
   ]
  },
  {
   "cell_type": "code",
   "execution_count": null,
   "id": "99bdd755",
   "metadata": {},
   "outputs": [],
   "source": [
    "previsions_filtered = previsions[(previsions['Année'] >= 2019) & (previsions['Année'] <= 2022)]\n",
    "plt.plot(previsions_filtered['Année'], previsions_filtered['Ransomware'], marker='o', linestyle='-')\n",
    "plt.xlabel('Années')\n",
    "plt.ylabel('% qu\\'une attaque ransomware au moins ait réussie')\n",
    "plt.show()"
   ]
  },
  {
   "cell_type": "markdown",
   "id": "980d65e7",
   "metadata": {},
   "source": [
    "## Le cas du DDoS"
   ]
  },
  {
   "cell_type": "markdown",
   "id": "1d7d318c",
   "metadata": {},
   "source": [
    "Les données sont issues de : https://media.kasperskycontenthub.com/wp-content/uploads/sites/45/2018/03/08234158/IT_Risks_Survey_Report_Threat_of_DDoS_Attacks.pdf  et représentent les probas P(garantie = pertes exp | attaque = réussie | attaque = DDoS)"
   ]
  },
  {
   "cell_type": "markdown",
   "id": "727d60af",
   "metadata": {},
   "source": [
    "### année N"
   ]
  },
  {
   "cell_type": "code",
   "execution_count": null,
   "id": "a0d97a15",
   "metadata": {},
   "outputs": [],
   "source": [
    "plt.plot(previsions['Année'], previsions['DDoS'], marker='o', linestyle='-')\n",
    "plt.xlabel('Années')\n",
    "plt.ylabel('% qu\\'une attaque DDoS au moins ait réussie')\n",
    "plt.show()"
   ]
  },
  {
   "cell_type": "markdown",
   "id": "74e75258",
   "metadata": {},
   "source": [
    "## année N+1/2"
   ]
  },
  {
   "cell_type": "code",
   "execution_count": null,
   "id": "6cfb3898",
   "metadata": {},
   "outputs": [],
   "source": [
    "colonnes_a_predire = ['DDoS', 'Phishing', 'Ransomware']\n",
    "croissance_max = 8 #pourcentage\n",
    "predictions_2022 = previsions.iloc[-1, 1:]\n",
    "predictions_par_colonne = {}\n",
    "\n",
    "for colonne, prediction_2022 in zip(colonnes_a_predire, predictions_2022):\n",
    "    prediction_2023 = min(prediction_2022 + prediction_2022 * (croissance_max / 100), 100)\n",
    "    prediction_2024 = min(prediction_2023 + prediction_2023 * (croissance_max / 100), 100)\n",
    "    predictions_par_colonne[colonne] = [prediction_2023, prediction_2024]\n",
    "\n",
    "predictions_df = pd.DataFrame(predictions_par_colonne)\n",
    "predictions_df['Année'] = [2023, 2024]\n",
    "predictions_df = predictions_df[['Année', 'DDoS', 'Phishing', 'Ransomware']]\n",
    "previsions = pd.concat([previsions, predictions_df], ignore_index=True)\n",
    "\n",
    "print(previsions)"
   ]
  },
  {
   "cell_type": "code",
   "execution_count": null,
   "id": "d3c91178",
   "metadata": {},
   "outputs": [],
   "source": [
    "plt.plot(previsions['Année'], previsions['DDoS'], marker='o', linestyle='-')\n",
    "plt.xlabel('Années')\n",
    "plt.ylabel('% qu\\'une attaque DDoS au moins ait réussie')\n",
    "plt.show()"
   ]
  },
  {
   "cell_type": "code",
   "execution_count": null,
   "id": "daac4c93",
   "metadata": {},
   "outputs": [],
   "source": [
    "plt.plot(previsions['Année'], previsions['Phishing'], marker='o', linestyle='-')\n",
    "plt.xlabel('Années')\n",
    "plt.ylabel('% qu\\'une attaque Phishing au moins ait réussie')\n",
    "plt.show()"
   ]
  },
  {
   "cell_type": "code",
   "execution_count": null,
   "id": "8a9003cd",
   "metadata": {},
   "outputs": [],
   "source": [
    "plt.plot(previsions['Année'], previsions['Ransomware'], marker='o', linestyle='-')\n",
    "plt.xlabel('Années')\n",
    "plt.ylabel('% qu\\'une attaque Ransomware au moins ait réussie')\n",
    "plt.show()"
   ]
  },
  {
   "cell_type": "code",
   "execution_count": null,
   "id": "ca1a57e9",
   "metadata": {},
   "outputs": [],
   "source": [
    "plt.plot(previsions['Année'], previsions['Phishing'], marker='o', linestyle='-', label=\"Phishing\")\n",
    "plt.plot(previsions['Année'], previsions['DDoS'], marker='o', linestyle='-', label='DDoS')\n",
    "plt.plot(previsions['Année'], previsions['Ransomware'], marker='o', linestyle='-', label=\"Ransomware\")\n",
    "plt.xlabel('Année')\n",
    "plt.ylabel('% qu\\'une attaque est survenue déclenchant la garantie')\n",
    "plt.legend()\n",
    "plt.xticks(previsions['Année'].astype(int))\n",
    "plt.show()"
   ]
  },
  {
   "cell_type": "markdown",
   "id": "cfb6d22c",
   "metadata": {},
   "source": [
    "## Calcul du risque"
   ]
  },
  {
   "cell_type": "code",
   "execution_count": null,
   "id": "b4255b37",
   "metadata": {},
   "outputs": [],
   "source": [
    "def probapexpfreqatt_bis(profil_etp,N):\n",
    "    proba = 0\n",
    "    if N == '2022':\n",
    "        if profil_etp[8] == 'DDoS': \n",
    "            proba = proba_DDoS_pertesexp\n",
    "        elif profil_etp[8] == 'Phishing':\n",
    "            proba = proba_phishing_pertesexp \n",
    "        else : \n",
    "            proba = proba_ransomware_pertesexp\n",
    "    else : \n",
    "        if profil_etp[8] == 'DDoS': \n",
    "            proba = proba_DDoS_pertesexp_2023\n",
    "        elif profil_etp[8] == 'Phishing':\n",
    "            proba = proba_phishing_pertesexp_2023\n",
    "        else : \n",
    "            proba = proba_ransomware_pertesexp_2023\n",
    "    return proba  "
   ]
  },
  {
   "cell_type": "code",
   "execution_count": null,
   "id": "22fc0956",
   "metadata": {},
   "outputs": [],
   "source": [
    "def probapexpsurvenance_bis(profil_etp,N): #probas indép \n",
    "    return probapexpfreqatt_bis(profil_etp,N)*probacveAi(profil_etp)"
   ]
  },
  {
   "cell_type": "code",
   "execution_count": null,
   "id": "9567ab1a",
   "metadata": {},
   "outputs": [],
   "source": [
    "def probafrequence_bis(profil_etp,N):\n",
    "    return probapexpsurvenance_bis(profil_etp,N)*score(profil_etp)"
   ]
  },
  {
   "cell_type": "code",
   "execution_count": null,
   "id": "d26d7773",
   "metadata": {},
   "outputs": [],
   "source": [
    "def simulate_loss(entreprise, duree_attaque):\n",
    "    monthly_losses = montant_pertes(entreprise, duree_attaque)\n",
    "    total_loss = sum(monthly_losses)\n",
    "    return total_loss\n",
    "\n",
    "def simulate_risk(entreprise, n_simulations, duree_attaque):\n",
    "    risks = []\n",
    "    for _ in range(n_simulations):\n",
    "        loss = simulate_loss(entreprise, duree_attaque)\n",
    "        risks.append(loss)\n",
    "    mean_risk = np.mean(risks)\n",
    "    return risks, mean_risk\n",
    "\n",
    "\n",
    "proba=probafrequence_bis(profil_entreprise_liste,'2024')\n",
    "print(proba)\n",
    "def mesure_R(entreprise, n_simulations, duree_attaque):\n",
    "    risks, mean_risk = simulate_risk(entreprise, n_simulations, duree_attaque)\n",
    "    risks = [risk * proba for risk in risks]  # Multiply each risk value by proba\n",
    "    mean_risk *= proba  # Multiply the mean risk by proba\n",
    "    return risks, mean_risk\n",
    "\n",
    "n_simulations = 300\n",
    "duree_attaque = 12\n",
    "entreprise = Profil_entreprise_1\n",
    "risk_values, risk_mean = mesure_R(entreprise, n_simulations, duree_attaque)\n",
    "plt.hist(risk_values, bins=30, edgecolor='black', label='Risk distribution',  density=True)\n",
    "plt.axvline(risk_mean, color='red', linestyle='dashed', linewidth=2, label='Mean')\n",
    "\n",
    "plt.legend()  \n",
    "plt.xlabel('Values')\n",
    "plt.ylabel('Density')\n",
    "plt.title('Risk Distribution with Mean')\n",
    "plt.show()"
   ]
  },
  {
   "cell_type": "code",
   "execution_count": 231,
   "id": "852efe0c",
   "metadata": {},
   "outputs": [
    {
     "ename": "NameError",
     "evalue": "name 'sm' is not defined",
     "output_type": "error",
     "traceback": [
      "\u001b[1;31m---------------------------------------------------------------------------\u001b[0m",
      "\u001b[1;31mNameError\u001b[0m                                 Traceback (most recent call last)",
      "Cell \u001b[1;32mIn[231], line 16\u001b[0m\n\u001b[0;32m     14\u001b[0m \u001b[38;5;28;01mfor\u001b[39;00m attaque \u001b[38;5;129;01min\u001b[39;00m attaques:\n\u001b[0;32m     15\u001b[0m     y \u001b[38;5;241m=\u001b[39m df[attaque] \u001b[38;5;241m/\u001b[39m \u001b[38;5;241m100\u001b[39m  \u001b[38;5;66;03m# Conversion en proportions\u001b[39;00m\n\u001b[1;32m---> 16\u001b[0m     X \u001b[38;5;241m=\u001b[39m sm\u001b[38;5;241m.\u001b[39madd_constant(df[[\u001b[38;5;124m'\u001b[39m\u001b[38;5;124mAnnée\u001b[39m\u001b[38;5;124m'\u001b[39m, \u001b[38;5;124m'\u001b[39m\u001b[38;5;124mCroissance\u001b[39m\u001b[38;5;124m'\u001b[39m]])\n\u001b[0;32m     18\u001b[0m     model \u001b[38;5;241m=\u001b[39m sm\u001b[38;5;241m.\u001b[39mGLM(y, X, family\u001b[38;5;241m=\u001b[39msm\u001b[38;5;241m.\u001b[39mfamilies\u001b[38;5;241m.\u001b[39mBinomial(sm\u001b[38;5;241m.\u001b[39mfamilies\u001b[38;5;241m.\u001b[39mlinks\u001b[38;5;241m.\u001b[39mlogit()))\n\u001b[0;32m     19\u001b[0m     results \u001b[38;5;241m=\u001b[39m model\u001b[38;5;241m.\u001b[39mfit()\n",
      "\u001b[1;31mNameError\u001b[0m: name 'sm' is not defined"
     ]
    }
   ],
   "source": [
    "data = {\n",
    "    'Année': [2019, 2020, 2021, 2022],\n",
    "    'DDoS': [8, 10, 13, 33],\n",
    "    'Phishing': [10.0, 10.5, 11.0, 12.4],\n",
    "    'Ransomware': [8, 20, 26, 51]\n",
    "}\n",
    "\n",
    "df = pd.DataFrame(data)\n",
    "df['Croissance'] = np.arange(len(df)) * 0.02 + 1\n",
    "\n",
    "attaques = ['DDoS', 'Phishing', 'Ransomware']\n",
    "predictions_df = pd.DataFrame()\n",
    "\n",
    "for attaque in attaques:\n",
    "    y = df[attaque] / 100  # Conversion en proportions\n",
    "    X = sm.add_constant(df[['Année', 'Croissance']])\n",
    "    \n",
    "    model = sm.GLM(y, X, family=sm.families.Binomial(sm.families.links.logit()))\n",
    "    results = model.fit()\n",
    "    \n",
    "    croissance_2023 = len(df) * 0.02 + 1\n",
    "    prediction = results.predict([1, 2023, croissance_2023])\n",
    "    print(results)\n",
    "    \n",
    "    predictions_df[attaque] = [prediction[0] * 100]  # Conversion en pourcentages\n",
    "\n",
    "predictions_df['Année'] = [2023]\n",
    "\n",
    "predictions_df = predictions_df[['Année', 'DDoS', 'Phishing', 'Ransomware']]\n",
    "previsions = pd.concat([df, predictions_df], ignore_index=True)\n",
    "\n",
    "print(previsions)"
   ]
  },
  {
   "cell_type": "code",
   "execution_count": null,
   "id": "b976f250",
   "metadata": {},
   "outputs": [],
   "source": [
    "plt.plot(previsions['Année'], previsions['Phishing'], marker='o', linestyle='-', label=\"Phishing\")\n",
    "plt.plot(previsions['Année'], previsions['DDoS'], marker='o', linestyle='-', label='DDoS')\n",
    "plt.plot(previsions['Année'], previsions['Ransomware'], marker='o', linestyle='-', label=\"Ransomware\")\n",
    "plt.xlabel('Année')\n",
    "plt.ylabel('% qu\\'une attaque est survenue déclenchant la garantie')\n",
    "plt.legend()\n",
    "plt.xticks(previsions['Année'].astype(int))\n",
    "plt.show()"
   ]
  },
  {
   "cell_type": "code",
   "execution_count": null,
   "id": "fa98b92a",
   "metadata": {},
   "outputs": [],
   "source": [
    "proba_DDoS_pertesexp_2023 = previsions.loc[previsions['Année'] == 2023, 'DDoS'].values[0]/100\n",
    "proba_phishing_pertesexp_2023 = previsions.loc[previsions['Année'] == 2023, 'Phishing'].values[0]/100\n",
    "proba_ransomware_pertesexp_2023 = previsions.loc[previsions['Année'] == 2023, 'Ransomware'].values[0]/100"
   ]
  }
 ],
 "metadata": {
  "kernelspec": {
   "display_name": "Python 3 (ipykernel)",
   "language": "python",
   "name": "python3"
  },
  "language_info": {
   "codemirror_mode": {
    "name": "ipython",
    "version": 3
   },
   "file_extension": ".py",
   "mimetype": "text/x-python",
   "name": "python",
   "nbconvert_exporter": "python",
   "pygments_lexer": "ipython3",
   "version": "3.11.3"
  },
  "toc": {
   "base_numbering": 1,
   "nav_menu": {},
   "number_sections": true,
   "sideBar": true,
   "skip_h1_title": false,
   "title_cell": "Table of Contents",
   "title_sidebar": "Contents",
   "toc_cell": false,
   "toc_position": {
    "height": "calc(100% - 180px)",
    "left": "10px",
    "top": "150px",
    "width": "402px"
   },
   "toc_section_display": true,
   "toc_window_display": true
  }
 },
 "nbformat": 4,
 "nbformat_minor": 5
}
